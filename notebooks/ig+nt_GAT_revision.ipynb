{
 "cells": [
  {
   "cell_type": "code",
   "execution_count": 1,
   "metadata": {},
   "outputs": [],
   "source": [
    "%matplotlib inline\n",
    "\n",
    "import os \n",
    "import glob \n",
    "import sys\n",
    "sys.path.append('/home/ngr4/project/edge_feat/scripts')\n",
    "import pickle\n",
    "import torch\n",
    "import torch.nn as nn\n",
    "import torch.nn.functional as F\n",
    "import utils\n",
    "import load_data as data\n",
    "import math\n",
    "import numpy as np\n",
    "import pandas as pd\n",
    "import seaborn as sns\n",
    "from torch_geometric.nn import GCNConv\n",
    "import matplotlib.pyplot as plt\n",
    "from scipy.sparse import coo_matrix\n",
    "import graphtools as gt\n",
    "import phate\n",
    "import umap\n",
    "from sklearn.preprocessing import MinMaxScaler\n",
    "from sklearn import metrics\n",
    "import scanpy as sc\n",
    "from scipy import sparse\n",
    "import scprep\n",
    "import time\n",
    "import datetime\n",
    "from scipy.stats import zscore\n",
    "from adjustText import adjust_text\n",
    "\n",
    "\n",
    "from sklearn.linear_model import LogisticRegression\n",
    "from sklearn.isotonic import IsotonicRegression\n",
    "from sklearn.model_selection import train_test_split\n",
    "\n",
    "from captum.attr import (\n",
    "#     GradientShap,\n",
    "#     DeepLift,\n",
    "#     DeepLiftShap,\n",
    "    IntegratedGradients,\n",
    "#     LayerConductance,\n",
    "#     NeuronConductance,\n",
    "    NoiseTunnel,\n",
    ")\n",
    "\n",
    "\n",
    "\n",
    "plt.rc('font', size = 8)\n",
    "plt.rc('font', family='sans serif')\n",
    "plt.rcParams['pdf.fonttype']=42\n",
    "plt.rcParams['ps.fonttype']=42\n",
    "plt.rcParams['legend.frameon']=False\n",
    "sns.set_style(\"ticks\")"
   ]
  },
  {
   "cell_type": "code",
   "execution_count": 135,
   "metadata": {},
   "outputs": [],
   "source": [
    "# aesthetics\n",
    "# cmap_timepoint = {v:sns.light_palette((210, 90, 60), input=\"husl\")[1:][i] for i,v in enumerate(['5wk', '12wk', '18wk', '24wk', '30wk'])}\n",
    "\n",
    "cmap_timepoint = {v:sns.color_palette('BuGn')[1:][i] for i,v in enumerate(['5wk', '12wk', '18wk', '24wk', '30wk'])}\n",
    "\n",
    "cmap_genotime = {}\n",
    "for g in ['WT', 'SCA1']:\n",
    "    if g=='WT':\n",
    "        for i,v in enumerate(['5wk', '12wk', '18wk', '24wk', '30wk']):\n",
    "            cmap_genotime['{}_{}'.format(g, v)] = sns.cubehelix_palette(5, start=.5, rot=-.75)[i]\n",
    "    if g=='SCA1':\n",
    "        for i,v in enumerate(['5wk', '12wk', '18wk', '24wk', '30wk']):\n",
    "            cmap_genotime['{}_{}'.format(g, v)] = sns.cubehelix_palette(5)[i]\n",
    "            \n",
    "cmap_ctype={'Granule cell': '#FAC18A',\n",
    "            'Unipolar brush cell': '#BA61BA',\n",
    "            'Purkinje cell': '#EE5264',\n",
    "            'GABAergic interneuron 1': '#F9EBAE',\n",
    "            'GABAergic interneuron 2': '#88BB92',\n",
    "            'GABAergic interneuron 3': '#46A928',\n",
    "            'Astrocyte': '#F9AEAE',\n",
    "            'Bergmann glia': '#AEB7F9',\n",
    "            'Oligodendrocyte progenitor cell': '#F1815F',\n",
    "            'Oligodendrocyte': '#75A3B7',\n",
    "            'Microglia': '#AC5861',\n",
    "            'Pericyte': '#2D284B',\n",
    "            'Endothelial cell': '#1C67EE',\n",
    "            'Deep cerebellar nuclei': '#aaaaaa'}\n",
    "\n",
    "cmap_genotype={'WT':'#010101',\n",
    "               'SCA1':'#ffd478'}\n",
    "\n"
   ]
  },
  {
   "cell_type": "code",
   "execution_count": 3,
   "metadata": {},
   "outputs": [],
   "source": [
    "def load_mouse(file='/home/ngr4/project/scnd/data/processed/mouse_210726.h5ad'):\n",
    "    return sc.read(file)"
   ]
  },
  {
   "cell_type": "code",
   "execution_count": 4,
   "metadata": {},
   "outputs": [],
   "source": [
    "adata = load_mouse()"
   ]
  },
  {
   "cell_type": "code",
   "execution_count": 5,
   "metadata": {},
   "outputs": [],
   "source": [
    "class Encoder(nn.Module):\n",
    "    def __init__(self, dim_Q, dim_K, dim_V, s_max, d_model, num_heads, ln=False, skip=True):\n",
    "        super(Encoder, self).__init__()\n",
    "        self.dim_V = dim_V\n",
    "        self.num_heads = num_heads\n",
    "        self.skip = skip\n",
    "        self.s_max = s_max\n",
    "        #Maximum set size\n",
    "        self.d_model = d_model\n",
    "        self.fc_q = nn.Linear(dim_Q, d_model)\n",
    "        self.fc_k = nn.Linear(dim_K, d_model)\n",
    "        self.fc_v = nn.Linear(dim_K, d_model)\n",
    "        if ln:\n",
    "            self.ln0 = nn.LayerNorm(d_model)\n",
    "            self.ln1 = nn.LayerNorm(d_model)\n",
    "        #This is the classic pointwise feedforward in \"Attention is All you need\"\n",
    "        self.ff = nn.Sequential(\n",
    "        nn.Linear(d_model, 4 * d_model),\n",
    "        nn.ReLU(),\n",
    "        nn.Linear(4 * d_model, d_model))\n",
    "        self.fc_rep = nn.Linear(s_max, 1)\n",
    "        \n",
    "    # number of heads must divide output size = d_model\n",
    "    def forward(self, Q, K, return_attention, return_A):\n",
    "        Q = self.fc_q(Q)\n",
    "        K, V = self.fc_k(K), self.fc_v(K)\n",
    "        dim_split = self.d_model // self.num_heads\n",
    "        Q_ = torch.cat(Q.split(dim_split, 2), 0)\n",
    "        K_ = torch.cat(K.split(dim_split, 2), 0)\n",
    "        V_ = torch.cat(V.split(dim_split, 2), 0)\n",
    "        A = torch.softmax(Q_.bmm(K_.transpose(-2,-1))/math.sqrt(self.d_model), dim=-1)\n",
    "        A_1 = A.bmm(V_) \n",
    "        O = torch.cat((A_1).split(Q.size(0), 0), 2) \n",
    "        if return_attention:\n",
    "            attn = O\n",
    "        O = torch.cat((Q_ + A_1).split(Q.size(0), 0), 2) if getattr(self, 'skip', True) else \\\n",
    "             torch.cat((A_1).split(Q.size(0), 0), 2)\n",
    "        O = O if getattr(self, 'ln0', None) is None else self.ln0(O)\n",
    "\n",
    "        # For the classic transformers paper it is\n",
    "        O = O + self.ff(O)\n",
    "        O = O if getattr(self, 'ln1', None) is None else self.ln1(O)\n",
    "        O = O.transpose(-2,-1)\n",
    "        O = F.pad(O, (0, self.s_max- O.shape[-1]), 'constant', 0)\n",
    "        O = self.fc_rep(O)\n",
    "        O = O.squeeze() \n",
    "        if return_attention:\n",
    "            return O, attn\n",
    "        elif return_A:\n",
    "            return O, A\n",
    "        else:\n",
    "            return O\n",
    "    \n",
    "class SelfAttention_batch(nn.Module):\n",
    "    def __init__(self, s_max, dim_in=18, dim_out=8, num_heads=2, ln=True, skip=True):\n",
    "        super(SelfAttention_batch, self).__init__()\n",
    "        self.Encoder = Encoder(dim_in, dim_in, dim_in, s_max, dim_out, num_heads, ln=ln, skip=skip)\n",
    "        \n",
    "    def forward(self, X, return_attention=True, return_A=False):\n",
    "        return self.Encoder(X, X, return_attention, return_A)\n",
    "    \n",
    "class GAT(torch.nn.Module):\n",
    "    def __init__(self):\n",
    "        super(GAT, self).__init__()\n",
    "        self.gat1 = data.GATConv(d.num_node_features, out_channels=8,\n",
    "                                 heads=8, concat=True, negative_slope=0.2,\n",
    "                                 dropout=0.4, bias=True)\n",
    "        self.gat2 = data.GATConv(8*8, out_channels=d.y.unique().size()[0],\n",
    "                                 heads=8, concat=False, negative_slope=0.2,\n",
    "                                 dropout=0.4, bias=True)\n",
    "\n",
    "    def forward(self, data):\n",
    "        x, edge_index = data.x, data.edge_index\n",
    "        x, attn_gat1 = self.gat1(x, edge_index)\n",
    "        hprime = x # store embeddings \n",
    "        x = F.elu(x)\n",
    "        x, attn_gat2 = self.gat2(x, edge_index)\n",
    "        return F.log_softmax(x, dim=1), attn_gat1, attn_gat2, hprime\n",
    "    \n",
    "    \n",
    "class GAT_transformer_mlp_batch(torch.nn.Module):\n",
    "    def __init__(self):\n",
    "        super(GAT_transformer_mlp_batch, self).__init__()\n",
    "        self.gat1 = data.GATConv(d.num_node_features, out_channels=8,\n",
    "                                 heads=8, concat=True, negative_slope=0.2,\n",
    "                                 dropout=0.4, bias=True)\n",
    "        self.gat2 = data.GATConv(8*8, out_channels=8,\n",
    "                                 heads=8, concat=True, negative_slope=0.2,\n",
    "                                 dropout=0.4, bias=True)\n",
    "        self.transformer = SelfAttention_batch(s_max)\n",
    "        self.linear = nn.Linear(72, d.y.unique().size()[0])\n",
    "\n",
    "    def forward(self, data, edge_feats):\n",
    "        x, edge_index = data.x, data.edge_index\n",
    "        x, attn_gat1 = self.gat1(x, edge_index)\n",
    "        x = F.elu(x)\n",
    "        x_t, attn_trans = self.transformer(edge_feats)\n",
    "        x, attn_gat2 = self.gat2(x, edge_index)\n",
    "        x = self.linear(torch.cat((x,x_t),dim=1))\n",
    "        return F.log_softmax(x, dim=1), attn_trans, attn_gat1, attn_gat2\n",
    "    \n",
    "class GCN_transformer_mlp_batch(torch.nn.Module):\n",
    "    def __init__(self):\n",
    "        super(GCN_transformer_mlp_batch, self).__init__()\n",
    "        self.conv1 = GCNConv(d.num_node_features, 64)\n",
    "        self.conv2 = GCNConv(64, 64)\n",
    "        self.transformer = SelfAttention_batch(s_max)\n",
    "        self.linear = nn.Linear(72, d.y.unique().size()[0])\n",
    "\n",
    "    def forward(self, data, edge_feats):\n",
    "        x, edge_index = data.x, data.edge_index\n",
    "        x = self.conv1(x, edge_index)\n",
    "        x = F.relu(x)\n",
    "        x_t, attn_trans = self.transformer(edge_feats)\n",
    "        x = F.dropout(x, training=self.training)\n",
    "        x = self.conv2(x, edge_index)\n",
    "        x = self.linear(torch.cat((x,x_t),dim=1))\n",
    "        return F.log_softmax(x, dim=1), attn_trans\n",
    "    \n",
    "    \n",
    "# other utils fx \n",
    "def load_pkl(fname):\n",
    "    with open(fname, 'rb') as f:\n",
    "        data = pickle.load(f)\n",
    "        f.close()\n",
    "    return data\n",
    "\n",
    "def adata_phate(adata):\n",
    "    # compute PHATE\n",
    "    G = gt.Graph(data=adata.obsp['connectivities']+sparse.diags([1]*adata.shape[0],format='csr'),\n",
    "                 precomputed='adjacency',\n",
    "                 use_pygsp=True)\n",
    "    G.knn_max = None\n",
    "    \n",
    "    phate_op = phate.PHATE(knn_dist='precomputed',\n",
    "                           gamma=0,\n",
    "                           random_state=42)\n",
    "    adata.obsm['X_phate']=phate_op.fit_transform(G.K)\n",
    "    \n",
    "    return adata"
   ]
  },
  {
   "cell_type": "code",
   "execution_count": 6,
   "metadata": {},
   "outputs": [],
   "source": [
    "def main(d, **kwargs):\n",
    "    \n",
    "    batch_it = False \n",
    "    \n",
    "    if 'trans' in os.path.split(kwargs['modeleval_pkl'])[1].lower():\n",
    "        s_max = kwargs['s_max']\n",
    "        if 'gcn' in os.path.split(kwargs['modeleval_pkl'])[1].lower():\n",
    "            model = GCN_transformer_mlp_batch()\n",
    "        elif 'gat' in os.path.split(kwargs['modeleval_pkl'])[1].lower():\n",
    "            model = GAT_transformer_mlp_batch()\n",
    "    elif 'GAT'== kwargs['model']:\n",
    "        model = GAT()\n",
    "    model.eval()\n",
    "    model.load_state_dict(torch.load(kwargs['modeleval_pkl'], map_location=torch.device('cpu')))\n",
    "    \n",
    "    if batch_it:\n",
    "        # TODO: not implemented for GCN \n",
    "        cd_test = data.ClusterData(d,5000)\n",
    "        cl_test = data.ClusterLoader(cd_test,256,shuffle=True)\n",
    "\n",
    "        batch_loss_test = []\n",
    "        batch_acc_test = []\n",
    "\n",
    "        for batch in cl_test:\n",
    "            output, attn_trans, attn_gat1, attn_gat2 = model(batch, utils.edge_set_reshape(batch).float())\n",
    "            loss_test = F.nll_loss(output, batch.y)\n",
    "            batch_acc_test.append(utils.accuracy(output,batch.y).item())\n",
    "            batch_loss_test.append(loss_test.item())\n",
    "        print('Test set results:')\n",
    "        print('  <loss>_bacth={:.4f}'.format(np.mean(batch_loss_test)))\n",
    "        print('  <acc>_batch ={:.4f}'.format(np.mean(batch_acc_test)))\n",
    "    else:\n",
    "        if 'trans' in os.path.split(kwargs['modeleval_pkl'])[1].lower():\n",
    "            if 'gcn' in os.path.split(kwargs['modeleval_pkl'])[1].lower():\n",
    "                output, attn_trans = model(d, utils.edge_set_reshape(d).float())\n",
    "            elif 'gat' in os.path.split(kwargs['modeleval_pkl'])[1].lower():\n",
    "                output, attn_trans, attn_gat1, attn_gat2 = model(d, utils.edge_set_reshape(d).float())\n",
    "        elif 'GAT'== kwargs['model']:\n",
    "            output, attn_gat1, attn_gat2, hprime = model(d)\n",
    "        loss_test = F.nll_loss(output, d.y)\n",
    "        acc_test = utils.accuracy(output,d.y).item()\n",
    "        print('Test set results:')\n",
    "        print('  loss: {:.4f}'.format(loss_test))\n",
    "        print('  accuracy: {:.4f}'.format(acc_test))\n",
    "        \n",
    "    datapkl = load_pkl(kwargs['data_pkl'])\n",
    "    if 'trans' in os.path.split(kwargs['modeleval_pkl'])[1].lower():\n",
    "        return attn_gat1, attn_trans, datapkl, model, output # returns for only one batch if batch_it = True\n",
    "    elif 'GAT'== kwargs['model']:\n",
    "        return attn_gat1, attn_gat2, datapkl, model, output, hprime # returns for only one batch if batch_it = True\n",
    "\n",
    "def softmax(x):\n",
    "    \"\"\"Compute softmax values for each sets of scores in x.\"\"\"\n",
    "    e_x = np.exp(x - np.max(x))\n",
    "    return e_x / e_x.sum()\n",
    "\n",
    "def ss(x):\n",
    "    \"\"\"Sum of squares divided by sqrt N.\"\"\"\n",
    "    return np.sum(x**2)/np.sqrt(x.shape[0])"
   ]
  },
  {
   "cell_type": "code",
   "execution_count": 7,
   "metadata": {},
   "outputs": [],
   "source": [
    "# modify \n",
    "\n",
    "pfp = '/home/ngr4/project/scnd/results'\n",
    "pdfp = '/home/ngr4/project/scnd/data/processed'\n",
    "\n",
    "featnames = load_pkl(os.path.join(pdfp,'scnd_feat_names.pkl'))\n",
    "\n",
    "params = { \n",
    "        \n",
    "        ################################################################################\n",
    "        # modify\n",
    "        ################################################################################\n",
    "        'modeleval_pkl':'/home/ngr4/project/edge_feat/scripts/hbec/inftime_gattransmlpbatch/581-hbec_it_gattransmlpbatch1.pkl',\n",
    "        'data_pkl':'/home/ngr4/project/sccovid/data/processed/hbec_test_200529.pkl',\n",
    "        'sample':'hbec_it_gattransmlpbatch',\n",
    "        's_max': 36, # get from log, \n",
    "        'label':'yinftime',\n",
    "        'model':'GCN_transformer_mlp_batch', # GAT/GCN(_transformer)(_mlp)\n",
    "        'load_attn1':'yctype', # if load_attn is not None, give label for attn to load \n",
    "        'modelpkl_fname1':'/home/ngr4/project/sccovid/data/processed/338-hbec_ctype_gat1.pkl', # if load_attn is not None, indicate name of model pkl in pdfp\n",
    "        'load_attn2':'ybatch',\n",
    "        'modelpkl_fname2':'/home/ngr4/project/sccovid/data/processed/1148-hbec_batch_gat1.pkl',\n",
    "        'preloadn2v':True, # (bool) if load_attn is not None and preloadn2v is True, load the sample & datapkl edge attributes\n",
    "        ################################################################################\n",
    "        \n",
    "    }\n",
    "\n",
    "params_gcn = { \n",
    "        \n",
    "        ################################################################################\n",
    "        # modify\n",
    "        ################################################################################\n",
    "        'modeleval_pkl':'/home/ngr4/project/edge_feat/scripts/hbec/inftime_gcntransmlpbatch/705-hbec_gt_gcntransmlpbatch1.pkl',\n",
    "        'data_pkl':'/home/ngr4/project/sccovid/data/processed/hbec_test_200529.pkl',\n",
    "        'sample':'hbec_it_gcntransmlpbatch',\n",
    "        's_max': 41, # get from log, \n",
    "        'label':'yinftime',\n",
    "        'model':'GCN_transformer_mlp_batch', # GAT/GCN(_transformer)(_mlp)\n",
    "        'load_attn1':'yctype', # if load_attn is not None, give label for attn to load \n",
    "        'modelpkl_fname1':'/home/ngr4/project/sccovid/data/processed/338-hbec_ctype_gat1.pkl', # if load_attn is not None, indicate name of model pkl in pdfp\n",
    "        'load_attn2':'ybatch',\n",
    "        'modelpkl_fname2':'/home/ngr4/project/sccovid/data/processed/1148-hbec_batch_gat1.pkl',\n",
    "        'preloadn2v':True, # (bool) if load_attn is not None and preloadn2v is True, load the sample & datapkl edge attributes\n",
    "        ################################################################################\n",
    "        \n",
    "    }\n",
    "\n",
    "params5wk = {\n",
    "\n",
    "        ################################################################################\n",
    "        # hyperparams\n",
    "        ################################################################################\n",
    "#         'pdfp':'/home/ngr4/project/edge_feat/data/processed/',\n",
    "#         'data_train_pkl':'scnd_train_33p_200525.pkl',\n",
    "#         'data_val_pkl':'scnd_test_7p_200525.pkl',\n",
    "        'modeleval_pkl':'/home/ngr4/project/scnd/data/processed/GAT/SCA1_5wk/151-scnd1.pkl',\n",
    "        'data_pkl':'/home/ngr4/project/scnd/data/processed/scnd_test_7p_200525.pkl',\n",
    "        'sample':'scnd',\n",
    "        'label':'SCA1_5wk',\n",
    "        's_max': None, \n",
    "        'model':'GAT', # GAT/GCN(_transformer)(_mlp)\n",
    "        'load_attn1':None, # if load_attn is not None, give label for attn to load \n",
    "        'modelpkl_fname1':None, # if load_attn is not None, indicate name of model pkl in pdfp\n",
    "        'load_attn2':None,\n",
    "        'modelpkl_fname2':None,\n",
    "        'preloadn2v':False, # (bool) if load_attn is not None and preloadn2v is True, load the sample & datapkl edge attributes\n",
    "        ################################################################################\n",
    "\n",
    "    }\n",
    "\n",
    "params12wk = {\n",
    "\n",
    "        ################################################################################\n",
    "        # hyperparams\n",
    "        ################################################################################\n",
    "#         'pdfp':'/home/ngr4/project/edge_feat/data/processed/',\n",
    "#         'data_train_pkl':'scnd_train_33p_200525.pkl',\n",
    "#         'data_val_pkl':'scnd_test_7p_200525.pkl',\n",
    "        'modeleval_pkl':'/home/ngr4/project/scnd/data/processed/GAT/SCA1_12wk/138-scnd1.pkl',\n",
    "        'data_pkl':'/home/ngr4/project/scnd/data/processed/scnd_test_7p_200525.pkl',\n",
    "        'sample':'scnd',\n",
    "        'label':'SCA1_12wk',\n",
    "        's_max': None, \n",
    "        'model':'GAT', # GAT/GCN(_transformer)(_mlp)\n",
    "        'load_attn1':None, # if load_attn is not None, give label for attn to load \n",
    "        'modelpkl_fname1':None, # if load_attn is not None, indicate name of model pkl in pdfp\n",
    "        'load_attn2':None,\n",
    "        'modelpkl_fname2':None,\n",
    "        'preloadn2v':False, # (bool) if load_attn is not None and preloadn2v is True, load the sample & datapkl edge attributes\n",
    "        ################################################################################\n",
    "\n",
    "    }\n",
    "\n",
    "params18wk = {\n",
    "\n",
    "        ################################################################################\n",
    "        # hyperparams\n",
    "        ################################################################################\n",
    "#         'pdfp':'/home/ngr4/project/edge_feat/data/processed/',\n",
    "#         'data_train_pkl':'scnd_train_33p_200525.pkl',\n",
    "#         'data_val_pkl':'scnd_test_7p_200525.pkl',\n",
    "        'modeleval_pkl':'/home/ngr4/project/scnd/data/processed/GAT/SCA1_18wk/81-scnd1.pkl',\n",
    "        'data_pkl':'/home/ngr4/project/scnd/data/processed/scnd_test_7p_200525.pkl',\n",
    "        'sample':'scnd',\n",
    "        'label':'SCA1_18wk',\n",
    "        's_max': None, \n",
    "        'model':'GAT', # GAT/GCN(_transformer)(_mlp)\n",
    "        'load_attn1':None, # if load_attn is not None, give label for attn to load \n",
    "        'modelpkl_fname1':None, # if load_attn is not None, indicate name of model pkl in pdfp\n",
    "        'load_attn2':None,\n",
    "        'modelpkl_fname2':None,\n",
    "        'preloadn2v':False, # (bool) if load_attn is not None and preloadn2v is True, load the sample & datapkl edge attributes\n",
    "        ################################################################################\n",
    "\n",
    "    }\n",
    "\n",
    "params24wk = {\n",
    "\n",
    "        ################################################################################\n",
    "        # hyperparams\n",
    "        ################################################################################\n",
    "#         'pdfp':'/home/ngr4/project/edge_feat/data/processed/',\n",
    "#         'data_train_pkl':'scnd_train_33p_200525.pkl',\n",
    "#         'data_val_pkl':'scnd_test_7p_200525.pkl',\n",
    "        'modeleval_pkl':'/home/ngr4/project/scnd/data/processed/GAT/SCA1_24wk/224-scnd1.pkl',\n",
    "        'data_pkl':'/home/ngr4/project/scnd/data/processed/scnd_test_7p_200525.pkl',\n",
    "        'sample':'scnd',\n",
    "        'label':'SCA1_24wk',\n",
    "        's_max': None, \n",
    "        'model':'GAT', # GAT/GCN(_transformer)(_mlp)\n",
    "        'load_attn1':None, # if load_attn is not None, give label for attn to load \n",
    "        'modelpkl_fname1':None, # if load_attn is not None, indicate name of model pkl in pdfp\n",
    "        'load_attn2':None,\n",
    "        'modelpkl_fname2':None,\n",
    "        'preloadn2v':False, # (bool) if load_attn is not None and preloadn2v is True, load the sample & datapkl edge attributes\n",
    "        ################################################################################\n",
    "\n",
    "    }\n",
    "\n",
    "params30wk = {\n",
    "\n",
    "        ################################################################################\n",
    "        # hyperparams\n",
    "        ################################################################################\n",
    "#         'pdfp':'/home/ngr4/project/edge_feat/data/processed/',\n",
    "#         'data_train_pkl':'scnd_train_33p_200525.pkl',\n",
    "#         'data_val_pkl':'scnd_test_7p_200525.pkl',\n",
    "        'modeleval_pkl':'/home/ngr4/project/scnd/data/processed/GAT/SCA1_30wk/72-scnd1.pkl',\n",
    "        'data_pkl':'/home/ngr4/project/scnd/data/processed/scnd_test_7p_200525.pkl',\n",
    "        'sample':'scnd',\n",
    "        'label':'SCA1_30wk',\n",
    "        's_max': None, \n",
    "        'model':'GAT', # GAT/GCN(_transformer)(_mlp)\n",
    "        'load_attn1':None, # if load_attn is not None, give label for attn to load \n",
    "        'modelpkl_fname1':None, # if load_attn is not None, indicate name of model pkl in pdfp\n",
    "        'load_attn2':None,\n",
    "        'modelpkl_fname2':None,\n",
    "        'preloadn2v':False, # (bool) if load_attn is not None and preloadn2v is True, load the sample & datapkl edge attributes\n",
    "        ################################################################################\n",
    "\n",
    "    }\n",
    "\n",
    "params_sca1 = {\n",
    "\n",
    "        ################################################################################\n",
    "        # hyperparams\n",
    "        ################################################################################\n",
    "#         'pdfp':'/home/ngr4/project/edge_feat/data/processed/',\n",
    "#         'data_train_pkl':'scnd_train_33p_200525.pkl',\n",
    "#         'data_val_pkl':'scnd_test_7p_200525.pkl',\n",
    "        'modeleval_pkl':'/home/ngr4/project/scnd/data/processed/GAT/SCA1/51-scnd1.pkl',\n",
    "        'data_pkl':'/home/ngr4/project/scnd/data/processed/scnd_test_7p_200525.pkl',\n",
    "        'sample':'scnd',\n",
    "        'label':'ysca1',\n",
    "        's_max': None, \n",
    "        'model':'GAT', # GAT/GCN(_transformer)(_mlp)\n",
    "        'load_attn1':None, # if load_attn is not None, give label for attn to load \n",
    "        'modelpkl_fname1':None, # if load_attn is not None, indicate name of model pkl in pdfp\n",
    "        'load_attn2':None,\n",
    "        'modelpkl_fname2':None,\n",
    "        'preloadn2v':False, # (bool) if load_attn is not None and preloadn2v is True, load the sample & datapkl edge attributes\n",
    "        ################################################################################\n",
    "\n",
    "    }\n",
    "\n",
    "params_gt = { #genotime\n",
    "\n",
    "        ################################################################################\n",
    "        # hyperparams\n",
    "        ################################################################################\n",
    "#         'pdfp':'/home/ngr4/project/edge_feat/data/processed/',\n",
    "#         'data_train_pkl':'scnd_train_33p_200525.pkl',\n",
    "#         'data_val_pkl':'scnd_test_7p_200525.pkl',\n",
    "        'modeleval_pkl':'/home/ngr4/project/scnd/data/processed/GAT/genotype_time/584-scnd_gt1.pkl',\n",
    "        'data_pkl':'/home/ngr4/project/scnd/data/processed/scnd_test_7p_200525.pkl',\n",
    "        'sample':'scnd',\n",
    "        'label':'ygenotime',\n",
    "        's_max': None, \n",
    "        'model':'GAT', # GAT/GCN(_transformer)(_mlp)\n",
    "        'load_attn1':None, # if load_attn is not None, give label for attn to load \n",
    "        'modelpkl_fname1':None, # if load_attn is not None, indicate name of model pkl in pdfp\n",
    "        'load_attn2':None,\n",
    "        'modelpkl_fname2':None,\n",
    "        'preloadn2v':False, # (bool) if load_attn is not None and preloadn2v is True, load the sample & datapkl edge attributes\n",
    "        ################################################################################\n",
    "\n",
    "    }\n",
    "\n"
   ]
  },
  {
   "cell_type": "markdown",
   "metadata": {},
   "source": [
    "### Integrated gradients for WT v. MUT"
   ]
  },
  {
   "cell_type": "code",
   "execution_count": 8,
   "metadata": {},
   "outputs": [],
   "source": [
    "# modify class\n",
    "class GAT(torch.nn.Module):\n",
    "    def __init__(self):\n",
    "        super(GAT, self).__init__()\n",
    "        self.gat1 = data.GATConv(d.num_node_features, out_channels=8,\n",
    "                                 heads=8, concat=True, negative_slope=0.2,\n",
    "                                 dropout=0.4, bias=True)\n",
    "        self.gat2 = data.GATConv(8*8, out_channels=d.y.unique().size()[0],\n",
    "                                 heads=8, concat=False, negative_slope=0.2,\n",
    "                                 dropout=0.4, bias=True)\n",
    "\n",
    "    def forward(self, x, edge_index):\n",
    "#         x, edge_index = data.x, data.edge_index\n",
    "        x, attn_gat1 = self.gat1(x, edge_index)\n",
    "        hprime = x # store embeddings \n",
    "        x = F.elu(x)\n",
    "        x, attn_gat2 = self.gat2(x, edge_index)\n",
    "        return F.log_softmax(x, dim=1)\n",
    "    \n",
    "    \n",
    "def main(d, **kwargs):\n",
    "    \n",
    "    batch_it = False \n",
    "    \n",
    "    if 'trans' in os.path.split(kwargs['modeleval_pkl'])[1].lower():\n",
    "        s_max = kwargs['s_max']\n",
    "        if 'gcn' in os.path.split(kwargs['modeleval_pkl'])[1].lower():\n",
    "            model = GCN_transformer_mlp_batch()\n",
    "        elif 'gat' in os.path.split(kwargs['modeleval_pkl'])[1].lower():\n",
    "            model = GAT_transformer_mlp_batch()\n",
    "    elif 'GAT'== kwargs['model']:\n",
    "        model = GAT()\n",
    "    model.eval()\n",
    "    model.load_state_dict(torch.load(kwargs['modeleval_pkl'], map_location=torch.device('cpu')))\n",
    "    \n",
    "    if batch_it:\n",
    "        # TODO: not implemented for GCN \n",
    "        cd_test = data.ClusterData(d,5000)\n",
    "        cl_test = data.ClusterLoader(cd_test,256,shuffle=True)\n",
    "\n",
    "        batch_loss_test = []\n",
    "        batch_acc_test = []\n",
    "\n",
    "        for batch in cl_test:\n",
    "            output, attn_trans, attn_gat1, attn_gat2 = model(batch, utils.edge_set_reshape(batch).float())\n",
    "            loss_test = F.nll_loss(output, batch.y)\n",
    "            batch_acc_test.append(utils.accuracy(output,batch.y).item())\n",
    "            batch_loss_test.append(loss_test.item())\n",
    "        print('Test set results:')\n",
    "        print('  <loss>_bacth={:.4f}'.format(np.mean(batch_loss_test)))\n",
    "        print('  <acc>_batch ={:.4f}'.format(np.mean(batch_acc_test)))\n",
    "    else:\n",
    "        if 'trans' in os.path.split(kwargs['modeleval_pkl'])[1].lower():\n",
    "            if 'gcn' in os.path.split(kwargs['modeleval_pkl'])[1].lower():\n",
    "                output, attn_trans = model(d, utils.edge_set_reshape(d).float())\n",
    "            elif 'gat' in os.path.split(kwargs['modeleval_pkl'])[1].lower():\n",
    "                output, attn_trans, attn_gat1, attn_gat2 = model(d, utils.edge_set_reshape(d).float())\n",
    "        elif 'GAT'== kwargs['model']:\n",
    "            output = model(d.x, d.edge_index)\n",
    "        loss_test = F.nll_loss(output, d.y)\n",
    "        acc_test = utils.accuracy(output,d.y).item()\n",
    "        print('Test set results:')\n",
    "        print('  loss: {:.4f}'.format(loss_test))\n",
    "        print('  accuracy: {:.4f}'.format(acc_test))\n",
    "        \n",
    "    datapkl = load_pkl(kwargs['data_pkl'])\n",
    "    if 'trans' in os.path.split(kwargs['modeleval_pkl'])[1].lower():\n",
    "        return attn_gat1, attn_trans, datapkl, model, output # returns for only one batch if batch_it = True\n",
    "    elif 'GAT'== kwargs['model']:\n",
    "        return datapkl, model, output # returns for only one batch if batch_it = True\n",
    "\n",
    "def custom_forward(x, edge_index):\n",
    "    return model(x.squeeze(), edge_index[0])"
   ]
  },
  {
   "cell_type": "code",
   "execution_count": 9,
   "metadata": {},
   "outputs": [
    {
     "name": "stdout",
     "output_type": "stream",
     "text": [
      "node2vec model fitting...\n"
     ]
    },
    {
     "name": "stderr",
     "output_type": "stream",
     "text": [
      "Computing transition probabilities: 100%|██████████| 21327/21327 [06:24<00:00, 55.44it/s]\n",
      "Generating walks (CPU: 1): 100%|██████████| 10/10 [16:39<00:00, 99.96s/it]\n"
     ]
    },
    {
     "name": "stdout",
     "output_type": "stream",
     "text": [
      "  embeddings calculated in 1564.0-s\n",
      "Dot prod per 1041623 edges\n",
      "\n",
      "Data shapes:\n",
      "Data(edge_attr=[1041623, 1], edge_index=[2, 1041623], x=[21327, 26374], y=[21327])\n",
      "\n",
      "Test set results:\n",
      "  loss: 0.3733\n",
      "  accuracy: 0.8386\n",
      "ysca1 results\n",
      "-----------------------\n",
      "Accuracy      : 0.8393\n",
      "Sensitivity   : 0.8430\n",
      "Specificity   : 0.8359\n",
      "\n",
      "Ave. precision: 0.9203\n",
      "Precision     : 0.4328\n",
      "Recall        : 0.9894\n",
      "\n",
      "AU-ROC        : 0.9154\n",
      "AU-PRC        : 0.9203\n",
      "Brier         : 0.1174\n",
      "F1            : 0.8342\n",
      "\n",
      "Confusion matrix: (i-th truth, j-th pred)\n",
      "[[9274 1821]\n",
      " [1607 8625]]\n"
     ]
    }
   ],
   "source": [
    "# load model\n",
    "for params in [params_sca1]:\n",
    "    kwargs = params\n",
    "    d = data.get_data(kwargs['data_pkl'], kwargs['label'], \n",
    "                           kwargs['sample'], None, \n",
    "                           kwargs['load_attn1'], kwargs['load_attn2'],\n",
    "                           kwargs['modelpkl_fname1'], kwargs['modelpkl_fname2'],\n",
    "                           kwargs['preloadn2v'], out_channels=8, \n",
    "                           heads=8, negative_slope=0.2, \n",
    "                           dropout=0.4)\n",
    "    s_max = kwargs['s_max'] # scope is incorrect when in fx\n",
    "    datapkl, model, output = main(d, **kwargs) # attn_trans, attn_gat1, datapkl, model IF transformer eval\n",
    "    \n",
    "    # print various metrics \n",
    "    y_true = datapkl[kwargs['label']]\n",
    "    p1 = np.exp(output.detach().numpy()[:,1])\n",
    "    fpr, tpr, thresholds = metrics.roc_curve(y_true, p1)\n",
    "    optimal_idx = np.argmax(tpr-fpr)\n",
    "    optimal_threshold = thresholds[optimal_idx]\n",
    "    optimal_pred = (p1>optimal_threshold).astype(int)\n",
    "    precision,recall,_ = metrics.precision_recall_curve(y_true, p1)\n",
    "    auprc = metrics.auc(recall, precision)\n",
    "    auroc = metrics.roc_auc_score(y_true,p1)\n",
    "    ap = metrics.average_precision_score(y_true,p1)\n",
    "    bs = metrics.brier_score_loss(y_true,p1)\n",
    "    f1 = metrics.f1_score(y_true,optimal_pred)\n",
    "    acc = metrics.accuracy_score(y_true,optimal_pred)\n",
    "\n",
    "    print('{} results'.format(kwargs['label']))\n",
    "    print('-----------------------')\n",
    "    print('Accuracy      : {:.4f}'.format(acc))\n",
    "    print('Sensitivity   : {:.4f}'.format(tpr[optimal_idx]))\n",
    "    print('Specificity   : {:.4f}'.format(1-fpr[optimal_idx]))\n",
    "    print('')\n",
    "    print('Ave. precision: {:.4f}'.format(ap))\n",
    "    print('Precision     : {:.4f}'.format(1-precision[optimal_idx])) # not sure about this\n",
    "    print('Recall        : {:.4f}'.format(recall[optimal_idx])) # not sure about this\n",
    "    print('')\n",
    "    print('AU-ROC        : {:.4f}'.format(auroc))\n",
    "    print('AU-PRC        : {:.4f}'.format(auprc))\n",
    "    print('Brier         : {:.4f}'.format(bs))\n",
    "    print('F1            : {:.4f}'.format(f1))\n",
    "    \n",
    "    # check confusion matrix \n",
    "    print('\\nConfusion matrix: (i-th truth, j-th pred)')\n",
    "    print(metrics.confusion_matrix(y_true, optimal_pred))"
   ]
  },
  {
   "cell_type": "code",
   "execution_count": 10,
   "metadata": {},
   "outputs": [],
   "source": [
    "# sex\n",
    "batch2sex = {\n",
    "    '1589': 'M',\n",
    "     '1974': 'M',\n",
    "     '2020': 'F',\n",
    "     '20202': 'F',\n",
    "     '2021': 'F',\n",
    "     '20212': 'F',\n",
    "     '2061': 'M',\n",
    "     '2062': 'M',\n",
    "     '2063': 'M',\n",
    "     '2065': 'M',\n",
    "     '22018': 'M',\n",
    "     '22019': 'M',\n",
    "     '5812': 'F',\n",
    "     '5822': 'F',\n",
    "     '58231': 'F',\n",
    "     '58232': 'F',\n",
    "     '58241': 'F',\n",
    "     '58242': 'F',\n",
    "     '6569': 'M',\n",
    "     '65701': 'M',\n",
    "     '65702': 'M',\n",
    "     '6571': 'M',\n",
    "     '65731': 'M',\n",
    "     '65732': 'M',\n",
    "     '7202': 'F',\n",
    "     '72921': 'M',\n",
    "     '72922': 'M',\n",
    "     '72931': 'M',\n",
    "     '72932': 'M',\n",
    "     '7294': 'F'\n",
    "}\n",
    "\n",
    "adata.obs['sex'] = adata.obs['batch'].map(batch2sex)\n",
    "adata.obs['Female'] = 0\n",
    "adata.obs.loc[adata.obs['sex']=='F', 'Female'] = 1\n",
    "\n",
    "# map to datapkl\n",
    "datapkl['female'] = [adata.obs.loc[cell_id, 'Female'] for cell_id in datapkl['cell_id']]\n",
    "datapkl['ctype_ubcupdate'] = [adata.obs.loc[cell_id, 'ctype_ubcupdate'] for cell_id in datapkl['cell_id']]"
   ]
  },
  {
   "cell_type": "code",
   "execution_count": 141,
   "metadata": {},
   "outputs": [
    {
     "data": {
      "text/plain": [
       "array(['Granule cell', 'Bergmann glia', 'Deep cerebellar nuclei',\n",
       "       'Astrocyte', 'Pericyte', 'Microglia', 'GABAergic interneuron 2',\n",
       "       'Oligodendrocyte', 'Endothelial cell', 'Purkinje cell',\n",
       "       'GABAergic interneuron 3', 'GABAergic interneuron 1',\n",
       "       'Oligodendrocyte progenitor cell', 'Unipolar brush cell'],\n",
       "      dtype=object)"
      ]
     },
     "execution_count": 141,
     "metadata": {},
     "output_type": "execute_result"
    }
   ],
   "source": [
    "md.ctype.unique()"
   ]
  },
  {
   "cell_type": "code",
   "execution_count": 142,
   "metadata": {
    "collapsed": true,
    "jupyter": {
     "outputs_hidden": true
    }
   },
   "outputs": [
    {
     "name": "stdout",
     "output_type": "stream",
     "text": [
      "starting n=20 cells from SCA1, 12wk, Astrocyte, 0\n"
     ]
    },
    {
     "name": "stderr",
     "output_type": "stream",
     "text": [
      "/gpfs/ycga/project/dijk/ngr4/conda_envs/rnavel/lib/python3.7/site-packages/scprep/utils.py:236: FutureWarning: The SparseDataFrame class is removed from pandas. Accessing it from the top-level namespace will also be removed in the next version\n",
      "  if isinstance(x, pd.SparseDataFrame):\n",
      "/gpfs/ycga/project/dijk/ngr4/conda_envs/rnavel/lib/python3.7/site-packages/scprep/select.py:333: FutureWarning: The SparseDataFrame class is removed from pandas. Accessing it from the top-level namespace will also be removed in the next version\n",
      "  if isinstance(data, pd.SparseDataFrame):\n",
      "/gpfs/ycga/project/dijk/ngr4/conda_envs/rnavel/lib/python3.7/site-packages/scprep/utils.py:191: FutureWarning: The SparseDataFrame class is removed from pandas. Accessing it from the top-level namespace will also be removed in the next version\n",
      "  if isinstance(x, pd.SparseDataFrame):\n",
      "/gpfs/ycga/project/dijk/ngr4/conda_envs/rnavel/lib/python3.7/site-packages/scprep/utils.py:193: FutureWarning: The SparseSeries class is removed from pandas. Accessing it from the top-level namespace will also be removed in the next version\n",
      "  elif isinstance(x, pd.SparseSeries):\n"
     ]
    },
    {
     "name": "stdout",
     "output_type": "stream",
     "text": [
      "  through 1 iteration. 0.1-min elapsed\n",
      "starting n=0 cells from SCA1, 12wk, Astrocyte, 1\n",
      "No cells for SCA1, 12wk, Astrocyte, 1\n",
      "starting n=38 cells from SCA1, 12wk, Bergmann glia, 0\n"
     ]
    },
    {
     "name": "stderr",
     "output_type": "stream",
     "text": [
      "/gpfs/ycga/project/dijk/ngr4/conda_envs/rnavel/lib/python3.7/site-packages/scprep/utils.py:236: FutureWarning: The SparseDataFrame class is removed from pandas. Accessing it from the top-level namespace will also be removed in the next version\n",
      "  if isinstance(x, pd.SparseDataFrame):\n",
      "/gpfs/ycga/project/dijk/ngr4/conda_envs/rnavel/lib/python3.7/site-packages/scprep/select.py:333: FutureWarning: The SparseDataFrame class is removed from pandas. Accessing it from the top-level namespace will also be removed in the next version\n",
      "  if isinstance(data, pd.SparseDataFrame):\n",
      "/gpfs/ycga/project/dijk/ngr4/conda_envs/rnavel/lib/python3.7/site-packages/scprep/utils.py:191: FutureWarning: The SparseDataFrame class is removed from pandas. Accessing it from the top-level namespace will also be removed in the next version\n",
      "  if isinstance(x, pd.SparseDataFrame):\n",
      "/gpfs/ycga/project/dijk/ngr4/conda_envs/rnavel/lib/python3.7/site-packages/scprep/utils.py:193: FutureWarning: The SparseSeries class is removed from pandas. Accessing it from the top-level namespace will also be removed in the next version\n",
      "  elif isinstance(x, pd.SparseSeries):\n"
     ]
    },
    {
     "name": "stdout",
     "output_type": "stream",
     "text": [
      "  through 2 iteration. 0.1-min elapsed\n",
      "starting n=0 cells from SCA1, 12wk, Bergmann glia, 1\n",
      "No cells for SCA1, 12wk, Bergmann glia, 1\n",
      "starting n=3 cells from SCA1, 12wk, Deep cerebellar nuclei, 0\n"
     ]
    },
    {
     "name": "stderr",
     "output_type": "stream",
     "text": [
      "/gpfs/ycga/project/dijk/ngr4/conda_envs/rnavel/lib/python3.7/site-packages/scprep/utils.py:236: FutureWarning: The SparseDataFrame class is removed from pandas. Accessing it from the top-level namespace will also be removed in the next version\n",
      "  if isinstance(x, pd.SparseDataFrame):\n",
      "/gpfs/ycga/project/dijk/ngr4/conda_envs/rnavel/lib/python3.7/site-packages/scprep/select.py:333: FutureWarning: The SparseDataFrame class is removed from pandas. Accessing it from the top-level namespace will also be removed in the next version\n",
      "  if isinstance(data, pd.SparseDataFrame):\n",
      "/gpfs/ycga/project/dijk/ngr4/conda_envs/rnavel/lib/python3.7/site-packages/scprep/utils.py:191: FutureWarning: The SparseDataFrame class is removed from pandas. Accessing it from the top-level namespace will also be removed in the next version\n",
      "  if isinstance(x, pd.SparseDataFrame):\n",
      "/gpfs/ycga/project/dijk/ngr4/conda_envs/rnavel/lib/python3.7/site-packages/scprep/utils.py:193: FutureWarning: The SparseSeries class is removed from pandas. Accessing it from the top-level namespace will also be removed in the next version\n",
      "  elif isinstance(x, pd.SparseSeries):\n"
     ]
    },
    {
     "name": "stdout",
     "output_type": "stream",
     "text": [
      "  through 3 iteration. 0.2-min elapsed\n",
      "starting n=0 cells from SCA1, 12wk, Deep cerebellar nuclei, 1\n",
      "No cells for SCA1, 12wk, Deep cerebellar nuclei, 1\n",
      "starting n=4 cells from SCA1, 12wk, Endothelial cell, 0\n"
     ]
    },
    {
     "name": "stderr",
     "output_type": "stream",
     "text": [
      "/gpfs/ycga/project/dijk/ngr4/conda_envs/rnavel/lib/python3.7/site-packages/scprep/utils.py:236: FutureWarning: The SparseDataFrame class is removed from pandas. Accessing it from the top-level namespace will also be removed in the next version\n",
      "  if isinstance(x, pd.SparseDataFrame):\n",
      "/gpfs/ycga/project/dijk/ngr4/conda_envs/rnavel/lib/python3.7/site-packages/scprep/select.py:333: FutureWarning: The SparseDataFrame class is removed from pandas. Accessing it from the top-level namespace will also be removed in the next version\n",
      "  if isinstance(data, pd.SparseDataFrame):\n",
      "/gpfs/ycga/project/dijk/ngr4/conda_envs/rnavel/lib/python3.7/site-packages/scprep/utils.py:191: FutureWarning: The SparseDataFrame class is removed from pandas. Accessing it from the top-level namespace will also be removed in the next version\n",
      "  if isinstance(x, pd.SparseDataFrame):\n",
      "/gpfs/ycga/project/dijk/ngr4/conda_envs/rnavel/lib/python3.7/site-packages/scprep/utils.py:193: FutureWarning: The SparseSeries class is removed from pandas. Accessing it from the top-level namespace will also be removed in the next version\n",
      "  elif isinstance(x, pd.SparseSeries):\n"
     ]
    },
    {
     "name": "stdout",
     "output_type": "stream",
     "text": [
      "  through 4 iteration. 0.3-min elapsed\n",
      "starting n=0 cells from SCA1, 12wk, Endothelial cell, 1\n",
      "No cells for SCA1, 12wk, Endothelial cell, 1\n",
      "starting n=60 cells from SCA1, 12wk, GABAergic interneuron 1, 0\n"
     ]
    },
    {
     "name": "stderr",
     "output_type": "stream",
     "text": [
      "/gpfs/ycga/project/dijk/ngr4/conda_envs/rnavel/lib/python3.7/site-packages/scprep/utils.py:236: FutureWarning: The SparseDataFrame class is removed from pandas. Accessing it from the top-level namespace will also be removed in the next version\n",
      "  if isinstance(x, pd.SparseDataFrame):\n",
      "/gpfs/ycga/project/dijk/ngr4/conda_envs/rnavel/lib/python3.7/site-packages/scprep/select.py:333: FutureWarning: The SparseDataFrame class is removed from pandas. Accessing it from the top-level namespace will also be removed in the next version\n",
      "  if isinstance(data, pd.SparseDataFrame):\n",
      "/gpfs/ycga/project/dijk/ngr4/conda_envs/rnavel/lib/python3.7/site-packages/scprep/utils.py:191: FutureWarning: The SparseDataFrame class is removed from pandas. Accessing it from the top-level namespace will also be removed in the next version\n",
      "  if isinstance(x, pd.SparseDataFrame):\n",
      "/gpfs/ycga/project/dijk/ngr4/conda_envs/rnavel/lib/python3.7/site-packages/scprep/utils.py:193: FutureWarning: The SparseSeries class is removed from pandas. Accessing it from the top-level namespace will also be removed in the next version\n",
      "  elif isinstance(x, pd.SparseSeries):\n"
     ]
    },
    {
     "name": "stdout",
     "output_type": "stream",
     "text": [
      "  through 5 iteration. 0.3-min elapsed\n",
      "starting n=0 cells from SCA1, 12wk, GABAergic interneuron 1, 1\n",
      "No cells for SCA1, 12wk, GABAergic interneuron 1, 1\n",
      "starting n=15 cells from SCA1, 12wk, GABAergic interneuron 2, 0\n"
     ]
    },
    {
     "name": "stderr",
     "output_type": "stream",
     "text": [
      "/gpfs/ycga/project/dijk/ngr4/conda_envs/rnavel/lib/python3.7/site-packages/scprep/utils.py:236: FutureWarning: The SparseDataFrame class is removed from pandas. Accessing it from the top-level namespace will also be removed in the next version\n",
      "  if isinstance(x, pd.SparseDataFrame):\n",
      "/gpfs/ycga/project/dijk/ngr4/conda_envs/rnavel/lib/python3.7/site-packages/scprep/select.py:333: FutureWarning: The SparseDataFrame class is removed from pandas. Accessing it from the top-level namespace will also be removed in the next version\n",
      "  if isinstance(data, pd.SparseDataFrame):\n",
      "/gpfs/ycga/project/dijk/ngr4/conda_envs/rnavel/lib/python3.7/site-packages/scprep/utils.py:191: FutureWarning: The SparseDataFrame class is removed from pandas. Accessing it from the top-level namespace will also be removed in the next version\n",
      "  if isinstance(x, pd.SparseDataFrame):\n",
      "/gpfs/ycga/project/dijk/ngr4/conda_envs/rnavel/lib/python3.7/site-packages/scprep/utils.py:193: FutureWarning: The SparseSeries class is removed from pandas. Accessing it from the top-level namespace will also be removed in the next version\n",
      "  elif isinstance(x, pd.SparseSeries):\n"
     ]
    },
    {
     "name": "stdout",
     "output_type": "stream",
     "text": [
      "  through 6 iteration. 0.4-min elapsed\n",
      "starting n=0 cells from SCA1, 12wk, GABAergic interneuron 2, 1\n",
      "No cells for SCA1, 12wk, GABAergic interneuron 2, 1\n",
      "starting n=5 cells from SCA1, 12wk, GABAergic interneuron 3, 0\n"
     ]
    },
    {
     "name": "stderr",
     "output_type": "stream",
     "text": [
      "/gpfs/ycga/project/dijk/ngr4/conda_envs/rnavel/lib/python3.7/site-packages/scprep/utils.py:236: FutureWarning: The SparseDataFrame class is removed from pandas. Accessing it from the top-level namespace will also be removed in the next version\n",
      "  if isinstance(x, pd.SparseDataFrame):\n",
      "/gpfs/ycga/project/dijk/ngr4/conda_envs/rnavel/lib/python3.7/site-packages/scprep/select.py:333: FutureWarning: The SparseDataFrame class is removed from pandas. Accessing it from the top-level namespace will also be removed in the next version\n",
      "  if isinstance(data, pd.SparseDataFrame):\n",
      "/gpfs/ycga/project/dijk/ngr4/conda_envs/rnavel/lib/python3.7/site-packages/scprep/utils.py:191: FutureWarning: The SparseDataFrame class is removed from pandas. Accessing it from the top-level namespace will also be removed in the next version\n",
      "  if isinstance(x, pd.SparseDataFrame):\n",
      "/gpfs/ycga/project/dijk/ngr4/conda_envs/rnavel/lib/python3.7/site-packages/scprep/utils.py:193: FutureWarning: The SparseSeries class is removed from pandas. Accessing it from the top-level namespace will also be removed in the next version\n",
      "  elif isinstance(x, pd.SparseSeries):\n"
     ]
    },
    {
     "name": "stdout",
     "output_type": "stream",
     "text": [
      "  through 7 iteration. 0.4-min elapsed\n",
      "starting n=0 cells from SCA1, 12wk, GABAergic interneuron 3, 1\n",
      "No cells for SCA1, 12wk, GABAergic interneuron 3, 1\n",
      "starting n=1095 cells from SCA1, 12wk, Granule cell, 0\n"
     ]
    },
    {
     "name": "stderr",
     "output_type": "stream",
     "text": [
      "/gpfs/ycga/project/dijk/ngr4/conda_envs/rnavel/lib/python3.7/site-packages/scprep/utils.py:236: FutureWarning: The SparseDataFrame class is removed from pandas. Accessing it from the top-level namespace will also be removed in the next version\n",
      "  if isinstance(x, pd.SparseDataFrame):\n",
      "/gpfs/ycga/project/dijk/ngr4/conda_envs/rnavel/lib/python3.7/site-packages/scprep/select.py:333: FutureWarning: The SparseDataFrame class is removed from pandas. Accessing it from the top-level namespace will also be removed in the next version\n",
      "  if isinstance(data, pd.SparseDataFrame):\n",
      "/gpfs/ycga/project/dijk/ngr4/conda_envs/rnavel/lib/python3.7/site-packages/scprep/utils.py:191: FutureWarning: The SparseDataFrame class is removed from pandas. Accessing it from the top-level namespace will also be removed in the next version\n",
      "  if isinstance(x, pd.SparseDataFrame):\n",
      "/gpfs/ycga/project/dijk/ngr4/conda_envs/rnavel/lib/python3.7/site-packages/scprep/utils.py:193: FutureWarning: The SparseSeries class is removed from pandas. Accessing it from the top-level namespace will also be removed in the next version\n",
      "  elif isinstance(x, pd.SparseSeries):\n"
     ]
    },
    {
     "name": "stdout",
     "output_type": "stream",
     "text": [
      "  through 8 iteration. 0.5-min elapsed\n",
      "starting n=0 cells from SCA1, 12wk, Granule cell, 1\n",
      "No cells for SCA1, 12wk, Granule cell, 1\n",
      "starting n=4 cells from SCA1, 12wk, Microglia, 0\n"
     ]
    },
    {
     "name": "stderr",
     "output_type": "stream",
     "text": [
      "/gpfs/ycga/project/dijk/ngr4/conda_envs/rnavel/lib/python3.7/site-packages/scprep/utils.py:236: FutureWarning: The SparseDataFrame class is removed from pandas. Accessing it from the top-level namespace will also be removed in the next version\n",
      "  if isinstance(x, pd.SparseDataFrame):\n",
      "/gpfs/ycga/project/dijk/ngr4/conda_envs/rnavel/lib/python3.7/site-packages/scprep/select.py:333: FutureWarning: The SparseDataFrame class is removed from pandas. Accessing it from the top-level namespace will also be removed in the next version\n",
      "  if isinstance(data, pd.SparseDataFrame):\n",
      "/gpfs/ycga/project/dijk/ngr4/conda_envs/rnavel/lib/python3.7/site-packages/scprep/utils.py:191: FutureWarning: The SparseDataFrame class is removed from pandas. Accessing it from the top-level namespace will also be removed in the next version\n",
      "  if isinstance(x, pd.SparseDataFrame):\n",
      "/gpfs/ycga/project/dijk/ngr4/conda_envs/rnavel/lib/python3.7/site-packages/scprep/utils.py:193: FutureWarning: The SparseSeries class is removed from pandas. Accessing it from the top-level namespace will also be removed in the next version\n",
      "  elif isinstance(x, pd.SparseSeries):\n"
     ]
    },
    {
     "name": "stdout",
     "output_type": "stream",
     "text": [
      "  through 9 iteration. 0.6-min elapsed\n",
      "starting n=0 cells from SCA1, 12wk, Microglia, 1\n",
      "No cells for SCA1, 12wk, Microglia, 1\n",
      "starting n=32 cells from SCA1, 12wk, Oligodendrocyte, 0\n"
     ]
    },
    {
     "name": "stderr",
     "output_type": "stream",
     "text": [
      "/gpfs/ycga/project/dijk/ngr4/conda_envs/rnavel/lib/python3.7/site-packages/scprep/utils.py:236: FutureWarning: The SparseDataFrame class is removed from pandas. Accessing it from the top-level namespace will also be removed in the next version\n",
      "  if isinstance(x, pd.SparseDataFrame):\n",
      "/gpfs/ycga/project/dijk/ngr4/conda_envs/rnavel/lib/python3.7/site-packages/scprep/select.py:333: FutureWarning: The SparseDataFrame class is removed from pandas. Accessing it from the top-level namespace will also be removed in the next version\n",
      "  if isinstance(data, pd.SparseDataFrame):\n",
      "/gpfs/ycga/project/dijk/ngr4/conda_envs/rnavel/lib/python3.7/site-packages/scprep/utils.py:191: FutureWarning: The SparseDataFrame class is removed from pandas. Accessing it from the top-level namespace will also be removed in the next version\n",
      "  if isinstance(x, pd.SparseDataFrame):\n",
      "/gpfs/ycga/project/dijk/ngr4/conda_envs/rnavel/lib/python3.7/site-packages/scprep/utils.py:193: FutureWarning: The SparseSeries class is removed from pandas. Accessing it from the top-level namespace will also be removed in the next version\n",
      "  elif isinstance(x, pd.SparseSeries):\n"
     ]
    },
    {
     "name": "stdout",
     "output_type": "stream",
     "text": [
      "  through 10 iteration. 0.6-min elapsed\n",
      "starting n=0 cells from SCA1, 12wk, Oligodendrocyte, 1\n",
      "No cells for SCA1, 12wk, Oligodendrocyte, 1\n",
      "starting n=5 cells from SCA1, 12wk, Oligodendrocyte progenitor cell, 0\n"
     ]
    },
    {
     "name": "stderr",
     "output_type": "stream",
     "text": [
      "/gpfs/ycga/project/dijk/ngr4/conda_envs/rnavel/lib/python3.7/site-packages/scprep/utils.py:236: FutureWarning: The SparseDataFrame class is removed from pandas. Accessing it from the top-level namespace will also be removed in the next version\n",
      "  if isinstance(x, pd.SparseDataFrame):\n",
      "/gpfs/ycga/project/dijk/ngr4/conda_envs/rnavel/lib/python3.7/site-packages/scprep/select.py:333: FutureWarning: The SparseDataFrame class is removed from pandas. Accessing it from the top-level namespace will also be removed in the next version\n",
      "  if isinstance(data, pd.SparseDataFrame):\n",
      "/gpfs/ycga/project/dijk/ngr4/conda_envs/rnavel/lib/python3.7/site-packages/scprep/utils.py:191: FutureWarning: The SparseDataFrame class is removed from pandas. Accessing it from the top-level namespace will also be removed in the next version\n",
      "  if isinstance(x, pd.SparseDataFrame):\n",
      "/gpfs/ycga/project/dijk/ngr4/conda_envs/rnavel/lib/python3.7/site-packages/scprep/utils.py:193: FutureWarning: The SparseSeries class is removed from pandas. Accessing it from the top-level namespace will also be removed in the next version\n",
      "  elif isinstance(x, pd.SparseSeries):\n"
     ]
    },
    {
     "name": "stdout",
     "output_type": "stream",
     "text": [
      "  through 11 iteration. 0.7-min elapsed\n",
      "starting n=0 cells from SCA1, 12wk, Oligodendrocyte progenitor cell, 1\n",
      "No cells for SCA1, 12wk, Oligodendrocyte progenitor cell, 1\n",
      "starting n=3 cells from SCA1, 12wk, Pericyte, 0\n"
     ]
    },
    {
     "name": "stderr",
     "output_type": "stream",
     "text": [
      "/gpfs/ycga/project/dijk/ngr4/conda_envs/rnavel/lib/python3.7/site-packages/scprep/utils.py:236: FutureWarning: The SparseDataFrame class is removed from pandas. Accessing it from the top-level namespace will also be removed in the next version\n",
      "  if isinstance(x, pd.SparseDataFrame):\n",
      "/gpfs/ycga/project/dijk/ngr4/conda_envs/rnavel/lib/python3.7/site-packages/scprep/select.py:333: FutureWarning: The SparseDataFrame class is removed from pandas. Accessing it from the top-level namespace will also be removed in the next version\n",
      "  if isinstance(data, pd.SparseDataFrame):\n",
      "/gpfs/ycga/project/dijk/ngr4/conda_envs/rnavel/lib/python3.7/site-packages/scprep/utils.py:191: FutureWarning: The SparseDataFrame class is removed from pandas. Accessing it from the top-level namespace will also be removed in the next version\n",
      "  if isinstance(x, pd.SparseDataFrame):\n",
      "/gpfs/ycga/project/dijk/ngr4/conda_envs/rnavel/lib/python3.7/site-packages/scprep/utils.py:193: FutureWarning: The SparseSeries class is removed from pandas. Accessing it from the top-level namespace will also be removed in the next version\n",
      "  elif isinstance(x, pd.SparseSeries):\n"
     ]
    },
    {
     "name": "stdout",
     "output_type": "stream",
     "text": [
      "  through 12 iteration. 0.7-min elapsed\n",
      "starting n=0 cells from SCA1, 12wk, Pericyte, 1\n",
      "No cells for SCA1, 12wk, Pericyte, 1\n",
      "starting n=6 cells from SCA1, 12wk, Purkinje cell, 0\n"
     ]
    },
    {
     "name": "stderr",
     "output_type": "stream",
     "text": [
      "/gpfs/ycga/project/dijk/ngr4/conda_envs/rnavel/lib/python3.7/site-packages/scprep/utils.py:236: FutureWarning: The SparseDataFrame class is removed from pandas. Accessing it from the top-level namespace will also be removed in the next version\n",
      "  if isinstance(x, pd.SparseDataFrame):\n",
      "/gpfs/ycga/project/dijk/ngr4/conda_envs/rnavel/lib/python3.7/site-packages/scprep/select.py:333: FutureWarning: The SparseDataFrame class is removed from pandas. Accessing it from the top-level namespace will also be removed in the next version\n",
      "  if isinstance(data, pd.SparseDataFrame):\n",
      "/gpfs/ycga/project/dijk/ngr4/conda_envs/rnavel/lib/python3.7/site-packages/scprep/utils.py:191: FutureWarning: The SparseDataFrame class is removed from pandas. Accessing it from the top-level namespace will also be removed in the next version\n",
      "  if isinstance(x, pd.SparseDataFrame):\n",
      "/gpfs/ycga/project/dijk/ngr4/conda_envs/rnavel/lib/python3.7/site-packages/scprep/utils.py:193: FutureWarning: The SparseSeries class is removed from pandas. Accessing it from the top-level namespace will also be removed in the next version\n",
      "  elif isinstance(x, pd.SparseSeries):\n"
     ]
    },
    {
     "name": "stdout",
     "output_type": "stream",
     "text": [
      "  through 13 iteration. 0.8-min elapsed\n",
      "starting n=0 cells from SCA1, 12wk, Purkinje cell, 1\n",
      "No cells for SCA1, 12wk, Purkinje cell, 1\n",
      "starting n=4 cells from SCA1, 12wk, Unipolar brush cell, 0\n"
     ]
    },
    {
     "name": "stderr",
     "output_type": "stream",
     "text": [
      "/gpfs/ycga/project/dijk/ngr4/conda_envs/rnavel/lib/python3.7/site-packages/scprep/utils.py:236: FutureWarning: The SparseDataFrame class is removed from pandas. Accessing it from the top-level namespace will also be removed in the next version\n",
      "  if isinstance(x, pd.SparseDataFrame):\n",
      "/gpfs/ycga/project/dijk/ngr4/conda_envs/rnavel/lib/python3.7/site-packages/scprep/select.py:333: FutureWarning: The SparseDataFrame class is removed from pandas. Accessing it from the top-level namespace will also be removed in the next version\n",
      "  if isinstance(data, pd.SparseDataFrame):\n",
      "/gpfs/ycga/project/dijk/ngr4/conda_envs/rnavel/lib/python3.7/site-packages/scprep/utils.py:191: FutureWarning: The SparseDataFrame class is removed from pandas. Accessing it from the top-level namespace will also be removed in the next version\n",
      "  if isinstance(x, pd.SparseDataFrame):\n",
      "/gpfs/ycga/project/dijk/ngr4/conda_envs/rnavel/lib/python3.7/site-packages/scprep/utils.py:193: FutureWarning: The SparseSeries class is removed from pandas. Accessing it from the top-level namespace will also be removed in the next version\n",
      "  elif isinstance(x, pd.SparseSeries):\n"
     ]
    },
    {
     "name": "stdout",
     "output_type": "stream",
     "text": [
      "  through 14 iteration. 0.9-min elapsed\n",
      "starting n=0 cells from SCA1, 12wk, Unipolar brush cell, 1\n",
      "No cells for SCA1, 12wk, Unipolar brush cell, 1\n",
      "starting n=131 cells from SCA1, 18wk, Astrocyte, 0\n"
     ]
    },
    {
     "name": "stderr",
     "output_type": "stream",
     "text": [
      "/gpfs/ycga/project/dijk/ngr4/conda_envs/rnavel/lib/python3.7/site-packages/scprep/utils.py:236: FutureWarning: The SparseDataFrame class is removed from pandas. Accessing it from the top-level namespace will also be removed in the next version\n",
      "  if isinstance(x, pd.SparseDataFrame):\n",
      "/gpfs/ycga/project/dijk/ngr4/conda_envs/rnavel/lib/python3.7/site-packages/scprep/select.py:333: FutureWarning: The SparseDataFrame class is removed from pandas. Accessing it from the top-level namespace will also be removed in the next version\n",
      "  if isinstance(data, pd.SparseDataFrame):\n",
      "/gpfs/ycga/project/dijk/ngr4/conda_envs/rnavel/lib/python3.7/site-packages/scprep/utils.py:191: FutureWarning: The SparseDataFrame class is removed from pandas. Accessing it from the top-level namespace will also be removed in the next version\n",
      "  if isinstance(x, pd.SparseDataFrame):\n",
      "/gpfs/ycga/project/dijk/ngr4/conda_envs/rnavel/lib/python3.7/site-packages/scprep/utils.py:193: FutureWarning: The SparseSeries class is removed from pandas. Accessing it from the top-level namespace will also be removed in the next version\n",
      "  elif isinstance(x, pd.SparseSeries):\n"
     ]
    },
    {
     "name": "stdout",
     "output_type": "stream",
     "text": [
      "  through 15 iteration. 0.9-min elapsed\n",
      "starting n=0 cells from SCA1, 18wk, Astrocyte, 1\n",
      "No cells for SCA1, 18wk, Astrocyte, 1\n",
      "starting n=134 cells from SCA1, 18wk, Bergmann glia, 0\n"
     ]
    },
    {
     "name": "stderr",
     "output_type": "stream",
     "text": [
      "/gpfs/ycga/project/dijk/ngr4/conda_envs/rnavel/lib/python3.7/site-packages/scprep/utils.py:236: FutureWarning: The SparseDataFrame class is removed from pandas. Accessing it from the top-level namespace will also be removed in the next version\n",
      "  if isinstance(x, pd.SparseDataFrame):\n",
      "/gpfs/ycga/project/dijk/ngr4/conda_envs/rnavel/lib/python3.7/site-packages/scprep/select.py:333: FutureWarning: The SparseDataFrame class is removed from pandas. Accessing it from the top-level namespace will also be removed in the next version\n",
      "  if isinstance(data, pd.SparseDataFrame):\n",
      "/gpfs/ycga/project/dijk/ngr4/conda_envs/rnavel/lib/python3.7/site-packages/scprep/utils.py:191: FutureWarning: The SparseDataFrame class is removed from pandas. Accessing it from the top-level namespace will also be removed in the next version\n",
      "  if isinstance(x, pd.SparseDataFrame):\n",
      "/gpfs/ycga/project/dijk/ngr4/conda_envs/rnavel/lib/python3.7/site-packages/scprep/utils.py:193: FutureWarning: The SparseSeries class is removed from pandas. Accessing it from the top-level namespace will also be removed in the next version\n",
      "  elif isinstance(x, pd.SparseSeries):\n"
     ]
    },
    {
     "name": "stdout",
     "output_type": "stream",
     "text": [
      "  through 16 iteration. 1.0-min elapsed\n",
      "starting n=0 cells from SCA1, 18wk, Bergmann glia, 1\n",
      "No cells for SCA1, 18wk, Bergmann glia, 1\n",
      "starting n=10 cells from SCA1, 18wk, Deep cerebellar nuclei, 0\n"
     ]
    },
    {
     "name": "stderr",
     "output_type": "stream",
     "text": [
      "/gpfs/ycga/project/dijk/ngr4/conda_envs/rnavel/lib/python3.7/site-packages/scprep/utils.py:236: FutureWarning: The SparseDataFrame class is removed from pandas. Accessing it from the top-level namespace will also be removed in the next version\n",
      "  if isinstance(x, pd.SparseDataFrame):\n",
      "/gpfs/ycga/project/dijk/ngr4/conda_envs/rnavel/lib/python3.7/site-packages/scprep/select.py:333: FutureWarning: The SparseDataFrame class is removed from pandas. Accessing it from the top-level namespace will also be removed in the next version\n",
      "  if isinstance(data, pd.SparseDataFrame):\n",
      "/gpfs/ycga/project/dijk/ngr4/conda_envs/rnavel/lib/python3.7/site-packages/scprep/utils.py:191: FutureWarning: The SparseDataFrame class is removed from pandas. Accessing it from the top-level namespace will also be removed in the next version\n",
      "  if isinstance(x, pd.SparseDataFrame):\n",
      "/gpfs/ycga/project/dijk/ngr4/conda_envs/rnavel/lib/python3.7/site-packages/scprep/utils.py:193: FutureWarning: The SparseSeries class is removed from pandas. Accessing it from the top-level namespace will also be removed in the next version\n",
      "  elif isinstance(x, pd.SparseSeries):\n"
     ]
    },
    {
     "name": "stdout",
     "output_type": "stream",
     "text": [
      "  through 17 iteration. 1.0-min elapsed\n",
      "starting n=0 cells from SCA1, 18wk, Deep cerebellar nuclei, 1\n",
      "No cells for SCA1, 18wk, Deep cerebellar nuclei, 1\n",
      "starting n=36 cells from SCA1, 18wk, Endothelial cell, 0\n"
     ]
    },
    {
     "name": "stderr",
     "output_type": "stream",
     "text": [
      "/gpfs/ycga/project/dijk/ngr4/conda_envs/rnavel/lib/python3.7/site-packages/scprep/utils.py:236: FutureWarning: The SparseDataFrame class is removed from pandas. Accessing it from the top-level namespace will also be removed in the next version\n",
      "  if isinstance(x, pd.SparseDataFrame):\n",
      "/gpfs/ycga/project/dijk/ngr4/conda_envs/rnavel/lib/python3.7/site-packages/scprep/select.py:333: FutureWarning: The SparseDataFrame class is removed from pandas. Accessing it from the top-level namespace will also be removed in the next version\n",
      "  if isinstance(data, pd.SparseDataFrame):\n",
      "/gpfs/ycga/project/dijk/ngr4/conda_envs/rnavel/lib/python3.7/site-packages/scprep/utils.py:191: FutureWarning: The SparseDataFrame class is removed from pandas. Accessing it from the top-level namespace will also be removed in the next version\n",
      "  if isinstance(x, pd.SparseDataFrame):\n",
      "/gpfs/ycga/project/dijk/ngr4/conda_envs/rnavel/lib/python3.7/site-packages/scprep/utils.py:193: FutureWarning: The SparseSeries class is removed from pandas. Accessing it from the top-level namespace will also be removed in the next version\n",
      "  elif isinstance(x, pd.SparseSeries):\n"
     ]
    },
    {
     "name": "stdout",
     "output_type": "stream",
     "text": [
      "  through 18 iteration. 1.1-min elapsed\n",
      "starting n=0 cells from SCA1, 18wk, Endothelial cell, 1\n",
      "No cells for SCA1, 18wk, Endothelial cell, 1\n",
      "starting n=200 cells from SCA1, 18wk, GABAergic interneuron 1, 0\n"
     ]
    },
    {
     "name": "stderr",
     "output_type": "stream",
     "text": [
      "/gpfs/ycga/project/dijk/ngr4/conda_envs/rnavel/lib/python3.7/site-packages/scprep/utils.py:236: FutureWarning: The SparseDataFrame class is removed from pandas. Accessing it from the top-level namespace will also be removed in the next version\n",
      "  if isinstance(x, pd.SparseDataFrame):\n",
      "/gpfs/ycga/project/dijk/ngr4/conda_envs/rnavel/lib/python3.7/site-packages/scprep/select.py:333: FutureWarning: The SparseDataFrame class is removed from pandas. Accessing it from the top-level namespace will also be removed in the next version\n",
      "  if isinstance(data, pd.SparseDataFrame):\n",
      "/gpfs/ycga/project/dijk/ngr4/conda_envs/rnavel/lib/python3.7/site-packages/scprep/utils.py:191: FutureWarning: The SparseDataFrame class is removed from pandas. Accessing it from the top-level namespace will also be removed in the next version\n",
      "  if isinstance(x, pd.SparseDataFrame):\n",
      "/gpfs/ycga/project/dijk/ngr4/conda_envs/rnavel/lib/python3.7/site-packages/scprep/utils.py:193: FutureWarning: The SparseSeries class is removed from pandas. Accessing it from the top-level namespace will also be removed in the next version\n",
      "  elif isinstance(x, pd.SparseSeries):\n"
     ]
    },
    {
     "name": "stdout",
     "output_type": "stream",
     "text": [
      "  through 19 iteration. 1.2-min elapsed\n",
      "starting n=0 cells from SCA1, 18wk, GABAergic interneuron 1, 1\n",
      "No cells for SCA1, 18wk, GABAergic interneuron 1, 1\n",
      "starting n=58 cells from SCA1, 18wk, GABAergic interneuron 2, 0\n"
     ]
    },
    {
     "name": "stderr",
     "output_type": "stream",
     "text": [
      "/gpfs/ycga/project/dijk/ngr4/conda_envs/rnavel/lib/python3.7/site-packages/scprep/utils.py:236: FutureWarning: The SparseDataFrame class is removed from pandas. Accessing it from the top-level namespace will also be removed in the next version\n",
      "  if isinstance(x, pd.SparseDataFrame):\n",
      "/gpfs/ycga/project/dijk/ngr4/conda_envs/rnavel/lib/python3.7/site-packages/scprep/select.py:333: FutureWarning: The SparseDataFrame class is removed from pandas. Accessing it from the top-level namespace will also be removed in the next version\n",
      "  if isinstance(data, pd.SparseDataFrame):\n",
      "/gpfs/ycga/project/dijk/ngr4/conda_envs/rnavel/lib/python3.7/site-packages/scprep/utils.py:191: FutureWarning: The SparseDataFrame class is removed from pandas. Accessing it from the top-level namespace will also be removed in the next version\n",
      "  if isinstance(x, pd.SparseDataFrame):\n",
      "/gpfs/ycga/project/dijk/ngr4/conda_envs/rnavel/lib/python3.7/site-packages/scprep/utils.py:193: FutureWarning: The SparseSeries class is removed from pandas. Accessing it from the top-level namespace will also be removed in the next version\n",
      "  elif isinstance(x, pd.SparseSeries):\n"
     ]
    },
    {
     "name": "stdout",
     "output_type": "stream",
     "text": [
      "  through 20 iteration. 1.2-min elapsed\n",
      "starting n=0 cells from SCA1, 18wk, GABAergic interneuron 2, 1\n",
      "No cells for SCA1, 18wk, GABAergic interneuron 2, 1\n",
      "starting n=18 cells from SCA1, 18wk, GABAergic interneuron 3, 0\n"
     ]
    },
    {
     "name": "stderr",
     "output_type": "stream",
     "text": [
      "/gpfs/ycga/project/dijk/ngr4/conda_envs/rnavel/lib/python3.7/site-packages/scprep/utils.py:236: FutureWarning: The SparseDataFrame class is removed from pandas. Accessing it from the top-level namespace will also be removed in the next version\n",
      "  if isinstance(x, pd.SparseDataFrame):\n",
      "/gpfs/ycga/project/dijk/ngr4/conda_envs/rnavel/lib/python3.7/site-packages/scprep/select.py:333: FutureWarning: The SparseDataFrame class is removed from pandas. Accessing it from the top-level namespace will also be removed in the next version\n",
      "  if isinstance(data, pd.SparseDataFrame):\n",
      "/gpfs/ycga/project/dijk/ngr4/conda_envs/rnavel/lib/python3.7/site-packages/scprep/utils.py:191: FutureWarning: The SparseDataFrame class is removed from pandas. Accessing it from the top-level namespace will also be removed in the next version\n",
      "  if isinstance(x, pd.SparseDataFrame):\n",
      "/gpfs/ycga/project/dijk/ngr4/conda_envs/rnavel/lib/python3.7/site-packages/scprep/utils.py:193: FutureWarning: The SparseSeries class is removed from pandas. Accessing it from the top-level namespace will also be removed in the next version\n",
      "  elif isinstance(x, pd.SparseSeries):\n"
     ]
    },
    {
     "name": "stdout",
     "output_type": "stream",
     "text": [
      "  through 21 iteration. 1.3-min elapsed\n",
      "starting n=0 cells from SCA1, 18wk, GABAergic interneuron 3, 1\n",
      "No cells for SCA1, 18wk, GABAergic interneuron 3, 1\n",
      "starting n=3087 cells from SCA1, 18wk, Granule cell, 0\n"
     ]
    },
    {
     "name": "stderr",
     "output_type": "stream",
     "text": [
      "/gpfs/ycga/project/dijk/ngr4/conda_envs/rnavel/lib/python3.7/site-packages/scprep/utils.py:236: FutureWarning: The SparseDataFrame class is removed from pandas. Accessing it from the top-level namespace will also be removed in the next version\n",
      "  if isinstance(x, pd.SparseDataFrame):\n",
      "/gpfs/ycga/project/dijk/ngr4/conda_envs/rnavel/lib/python3.7/site-packages/scprep/select.py:333: FutureWarning: The SparseDataFrame class is removed from pandas. Accessing it from the top-level namespace will also be removed in the next version\n",
      "  if isinstance(data, pd.SparseDataFrame):\n",
      "/gpfs/ycga/project/dijk/ngr4/conda_envs/rnavel/lib/python3.7/site-packages/scprep/utils.py:191: FutureWarning: The SparseDataFrame class is removed from pandas. Accessing it from the top-level namespace will also be removed in the next version\n",
      "  if isinstance(x, pd.SparseDataFrame):\n",
      "/gpfs/ycga/project/dijk/ngr4/conda_envs/rnavel/lib/python3.7/site-packages/scprep/utils.py:193: FutureWarning: The SparseSeries class is removed from pandas. Accessing it from the top-level namespace will also be removed in the next version\n",
      "  elif isinstance(x, pd.SparseSeries):\n"
     ]
    },
    {
     "name": "stdout",
     "output_type": "stream",
     "text": [
      "  through 22 iteration. 1.4-min elapsed\n",
      "starting n=0 cells from SCA1, 18wk, Granule cell, 1\n",
      "No cells for SCA1, 18wk, Granule cell, 1\n",
      "starting n=24 cells from SCA1, 18wk, Microglia, 0\n"
     ]
    },
    {
     "name": "stderr",
     "output_type": "stream",
     "text": [
      "/gpfs/ycga/project/dijk/ngr4/conda_envs/rnavel/lib/python3.7/site-packages/scprep/utils.py:236: FutureWarning: The SparseDataFrame class is removed from pandas. Accessing it from the top-level namespace will also be removed in the next version\n",
      "  if isinstance(x, pd.SparseDataFrame):\n",
      "/gpfs/ycga/project/dijk/ngr4/conda_envs/rnavel/lib/python3.7/site-packages/scprep/select.py:333: FutureWarning: The SparseDataFrame class is removed from pandas. Accessing it from the top-level namespace will also be removed in the next version\n",
      "  if isinstance(data, pd.SparseDataFrame):\n",
      "/gpfs/ycga/project/dijk/ngr4/conda_envs/rnavel/lib/python3.7/site-packages/scprep/utils.py:191: FutureWarning: The SparseDataFrame class is removed from pandas. Accessing it from the top-level namespace will also be removed in the next version\n",
      "  if isinstance(x, pd.SparseDataFrame):\n",
      "/gpfs/ycga/project/dijk/ngr4/conda_envs/rnavel/lib/python3.7/site-packages/scprep/utils.py:193: FutureWarning: The SparseSeries class is removed from pandas. Accessing it from the top-level namespace will also be removed in the next version\n",
      "  elif isinstance(x, pd.SparseSeries):\n"
     ]
    },
    {
     "name": "stdout",
     "output_type": "stream",
     "text": [
      "  through 23 iteration. 1.5-min elapsed\n",
      "starting n=0 cells from SCA1, 18wk, Microglia, 1\n",
      "No cells for SCA1, 18wk, Microglia, 1\n",
      "starting n=91 cells from SCA1, 18wk, Oligodendrocyte, 0\n"
     ]
    },
    {
     "name": "stderr",
     "output_type": "stream",
     "text": [
      "/gpfs/ycga/project/dijk/ngr4/conda_envs/rnavel/lib/python3.7/site-packages/scprep/utils.py:236: FutureWarning: The SparseDataFrame class is removed from pandas. Accessing it from the top-level namespace will also be removed in the next version\n",
      "  if isinstance(x, pd.SparseDataFrame):\n",
      "/gpfs/ycga/project/dijk/ngr4/conda_envs/rnavel/lib/python3.7/site-packages/scprep/select.py:333: FutureWarning: The SparseDataFrame class is removed from pandas. Accessing it from the top-level namespace will also be removed in the next version\n",
      "  if isinstance(data, pd.SparseDataFrame):\n",
      "/gpfs/ycga/project/dijk/ngr4/conda_envs/rnavel/lib/python3.7/site-packages/scprep/utils.py:191: FutureWarning: The SparseDataFrame class is removed from pandas. Accessing it from the top-level namespace will also be removed in the next version\n",
      "  if isinstance(x, pd.SparseDataFrame):\n",
      "/gpfs/ycga/project/dijk/ngr4/conda_envs/rnavel/lib/python3.7/site-packages/scprep/utils.py:193: FutureWarning: The SparseSeries class is removed from pandas. Accessing it from the top-level namespace will also be removed in the next version\n",
      "  elif isinstance(x, pd.SparseSeries):\n"
     ]
    },
    {
     "name": "stdout",
     "output_type": "stream",
     "text": [
      "  through 24 iteration. 1.5-min elapsed\n",
      "starting n=0 cells from SCA1, 18wk, Oligodendrocyte, 1\n",
      "No cells for SCA1, 18wk, Oligodendrocyte, 1\n",
      "starting n=13 cells from SCA1, 18wk, Oligodendrocyte progenitor cell, 0\n"
     ]
    },
    {
     "name": "stderr",
     "output_type": "stream",
     "text": [
      "/gpfs/ycga/project/dijk/ngr4/conda_envs/rnavel/lib/python3.7/site-packages/scprep/utils.py:236: FutureWarning: The SparseDataFrame class is removed from pandas. Accessing it from the top-level namespace will also be removed in the next version\n",
      "  if isinstance(x, pd.SparseDataFrame):\n",
      "/gpfs/ycga/project/dijk/ngr4/conda_envs/rnavel/lib/python3.7/site-packages/scprep/select.py:333: FutureWarning: The SparseDataFrame class is removed from pandas. Accessing it from the top-level namespace will also be removed in the next version\n",
      "  if isinstance(data, pd.SparseDataFrame):\n",
      "/gpfs/ycga/project/dijk/ngr4/conda_envs/rnavel/lib/python3.7/site-packages/scprep/utils.py:191: FutureWarning: The SparseDataFrame class is removed from pandas. Accessing it from the top-level namespace will also be removed in the next version\n",
      "  if isinstance(x, pd.SparseDataFrame):\n",
      "/gpfs/ycga/project/dijk/ngr4/conda_envs/rnavel/lib/python3.7/site-packages/scprep/utils.py:193: FutureWarning: The SparseSeries class is removed from pandas. Accessing it from the top-level namespace will also be removed in the next version\n",
      "  elif isinstance(x, pd.SparseSeries):\n"
     ]
    },
    {
     "name": "stdout",
     "output_type": "stream",
     "text": [
      "  through 25 iteration. 1.6-min elapsed\n",
      "starting n=0 cells from SCA1, 18wk, Oligodendrocyte progenitor cell, 1\n",
      "No cells for SCA1, 18wk, Oligodendrocyte progenitor cell, 1\n",
      "starting n=15 cells from SCA1, 18wk, Pericyte, 0\n"
     ]
    },
    {
     "name": "stderr",
     "output_type": "stream",
     "text": [
      "/gpfs/ycga/project/dijk/ngr4/conda_envs/rnavel/lib/python3.7/site-packages/scprep/utils.py:236: FutureWarning: The SparseDataFrame class is removed from pandas. Accessing it from the top-level namespace will also be removed in the next version\n",
      "  if isinstance(x, pd.SparseDataFrame):\n",
      "/gpfs/ycga/project/dijk/ngr4/conda_envs/rnavel/lib/python3.7/site-packages/scprep/select.py:333: FutureWarning: The SparseDataFrame class is removed from pandas. Accessing it from the top-level namespace will also be removed in the next version\n",
      "  if isinstance(data, pd.SparseDataFrame):\n",
      "/gpfs/ycga/project/dijk/ngr4/conda_envs/rnavel/lib/python3.7/site-packages/scprep/utils.py:191: FutureWarning: The SparseDataFrame class is removed from pandas. Accessing it from the top-level namespace will also be removed in the next version\n",
      "  if isinstance(x, pd.SparseDataFrame):\n",
      "/gpfs/ycga/project/dijk/ngr4/conda_envs/rnavel/lib/python3.7/site-packages/scprep/utils.py:193: FutureWarning: The SparseSeries class is removed from pandas. Accessing it from the top-level namespace will also be removed in the next version\n",
      "  elif isinstance(x, pd.SparseSeries):\n"
     ]
    },
    {
     "name": "stdout",
     "output_type": "stream",
     "text": [
      "  through 26 iteration. 1.6-min elapsed\n",
      "starting n=0 cells from SCA1, 18wk, Pericyte, 1\n",
      "No cells for SCA1, 18wk, Pericyte, 1\n",
      "starting n=17 cells from SCA1, 18wk, Purkinje cell, 0\n"
     ]
    },
    {
     "name": "stderr",
     "output_type": "stream",
     "text": [
      "/gpfs/ycga/project/dijk/ngr4/conda_envs/rnavel/lib/python3.7/site-packages/scprep/utils.py:236: FutureWarning: The SparseDataFrame class is removed from pandas. Accessing it from the top-level namespace will also be removed in the next version\n",
      "  if isinstance(x, pd.SparseDataFrame):\n",
      "/gpfs/ycga/project/dijk/ngr4/conda_envs/rnavel/lib/python3.7/site-packages/scprep/select.py:333: FutureWarning: The SparseDataFrame class is removed from pandas. Accessing it from the top-level namespace will also be removed in the next version\n",
      "  if isinstance(data, pd.SparseDataFrame):\n",
      "/gpfs/ycga/project/dijk/ngr4/conda_envs/rnavel/lib/python3.7/site-packages/scprep/utils.py:191: FutureWarning: The SparseDataFrame class is removed from pandas. Accessing it from the top-level namespace will also be removed in the next version\n",
      "  if isinstance(x, pd.SparseDataFrame):\n",
      "/gpfs/ycga/project/dijk/ngr4/conda_envs/rnavel/lib/python3.7/site-packages/scprep/utils.py:193: FutureWarning: The SparseSeries class is removed from pandas. Accessing it from the top-level namespace will also be removed in the next version\n",
      "  elif isinstance(x, pd.SparseSeries):\n"
     ]
    },
    {
     "name": "stdout",
     "output_type": "stream",
     "text": [
      "  through 27 iteration. 1.7-min elapsed\n",
      "starting n=0 cells from SCA1, 18wk, Purkinje cell, 1\n",
      "No cells for SCA1, 18wk, Purkinje cell, 1\n",
      "starting n=9 cells from SCA1, 18wk, Unipolar brush cell, 0\n"
     ]
    },
    {
     "name": "stderr",
     "output_type": "stream",
     "text": [
      "/gpfs/ycga/project/dijk/ngr4/conda_envs/rnavel/lib/python3.7/site-packages/scprep/utils.py:236: FutureWarning: The SparseDataFrame class is removed from pandas. Accessing it from the top-level namespace will also be removed in the next version\n",
      "  if isinstance(x, pd.SparseDataFrame):\n",
      "/gpfs/ycga/project/dijk/ngr4/conda_envs/rnavel/lib/python3.7/site-packages/scprep/select.py:333: FutureWarning: The SparseDataFrame class is removed from pandas. Accessing it from the top-level namespace will also be removed in the next version\n",
      "  if isinstance(data, pd.SparseDataFrame):\n",
      "/gpfs/ycga/project/dijk/ngr4/conda_envs/rnavel/lib/python3.7/site-packages/scprep/utils.py:191: FutureWarning: The SparseDataFrame class is removed from pandas. Accessing it from the top-level namespace will also be removed in the next version\n",
      "  if isinstance(x, pd.SparseDataFrame):\n",
      "/gpfs/ycga/project/dijk/ngr4/conda_envs/rnavel/lib/python3.7/site-packages/scprep/utils.py:193: FutureWarning: The SparseSeries class is removed from pandas. Accessing it from the top-level namespace will also be removed in the next version\n",
      "  elif isinstance(x, pd.SparseSeries):\n"
     ]
    },
    {
     "name": "stdout",
     "output_type": "stream",
     "text": [
      "  through 28 iteration. 1.7-min elapsed\n",
      "starting n=0 cells from SCA1, 18wk, Unipolar brush cell, 1\n",
      "No cells for SCA1, 18wk, Unipolar brush cell, 1\n",
      "starting n=13 cells from SCA1, 24wk, Astrocyte, 0\n"
     ]
    },
    {
     "name": "stderr",
     "output_type": "stream",
     "text": [
      "/gpfs/ycga/project/dijk/ngr4/conda_envs/rnavel/lib/python3.7/site-packages/scprep/utils.py:236: FutureWarning: The SparseDataFrame class is removed from pandas. Accessing it from the top-level namespace will also be removed in the next version\n",
      "  if isinstance(x, pd.SparseDataFrame):\n",
      "/gpfs/ycga/project/dijk/ngr4/conda_envs/rnavel/lib/python3.7/site-packages/scprep/select.py:333: FutureWarning: The SparseDataFrame class is removed from pandas. Accessing it from the top-level namespace will also be removed in the next version\n",
      "  if isinstance(data, pd.SparseDataFrame):\n",
      "/gpfs/ycga/project/dijk/ngr4/conda_envs/rnavel/lib/python3.7/site-packages/scprep/utils.py:191: FutureWarning: The SparseDataFrame class is removed from pandas. Accessing it from the top-level namespace will also be removed in the next version\n",
      "  if isinstance(x, pd.SparseDataFrame):\n",
      "/gpfs/ycga/project/dijk/ngr4/conda_envs/rnavel/lib/python3.7/site-packages/scprep/utils.py:193: FutureWarning: The SparseSeries class is removed from pandas. Accessing it from the top-level namespace will also be removed in the next version\n",
      "  elif isinstance(x, pd.SparseSeries):\n"
     ]
    },
    {
     "name": "stdout",
     "output_type": "stream",
     "text": [
      "  through 29 iteration. 1.8-min elapsed\n",
      "starting n=13 cells from SCA1, 24wk, Astrocyte, 1\n"
     ]
    },
    {
     "name": "stderr",
     "output_type": "stream",
     "text": [
      "/gpfs/ycga/project/dijk/ngr4/conda_envs/rnavel/lib/python3.7/site-packages/scprep/utils.py:236: FutureWarning: The SparseDataFrame class is removed from pandas. Accessing it from the top-level namespace will also be removed in the next version\n",
      "  if isinstance(x, pd.SparseDataFrame):\n",
      "/gpfs/ycga/project/dijk/ngr4/conda_envs/rnavel/lib/python3.7/site-packages/scprep/select.py:333: FutureWarning: The SparseDataFrame class is removed from pandas. Accessing it from the top-level namespace will also be removed in the next version\n",
      "  if isinstance(data, pd.SparseDataFrame):\n",
      "/gpfs/ycga/project/dijk/ngr4/conda_envs/rnavel/lib/python3.7/site-packages/scprep/utils.py:191: FutureWarning: The SparseDataFrame class is removed from pandas. Accessing it from the top-level namespace will also be removed in the next version\n",
      "  if isinstance(x, pd.SparseDataFrame):\n",
      "/gpfs/ycga/project/dijk/ngr4/conda_envs/rnavel/lib/python3.7/site-packages/scprep/utils.py:193: FutureWarning: The SparseSeries class is removed from pandas. Accessing it from the top-level namespace will also be removed in the next version\n",
      "  elif isinstance(x, pd.SparseSeries):\n"
     ]
    },
    {
     "name": "stdout",
     "output_type": "stream",
     "text": [
      "  through 30 iteration. 1.9-min elapsed\n",
      "starting n=10 cells from SCA1, 24wk, Bergmann glia, 0\n"
     ]
    },
    {
     "name": "stderr",
     "output_type": "stream",
     "text": [
      "/gpfs/ycga/project/dijk/ngr4/conda_envs/rnavel/lib/python3.7/site-packages/scprep/utils.py:236: FutureWarning: The SparseDataFrame class is removed from pandas. Accessing it from the top-level namespace will also be removed in the next version\n",
      "  if isinstance(x, pd.SparseDataFrame):\n",
      "/gpfs/ycga/project/dijk/ngr4/conda_envs/rnavel/lib/python3.7/site-packages/scprep/select.py:333: FutureWarning: The SparseDataFrame class is removed from pandas. Accessing it from the top-level namespace will also be removed in the next version\n",
      "  if isinstance(data, pd.SparseDataFrame):\n",
      "/gpfs/ycga/project/dijk/ngr4/conda_envs/rnavel/lib/python3.7/site-packages/scprep/utils.py:191: FutureWarning: The SparseDataFrame class is removed from pandas. Accessing it from the top-level namespace will also be removed in the next version\n",
      "  if isinstance(x, pd.SparseDataFrame):\n",
      "/gpfs/ycga/project/dijk/ngr4/conda_envs/rnavel/lib/python3.7/site-packages/scprep/utils.py:193: FutureWarning: The SparseSeries class is removed from pandas. Accessing it from the top-level namespace will also be removed in the next version\n",
      "  elif isinstance(x, pd.SparseSeries):\n"
     ]
    },
    {
     "name": "stdout",
     "output_type": "stream",
     "text": [
      "  through 31 iteration. 1.9-min elapsed\n",
      "starting n=19 cells from SCA1, 24wk, Bergmann glia, 1\n"
     ]
    },
    {
     "name": "stderr",
     "output_type": "stream",
     "text": [
      "/gpfs/ycga/project/dijk/ngr4/conda_envs/rnavel/lib/python3.7/site-packages/scprep/utils.py:236: FutureWarning: The SparseDataFrame class is removed from pandas. Accessing it from the top-level namespace will also be removed in the next version\n",
      "  if isinstance(x, pd.SparseDataFrame):\n",
      "/gpfs/ycga/project/dijk/ngr4/conda_envs/rnavel/lib/python3.7/site-packages/scprep/select.py:333: FutureWarning: The SparseDataFrame class is removed from pandas. Accessing it from the top-level namespace will also be removed in the next version\n",
      "  if isinstance(data, pd.SparseDataFrame):\n",
      "/gpfs/ycga/project/dijk/ngr4/conda_envs/rnavel/lib/python3.7/site-packages/scprep/utils.py:191: FutureWarning: The SparseDataFrame class is removed from pandas. Accessing it from the top-level namespace will also be removed in the next version\n",
      "  if isinstance(x, pd.SparseDataFrame):\n",
      "/gpfs/ycga/project/dijk/ngr4/conda_envs/rnavel/lib/python3.7/site-packages/scprep/utils.py:193: FutureWarning: The SparseSeries class is removed from pandas. Accessing it from the top-level namespace will also be removed in the next version\n",
      "  elif isinstance(x, pd.SparseSeries):\n"
     ]
    },
    {
     "name": "stdout",
     "output_type": "stream",
     "text": [
      "  through 32 iteration. 2.0-min elapsed\n",
      "starting n=3 cells from SCA1, 24wk, Deep cerebellar nuclei, 0\n"
     ]
    },
    {
     "name": "stderr",
     "output_type": "stream",
     "text": [
      "/gpfs/ycga/project/dijk/ngr4/conda_envs/rnavel/lib/python3.7/site-packages/scprep/utils.py:236: FutureWarning: The SparseDataFrame class is removed from pandas. Accessing it from the top-level namespace will also be removed in the next version\n",
      "  if isinstance(x, pd.SparseDataFrame):\n",
      "/gpfs/ycga/project/dijk/ngr4/conda_envs/rnavel/lib/python3.7/site-packages/scprep/select.py:333: FutureWarning: The SparseDataFrame class is removed from pandas. Accessing it from the top-level namespace will also be removed in the next version\n",
      "  if isinstance(data, pd.SparseDataFrame):\n",
      "/gpfs/ycga/project/dijk/ngr4/conda_envs/rnavel/lib/python3.7/site-packages/scprep/utils.py:191: FutureWarning: The SparseDataFrame class is removed from pandas. Accessing it from the top-level namespace will also be removed in the next version\n",
      "  if isinstance(x, pd.SparseDataFrame):\n",
      "/gpfs/ycga/project/dijk/ngr4/conda_envs/rnavel/lib/python3.7/site-packages/scprep/utils.py:193: FutureWarning: The SparseSeries class is removed from pandas. Accessing it from the top-level namespace will also be removed in the next version\n",
      "  elif isinstance(x, pd.SparseSeries):\n"
     ]
    },
    {
     "name": "stdout",
     "output_type": "stream",
     "text": [
      "  through 33 iteration. 2.0-min elapsed\n",
      "starting n=10 cells from SCA1, 24wk, Deep cerebellar nuclei, 1\n"
     ]
    },
    {
     "name": "stderr",
     "output_type": "stream",
     "text": [
      "/gpfs/ycga/project/dijk/ngr4/conda_envs/rnavel/lib/python3.7/site-packages/scprep/utils.py:236: FutureWarning: The SparseDataFrame class is removed from pandas. Accessing it from the top-level namespace will also be removed in the next version\n",
      "  if isinstance(x, pd.SparseDataFrame):\n",
      "/gpfs/ycga/project/dijk/ngr4/conda_envs/rnavel/lib/python3.7/site-packages/scprep/select.py:333: FutureWarning: The SparseDataFrame class is removed from pandas. Accessing it from the top-level namespace will also be removed in the next version\n",
      "  if isinstance(data, pd.SparseDataFrame):\n",
      "/gpfs/ycga/project/dijk/ngr4/conda_envs/rnavel/lib/python3.7/site-packages/scprep/utils.py:191: FutureWarning: The SparseDataFrame class is removed from pandas. Accessing it from the top-level namespace will also be removed in the next version\n",
      "  if isinstance(x, pd.SparseDataFrame):\n",
      "/gpfs/ycga/project/dijk/ngr4/conda_envs/rnavel/lib/python3.7/site-packages/scprep/utils.py:193: FutureWarning: The SparseSeries class is removed from pandas. Accessing it from the top-level namespace will also be removed in the next version\n",
      "  elif isinstance(x, pd.SparseSeries):\n"
     ]
    },
    {
     "name": "stdout",
     "output_type": "stream",
     "text": [
      "  through 34 iteration. 2.1-min elapsed\n",
      "starting n=7 cells from SCA1, 24wk, Endothelial cell, 0\n"
     ]
    },
    {
     "name": "stderr",
     "output_type": "stream",
     "text": [
      "/gpfs/ycga/project/dijk/ngr4/conda_envs/rnavel/lib/python3.7/site-packages/scprep/utils.py:236: FutureWarning: The SparseDataFrame class is removed from pandas. Accessing it from the top-level namespace will also be removed in the next version\n",
      "  if isinstance(x, pd.SparseDataFrame):\n",
      "/gpfs/ycga/project/dijk/ngr4/conda_envs/rnavel/lib/python3.7/site-packages/scprep/select.py:333: FutureWarning: The SparseDataFrame class is removed from pandas. Accessing it from the top-level namespace will also be removed in the next version\n",
      "  if isinstance(data, pd.SparseDataFrame):\n",
      "/gpfs/ycga/project/dijk/ngr4/conda_envs/rnavel/lib/python3.7/site-packages/scprep/utils.py:191: FutureWarning: The SparseDataFrame class is removed from pandas. Accessing it from the top-level namespace will also be removed in the next version\n",
      "  if isinstance(x, pd.SparseDataFrame):\n",
      "/gpfs/ycga/project/dijk/ngr4/conda_envs/rnavel/lib/python3.7/site-packages/scprep/utils.py:193: FutureWarning: The SparseSeries class is removed from pandas. Accessing it from the top-level namespace will also be removed in the next version\n",
      "  elif isinstance(x, pd.SparseSeries):\n"
     ]
    },
    {
     "name": "stdout",
     "output_type": "stream",
     "text": [
      "  through 35 iteration. 2.2-min elapsed\n",
      "starting n=8 cells from SCA1, 24wk, Endothelial cell, 1\n"
     ]
    },
    {
     "name": "stderr",
     "output_type": "stream",
     "text": [
      "/gpfs/ycga/project/dijk/ngr4/conda_envs/rnavel/lib/python3.7/site-packages/scprep/utils.py:236: FutureWarning: The SparseDataFrame class is removed from pandas. Accessing it from the top-level namespace will also be removed in the next version\n",
      "  if isinstance(x, pd.SparseDataFrame):\n",
      "/gpfs/ycga/project/dijk/ngr4/conda_envs/rnavel/lib/python3.7/site-packages/scprep/select.py:333: FutureWarning: The SparseDataFrame class is removed from pandas. Accessing it from the top-level namespace will also be removed in the next version\n",
      "  if isinstance(data, pd.SparseDataFrame):\n",
      "/gpfs/ycga/project/dijk/ngr4/conda_envs/rnavel/lib/python3.7/site-packages/scprep/utils.py:191: FutureWarning: The SparseDataFrame class is removed from pandas. Accessing it from the top-level namespace will also be removed in the next version\n",
      "  if isinstance(x, pd.SparseDataFrame):\n",
      "/gpfs/ycga/project/dijk/ngr4/conda_envs/rnavel/lib/python3.7/site-packages/scprep/utils.py:193: FutureWarning: The SparseSeries class is removed from pandas. Accessing it from the top-level namespace will also be removed in the next version\n",
      "  elif isinstance(x, pd.SparseSeries):\n"
     ]
    },
    {
     "name": "stdout",
     "output_type": "stream",
     "text": [
      "  through 36 iteration. 2.2-min elapsed\n",
      "starting n=14 cells from SCA1, 24wk, GABAergic interneuron 1, 0\n"
     ]
    },
    {
     "name": "stderr",
     "output_type": "stream",
     "text": [
      "/gpfs/ycga/project/dijk/ngr4/conda_envs/rnavel/lib/python3.7/site-packages/scprep/utils.py:236: FutureWarning: The SparseDataFrame class is removed from pandas. Accessing it from the top-level namespace will also be removed in the next version\n",
      "  if isinstance(x, pd.SparseDataFrame):\n",
      "/gpfs/ycga/project/dijk/ngr4/conda_envs/rnavel/lib/python3.7/site-packages/scprep/select.py:333: FutureWarning: The SparseDataFrame class is removed from pandas. Accessing it from the top-level namespace will also be removed in the next version\n",
      "  if isinstance(data, pd.SparseDataFrame):\n",
      "/gpfs/ycga/project/dijk/ngr4/conda_envs/rnavel/lib/python3.7/site-packages/scprep/utils.py:191: FutureWarning: The SparseDataFrame class is removed from pandas. Accessing it from the top-level namespace will also be removed in the next version\n",
      "  if isinstance(x, pd.SparseDataFrame):\n",
      "/gpfs/ycga/project/dijk/ngr4/conda_envs/rnavel/lib/python3.7/site-packages/scprep/utils.py:193: FutureWarning: The SparseSeries class is removed from pandas. Accessing it from the top-level namespace will also be removed in the next version\n",
      "  elif isinstance(x, pd.SparseSeries):\n"
     ]
    },
    {
     "name": "stdout",
     "output_type": "stream",
     "text": [
      "  through 37 iteration. 2.3-min elapsed\n",
      "starting n=27 cells from SCA1, 24wk, GABAergic interneuron 1, 1\n"
     ]
    },
    {
     "name": "stderr",
     "output_type": "stream",
     "text": [
      "/gpfs/ycga/project/dijk/ngr4/conda_envs/rnavel/lib/python3.7/site-packages/scprep/utils.py:236: FutureWarning: The SparseDataFrame class is removed from pandas. Accessing it from the top-level namespace will also be removed in the next version\n",
      "  if isinstance(x, pd.SparseDataFrame):\n",
      "/gpfs/ycga/project/dijk/ngr4/conda_envs/rnavel/lib/python3.7/site-packages/scprep/select.py:333: FutureWarning: The SparseDataFrame class is removed from pandas. Accessing it from the top-level namespace will also be removed in the next version\n",
      "  if isinstance(data, pd.SparseDataFrame):\n",
      "/gpfs/ycga/project/dijk/ngr4/conda_envs/rnavel/lib/python3.7/site-packages/scprep/utils.py:191: FutureWarning: The SparseDataFrame class is removed from pandas. Accessing it from the top-level namespace will also be removed in the next version\n",
      "  if isinstance(x, pd.SparseDataFrame):\n",
      "/gpfs/ycga/project/dijk/ngr4/conda_envs/rnavel/lib/python3.7/site-packages/scprep/utils.py:193: FutureWarning: The SparseSeries class is removed from pandas. Accessing it from the top-level namespace will also be removed in the next version\n",
      "  elif isinstance(x, pd.SparseSeries):\n"
     ]
    },
    {
     "name": "stdout",
     "output_type": "stream",
     "text": [
      "  through 38 iteration. 2.3-min elapsed\n",
      "starting n=3 cells from SCA1, 24wk, GABAergic interneuron 2, 0\n"
     ]
    },
    {
     "name": "stderr",
     "output_type": "stream",
     "text": [
      "/gpfs/ycga/project/dijk/ngr4/conda_envs/rnavel/lib/python3.7/site-packages/scprep/utils.py:236: FutureWarning: The SparseDataFrame class is removed from pandas. Accessing it from the top-level namespace will also be removed in the next version\n",
      "  if isinstance(x, pd.SparseDataFrame):\n",
      "/gpfs/ycga/project/dijk/ngr4/conda_envs/rnavel/lib/python3.7/site-packages/scprep/select.py:333: FutureWarning: The SparseDataFrame class is removed from pandas. Accessing it from the top-level namespace will also be removed in the next version\n",
      "  if isinstance(data, pd.SparseDataFrame):\n",
      "/gpfs/ycga/project/dijk/ngr4/conda_envs/rnavel/lib/python3.7/site-packages/scprep/utils.py:191: FutureWarning: The SparseDataFrame class is removed from pandas. Accessing it from the top-level namespace will also be removed in the next version\n",
      "  if isinstance(x, pd.SparseDataFrame):\n",
      "/gpfs/ycga/project/dijk/ngr4/conda_envs/rnavel/lib/python3.7/site-packages/scprep/utils.py:193: FutureWarning: The SparseSeries class is removed from pandas. Accessing it from the top-level namespace will also be removed in the next version\n",
      "  elif isinstance(x, pd.SparseSeries):\n"
     ]
    },
    {
     "name": "stdout",
     "output_type": "stream",
     "text": [
      "  through 39 iteration. 2.4-min elapsed\n",
      "starting n=7 cells from SCA1, 24wk, GABAergic interneuron 2, 1\n"
     ]
    },
    {
     "name": "stderr",
     "output_type": "stream",
     "text": [
      "/gpfs/ycga/project/dijk/ngr4/conda_envs/rnavel/lib/python3.7/site-packages/scprep/utils.py:236: FutureWarning: The SparseDataFrame class is removed from pandas. Accessing it from the top-level namespace will also be removed in the next version\n",
      "  if isinstance(x, pd.SparseDataFrame):\n",
      "/gpfs/ycga/project/dijk/ngr4/conda_envs/rnavel/lib/python3.7/site-packages/scprep/select.py:333: FutureWarning: The SparseDataFrame class is removed from pandas. Accessing it from the top-level namespace will also be removed in the next version\n",
      "  if isinstance(data, pd.SparseDataFrame):\n",
      "/gpfs/ycga/project/dijk/ngr4/conda_envs/rnavel/lib/python3.7/site-packages/scprep/utils.py:191: FutureWarning: The SparseDataFrame class is removed from pandas. Accessing it from the top-level namespace will also be removed in the next version\n",
      "  if isinstance(x, pd.SparseDataFrame):\n",
      "/gpfs/ycga/project/dijk/ngr4/conda_envs/rnavel/lib/python3.7/site-packages/scprep/utils.py:193: FutureWarning: The SparseSeries class is removed from pandas. Accessing it from the top-level namespace will also be removed in the next version\n",
      "  elif isinstance(x, pd.SparseSeries):\n"
     ]
    },
    {
     "name": "stdout",
     "output_type": "stream",
     "text": [
      "  through 40 iteration. 2.4-min elapsed\n",
      "starting n=0 cells from SCA1, 24wk, GABAergic interneuron 3, 0\n",
      "No cells for SCA1, 24wk, GABAergic interneuron 3, 0\n",
      "starting n=0 cells from SCA1, 24wk, GABAergic interneuron 3, 1\n",
      "No cells for SCA1, 24wk, GABAergic interneuron 3, 1\n",
      "starting n=344 cells from SCA1, 24wk, Granule cell, 0\n"
     ]
    },
    {
     "name": "stderr",
     "output_type": "stream",
     "text": [
      "/gpfs/ycga/project/dijk/ngr4/conda_envs/rnavel/lib/python3.7/site-packages/scprep/utils.py:236: FutureWarning: The SparseDataFrame class is removed from pandas. Accessing it from the top-level namespace will also be removed in the next version\n",
      "  if isinstance(x, pd.SparseDataFrame):\n",
      "/gpfs/ycga/project/dijk/ngr4/conda_envs/rnavel/lib/python3.7/site-packages/scprep/select.py:333: FutureWarning: The SparseDataFrame class is removed from pandas. Accessing it from the top-level namespace will also be removed in the next version\n",
      "  if isinstance(data, pd.SparseDataFrame):\n",
      "/gpfs/ycga/project/dijk/ngr4/conda_envs/rnavel/lib/python3.7/site-packages/scprep/utils.py:191: FutureWarning: The SparseDataFrame class is removed from pandas. Accessing it from the top-level namespace will also be removed in the next version\n",
      "  if isinstance(x, pd.SparseDataFrame):\n",
      "/gpfs/ycga/project/dijk/ngr4/conda_envs/rnavel/lib/python3.7/site-packages/scprep/utils.py:193: FutureWarning: The SparseSeries class is removed from pandas. Accessing it from the top-level namespace will also be removed in the next version\n",
      "  elif isinstance(x, pd.SparseSeries):\n"
     ]
    },
    {
     "name": "stdout",
     "output_type": "stream",
     "text": [
      "  through 41 iteration. 2.5-min elapsed\n",
      "starting n=852 cells from SCA1, 24wk, Granule cell, 1\n"
     ]
    },
    {
     "name": "stderr",
     "output_type": "stream",
     "text": [
      "/gpfs/ycga/project/dijk/ngr4/conda_envs/rnavel/lib/python3.7/site-packages/scprep/utils.py:236: FutureWarning: The SparseDataFrame class is removed from pandas. Accessing it from the top-level namespace will also be removed in the next version\n",
      "  if isinstance(x, pd.SparseDataFrame):\n",
      "/gpfs/ycga/project/dijk/ngr4/conda_envs/rnavel/lib/python3.7/site-packages/scprep/select.py:333: FutureWarning: The SparseDataFrame class is removed from pandas. Accessing it from the top-level namespace will also be removed in the next version\n",
      "  if isinstance(data, pd.SparseDataFrame):\n",
      "/gpfs/ycga/project/dijk/ngr4/conda_envs/rnavel/lib/python3.7/site-packages/scprep/utils.py:191: FutureWarning: The SparseDataFrame class is removed from pandas. Accessing it from the top-level namespace will also be removed in the next version\n",
      "  if isinstance(x, pd.SparseDataFrame):\n",
      "/gpfs/ycga/project/dijk/ngr4/conda_envs/rnavel/lib/python3.7/site-packages/scprep/utils.py:193: FutureWarning: The SparseSeries class is removed from pandas. Accessing it from the top-level namespace will also be removed in the next version\n",
      "  elif isinstance(x, pd.SparseSeries):\n"
     ]
    },
    {
     "name": "stdout",
     "output_type": "stream",
     "text": [
      "  through 42 iteration. 2.6-min elapsed\n",
      "starting n=2 cells from SCA1, 24wk, Microglia, 0\n"
     ]
    },
    {
     "name": "stderr",
     "output_type": "stream",
     "text": [
      "/gpfs/ycga/project/dijk/ngr4/conda_envs/rnavel/lib/python3.7/site-packages/scprep/utils.py:236: FutureWarning: The SparseDataFrame class is removed from pandas. Accessing it from the top-level namespace will also be removed in the next version\n",
      "  if isinstance(x, pd.SparseDataFrame):\n",
      "/gpfs/ycga/project/dijk/ngr4/conda_envs/rnavel/lib/python3.7/site-packages/scprep/select.py:333: FutureWarning: The SparseDataFrame class is removed from pandas. Accessing it from the top-level namespace will also be removed in the next version\n",
      "  if isinstance(data, pd.SparseDataFrame):\n",
      "/gpfs/ycga/project/dijk/ngr4/conda_envs/rnavel/lib/python3.7/site-packages/scprep/utils.py:191: FutureWarning: The SparseDataFrame class is removed from pandas. Accessing it from the top-level namespace will also be removed in the next version\n",
      "  if isinstance(x, pd.SparseDataFrame):\n",
      "/gpfs/ycga/project/dijk/ngr4/conda_envs/rnavel/lib/python3.7/site-packages/scprep/utils.py:193: FutureWarning: The SparseSeries class is removed from pandas. Accessing it from the top-level namespace will also be removed in the next version\n",
      "  elif isinstance(x, pd.SparseSeries):\n"
     ]
    },
    {
     "name": "stdout",
     "output_type": "stream",
     "text": [
      "  through 43 iteration. 2.7-min elapsed\n",
      "starting n=1 cells from SCA1, 24wk, Microglia, 1\n"
     ]
    },
    {
     "name": "stderr",
     "output_type": "stream",
     "text": [
      "/gpfs/ycga/project/dijk/ngr4/conda_envs/rnavel/lib/python3.7/site-packages/scprep/utils.py:236: FutureWarning: The SparseDataFrame class is removed from pandas. Accessing it from the top-level namespace will also be removed in the next version\n",
      "  if isinstance(x, pd.SparseDataFrame):\n",
      "/gpfs/ycga/project/dijk/ngr4/conda_envs/rnavel/lib/python3.7/site-packages/scprep/select.py:333: FutureWarning: The SparseDataFrame class is removed from pandas. Accessing it from the top-level namespace will also be removed in the next version\n",
      "  if isinstance(data, pd.SparseDataFrame):\n",
      "/gpfs/ycga/project/dijk/ngr4/conda_envs/rnavel/lib/python3.7/site-packages/scprep/utils.py:191: FutureWarning: The SparseDataFrame class is removed from pandas. Accessing it from the top-level namespace will also be removed in the next version\n",
      "  if isinstance(x, pd.SparseDataFrame):\n",
      "/gpfs/ycga/project/dijk/ngr4/conda_envs/rnavel/lib/python3.7/site-packages/scprep/utils.py:193: FutureWarning: The SparseSeries class is removed from pandas. Accessing it from the top-level namespace will also be removed in the next version\n",
      "  elif isinstance(x, pd.SparseSeries):\n"
     ]
    },
    {
     "name": "stdout",
     "output_type": "stream",
     "text": [
      "  through 44 iteration. 2.7-min elapsed\n",
      "starting n=6 cells from SCA1, 24wk, Oligodendrocyte, 0\n"
     ]
    },
    {
     "name": "stderr",
     "output_type": "stream",
     "text": [
      "/gpfs/ycga/project/dijk/ngr4/conda_envs/rnavel/lib/python3.7/site-packages/scprep/utils.py:236: FutureWarning: The SparseDataFrame class is removed from pandas. Accessing it from the top-level namespace will also be removed in the next version\n",
      "  if isinstance(x, pd.SparseDataFrame):\n",
      "/gpfs/ycga/project/dijk/ngr4/conda_envs/rnavel/lib/python3.7/site-packages/scprep/select.py:333: FutureWarning: The SparseDataFrame class is removed from pandas. Accessing it from the top-level namespace will also be removed in the next version\n",
      "  if isinstance(data, pd.SparseDataFrame):\n",
      "/gpfs/ycga/project/dijk/ngr4/conda_envs/rnavel/lib/python3.7/site-packages/scprep/utils.py:191: FutureWarning: The SparseDataFrame class is removed from pandas. Accessing it from the top-level namespace will also be removed in the next version\n",
      "  if isinstance(x, pd.SparseDataFrame):\n",
      "/gpfs/ycga/project/dijk/ngr4/conda_envs/rnavel/lib/python3.7/site-packages/scprep/utils.py:193: FutureWarning: The SparseSeries class is removed from pandas. Accessing it from the top-level namespace will also be removed in the next version\n",
      "  elif isinstance(x, pd.SparseSeries):\n"
     ]
    },
    {
     "name": "stdout",
     "output_type": "stream",
     "text": [
      "  through 45 iteration. 2.8-min elapsed\n",
      "starting n=18 cells from SCA1, 24wk, Oligodendrocyte, 1\n"
     ]
    },
    {
     "name": "stderr",
     "output_type": "stream",
     "text": [
      "/gpfs/ycga/project/dijk/ngr4/conda_envs/rnavel/lib/python3.7/site-packages/scprep/utils.py:236: FutureWarning: The SparseDataFrame class is removed from pandas. Accessing it from the top-level namespace will also be removed in the next version\n",
      "  if isinstance(x, pd.SparseDataFrame):\n",
      "/gpfs/ycga/project/dijk/ngr4/conda_envs/rnavel/lib/python3.7/site-packages/scprep/select.py:333: FutureWarning: The SparseDataFrame class is removed from pandas. Accessing it from the top-level namespace will also be removed in the next version\n",
      "  if isinstance(data, pd.SparseDataFrame):\n",
      "/gpfs/ycga/project/dijk/ngr4/conda_envs/rnavel/lib/python3.7/site-packages/scprep/utils.py:191: FutureWarning: The SparseDataFrame class is removed from pandas. Accessing it from the top-level namespace will also be removed in the next version\n",
      "  if isinstance(x, pd.SparseDataFrame):\n",
      "/gpfs/ycga/project/dijk/ngr4/conda_envs/rnavel/lib/python3.7/site-packages/scprep/utils.py:193: FutureWarning: The SparseSeries class is removed from pandas. Accessing it from the top-level namespace will also be removed in the next version\n",
      "  elif isinstance(x, pd.SparseSeries):\n"
     ]
    },
    {
     "name": "stdout",
     "output_type": "stream",
     "text": [
      "  through 46 iteration. 2.8-min elapsed\n",
      "starting n=1 cells from SCA1, 24wk, Oligodendrocyte progenitor cell, 0\n"
     ]
    },
    {
     "name": "stderr",
     "output_type": "stream",
     "text": [
      "/gpfs/ycga/project/dijk/ngr4/conda_envs/rnavel/lib/python3.7/site-packages/scprep/utils.py:236: FutureWarning: The SparseDataFrame class is removed from pandas. Accessing it from the top-level namespace will also be removed in the next version\n",
      "  if isinstance(x, pd.SparseDataFrame):\n",
      "/gpfs/ycga/project/dijk/ngr4/conda_envs/rnavel/lib/python3.7/site-packages/scprep/select.py:333: FutureWarning: The SparseDataFrame class is removed from pandas. Accessing it from the top-level namespace will also be removed in the next version\n",
      "  if isinstance(data, pd.SparseDataFrame):\n",
      "/gpfs/ycga/project/dijk/ngr4/conda_envs/rnavel/lib/python3.7/site-packages/scprep/utils.py:191: FutureWarning: The SparseDataFrame class is removed from pandas. Accessing it from the top-level namespace will also be removed in the next version\n",
      "  if isinstance(x, pd.SparseDataFrame):\n",
      "/gpfs/ycga/project/dijk/ngr4/conda_envs/rnavel/lib/python3.7/site-packages/scprep/utils.py:193: FutureWarning: The SparseSeries class is removed from pandas. Accessing it from the top-level namespace will also be removed in the next version\n",
      "  elif isinstance(x, pd.SparseSeries):\n"
     ]
    },
    {
     "name": "stdout",
     "output_type": "stream",
     "text": [
      "  through 47 iteration. 2.9-min elapsed\n",
      "starting n=5 cells from SCA1, 24wk, Oligodendrocyte progenitor cell, 1\n",
      "No cells for WT, 24wk, Oligodendrocyte progenitor cell\n",
      "starting n=4 cells from SCA1, 24wk, Pericyte, 0\n"
     ]
    },
    {
     "name": "stderr",
     "output_type": "stream",
     "text": [
      "/gpfs/ycga/project/dijk/ngr4/conda_envs/rnavel/lib/python3.7/site-packages/scprep/utils.py:236: FutureWarning: The SparseDataFrame class is removed from pandas. Accessing it from the top-level namespace will also be removed in the next version\n",
      "  if isinstance(x, pd.SparseDataFrame):\n",
      "/gpfs/ycga/project/dijk/ngr4/conda_envs/rnavel/lib/python3.7/site-packages/scprep/select.py:333: FutureWarning: The SparseDataFrame class is removed from pandas. Accessing it from the top-level namespace will also be removed in the next version\n",
      "  if isinstance(data, pd.SparseDataFrame):\n",
      "/gpfs/ycga/project/dijk/ngr4/conda_envs/rnavel/lib/python3.7/site-packages/scprep/utils.py:191: FutureWarning: The SparseDataFrame class is removed from pandas. Accessing it from the top-level namespace will also be removed in the next version\n",
      "  if isinstance(x, pd.SparseDataFrame):\n",
      "/gpfs/ycga/project/dijk/ngr4/conda_envs/rnavel/lib/python3.7/site-packages/scprep/utils.py:193: FutureWarning: The SparseSeries class is removed from pandas. Accessing it from the top-level namespace will also be removed in the next version\n",
      "  elif isinstance(x, pd.SparseSeries):\n"
     ]
    },
    {
     "name": "stdout",
     "output_type": "stream",
     "text": [
      "  through 48 iteration. 3.0-min elapsed\n",
      "starting n=4 cells from SCA1, 24wk, Pericyte, 1\n"
     ]
    },
    {
     "name": "stderr",
     "output_type": "stream",
     "text": [
      "/gpfs/ycga/project/dijk/ngr4/conda_envs/rnavel/lib/python3.7/site-packages/scprep/utils.py:236: FutureWarning: The SparseDataFrame class is removed from pandas. Accessing it from the top-level namespace will also be removed in the next version\n",
      "  if isinstance(x, pd.SparseDataFrame):\n",
      "/gpfs/ycga/project/dijk/ngr4/conda_envs/rnavel/lib/python3.7/site-packages/scprep/select.py:333: FutureWarning: The SparseDataFrame class is removed from pandas. Accessing it from the top-level namespace will also be removed in the next version\n",
      "  if isinstance(data, pd.SparseDataFrame):\n",
      "/gpfs/ycga/project/dijk/ngr4/conda_envs/rnavel/lib/python3.7/site-packages/scprep/utils.py:191: FutureWarning: The SparseDataFrame class is removed from pandas. Accessing it from the top-level namespace will also be removed in the next version\n",
      "  if isinstance(x, pd.SparseDataFrame):\n",
      "/gpfs/ycga/project/dijk/ngr4/conda_envs/rnavel/lib/python3.7/site-packages/scprep/utils.py:193: FutureWarning: The SparseSeries class is removed from pandas. Accessing it from the top-level namespace will also be removed in the next version\n",
      "  elif isinstance(x, pd.SparseSeries):\n"
     ]
    },
    {
     "name": "stdout",
     "output_type": "stream",
     "text": [
      "  through 49 iteration. 3.0-min elapsed\n",
      "starting n=5 cells from SCA1, 24wk, Purkinje cell, 0\n"
     ]
    },
    {
     "name": "stderr",
     "output_type": "stream",
     "text": [
      "/gpfs/ycga/project/dijk/ngr4/conda_envs/rnavel/lib/python3.7/site-packages/scprep/utils.py:236: FutureWarning: The SparseDataFrame class is removed from pandas. Accessing it from the top-level namespace will also be removed in the next version\n",
      "  if isinstance(x, pd.SparseDataFrame):\n",
      "/gpfs/ycga/project/dijk/ngr4/conda_envs/rnavel/lib/python3.7/site-packages/scprep/select.py:333: FutureWarning: The SparseDataFrame class is removed from pandas. Accessing it from the top-level namespace will also be removed in the next version\n",
      "  if isinstance(data, pd.SparseDataFrame):\n",
      "/gpfs/ycga/project/dijk/ngr4/conda_envs/rnavel/lib/python3.7/site-packages/scprep/utils.py:191: FutureWarning: The SparseDataFrame class is removed from pandas. Accessing it from the top-level namespace will also be removed in the next version\n",
      "  if isinstance(x, pd.SparseDataFrame):\n",
      "/gpfs/ycga/project/dijk/ngr4/conda_envs/rnavel/lib/python3.7/site-packages/scprep/utils.py:193: FutureWarning: The SparseSeries class is removed from pandas. Accessing it from the top-level namespace will also be removed in the next version\n",
      "  elif isinstance(x, pd.SparseSeries):\n"
     ]
    },
    {
     "name": "stdout",
     "output_type": "stream",
     "text": [
      "  through 50 iteration. 3.1-min elapsed\n",
      "starting n=4 cells from SCA1, 24wk, Purkinje cell, 1\n"
     ]
    },
    {
     "name": "stderr",
     "output_type": "stream",
     "text": [
      "/gpfs/ycga/project/dijk/ngr4/conda_envs/rnavel/lib/python3.7/site-packages/scprep/utils.py:236: FutureWarning: The SparseDataFrame class is removed from pandas. Accessing it from the top-level namespace will also be removed in the next version\n",
      "  if isinstance(x, pd.SparseDataFrame):\n",
      "/gpfs/ycga/project/dijk/ngr4/conda_envs/rnavel/lib/python3.7/site-packages/scprep/select.py:333: FutureWarning: The SparseDataFrame class is removed from pandas. Accessing it from the top-level namespace will also be removed in the next version\n",
      "  if isinstance(data, pd.SparseDataFrame):\n",
      "/gpfs/ycga/project/dijk/ngr4/conda_envs/rnavel/lib/python3.7/site-packages/scprep/utils.py:191: FutureWarning: The SparseDataFrame class is removed from pandas. Accessing it from the top-level namespace will also be removed in the next version\n",
      "  if isinstance(x, pd.SparseDataFrame):\n",
      "/gpfs/ycga/project/dijk/ngr4/conda_envs/rnavel/lib/python3.7/site-packages/scprep/utils.py:193: FutureWarning: The SparseSeries class is removed from pandas. Accessing it from the top-level namespace will also be removed in the next version\n",
      "  elif isinstance(x, pd.SparseSeries):\n"
     ]
    },
    {
     "name": "stdout",
     "output_type": "stream",
     "text": [
      "  through 51 iteration. 3.1-min elapsed\n",
      "starting n=1 cells from SCA1, 24wk, Unipolar brush cell, 0\n"
     ]
    },
    {
     "name": "stderr",
     "output_type": "stream",
     "text": [
      "/gpfs/ycga/project/dijk/ngr4/conda_envs/rnavel/lib/python3.7/site-packages/scprep/utils.py:236: FutureWarning: The SparseDataFrame class is removed from pandas. Accessing it from the top-level namespace will also be removed in the next version\n",
      "  if isinstance(x, pd.SparseDataFrame):\n",
      "/gpfs/ycga/project/dijk/ngr4/conda_envs/rnavel/lib/python3.7/site-packages/scprep/select.py:333: FutureWarning: The SparseDataFrame class is removed from pandas. Accessing it from the top-level namespace will also be removed in the next version\n",
      "  if isinstance(data, pd.SparseDataFrame):\n",
      "/gpfs/ycga/project/dijk/ngr4/conda_envs/rnavel/lib/python3.7/site-packages/scprep/utils.py:191: FutureWarning: The SparseDataFrame class is removed from pandas. Accessing it from the top-level namespace will also be removed in the next version\n",
      "  if isinstance(x, pd.SparseDataFrame):\n",
      "/gpfs/ycga/project/dijk/ngr4/conda_envs/rnavel/lib/python3.7/site-packages/scprep/utils.py:193: FutureWarning: The SparseSeries class is removed from pandas. Accessing it from the top-level namespace will also be removed in the next version\n",
      "  elif isinstance(x, pd.SparseSeries):\n"
     ]
    },
    {
     "name": "stdout",
     "output_type": "stream",
     "text": [
      "  through 52 iteration. 3.2-min elapsed\n",
      "starting n=4 cells from SCA1, 24wk, Unipolar brush cell, 1\n"
     ]
    },
    {
     "name": "stderr",
     "output_type": "stream",
     "text": [
      "/gpfs/ycga/project/dijk/ngr4/conda_envs/rnavel/lib/python3.7/site-packages/scprep/utils.py:236: FutureWarning: The SparseDataFrame class is removed from pandas. Accessing it from the top-level namespace will also be removed in the next version\n",
      "  if isinstance(x, pd.SparseDataFrame):\n",
      "/gpfs/ycga/project/dijk/ngr4/conda_envs/rnavel/lib/python3.7/site-packages/scprep/select.py:333: FutureWarning: The SparseDataFrame class is removed from pandas. Accessing it from the top-level namespace will also be removed in the next version\n",
      "  if isinstance(data, pd.SparseDataFrame):\n",
      "/gpfs/ycga/project/dijk/ngr4/conda_envs/rnavel/lib/python3.7/site-packages/scprep/utils.py:191: FutureWarning: The SparseDataFrame class is removed from pandas. Accessing it from the top-level namespace will also be removed in the next version\n",
      "  if isinstance(x, pd.SparseDataFrame):\n",
      "/gpfs/ycga/project/dijk/ngr4/conda_envs/rnavel/lib/python3.7/site-packages/scprep/utils.py:193: FutureWarning: The SparseSeries class is removed from pandas. Accessing it from the top-level namespace will also be removed in the next version\n",
      "  elif isinstance(x, pd.SparseSeries):\n"
     ]
    },
    {
     "name": "stdout",
     "output_type": "stream",
     "text": [
      "  through 53 iteration. 3.2-min elapsed\n",
      "starting n=0 cells from SCA1, 30wk, Astrocyte, 0\n",
      "No cells for SCA1, 30wk, Astrocyte, 0\n",
      "starting n=45 cells from SCA1, 30wk, Astrocyte, 1\n"
     ]
    },
    {
     "name": "stderr",
     "output_type": "stream",
     "text": [
      "/gpfs/ycga/project/dijk/ngr4/conda_envs/rnavel/lib/python3.7/site-packages/scprep/utils.py:236: FutureWarning: The SparseDataFrame class is removed from pandas. Accessing it from the top-level namespace will also be removed in the next version\n",
      "  if isinstance(x, pd.SparseDataFrame):\n",
      "/gpfs/ycga/project/dijk/ngr4/conda_envs/rnavel/lib/python3.7/site-packages/scprep/select.py:333: FutureWarning: The SparseDataFrame class is removed from pandas. Accessing it from the top-level namespace will also be removed in the next version\n",
      "  if isinstance(data, pd.SparseDataFrame):\n",
      "/gpfs/ycga/project/dijk/ngr4/conda_envs/rnavel/lib/python3.7/site-packages/scprep/utils.py:191: FutureWarning: The SparseDataFrame class is removed from pandas. Accessing it from the top-level namespace will also be removed in the next version\n",
      "  if isinstance(x, pd.SparseDataFrame):\n",
      "/gpfs/ycga/project/dijk/ngr4/conda_envs/rnavel/lib/python3.7/site-packages/scprep/utils.py:193: FutureWarning: The SparseSeries class is removed from pandas. Accessing it from the top-level namespace will also be removed in the next version\n",
      "  elif isinstance(x, pd.SparseSeries):\n"
     ]
    },
    {
     "name": "stdout",
     "output_type": "stream",
     "text": [
      "  through 54 iteration. 3.3-min elapsed\n",
      "starting n=0 cells from SCA1, 30wk, Bergmann glia, 0\n",
      "No cells for SCA1, 30wk, Bergmann glia, 0\n",
      "starting n=53 cells from SCA1, 30wk, Bergmann glia, 1\n"
     ]
    },
    {
     "name": "stderr",
     "output_type": "stream",
     "text": [
      "/gpfs/ycga/project/dijk/ngr4/conda_envs/rnavel/lib/python3.7/site-packages/scprep/utils.py:236: FutureWarning: The SparseDataFrame class is removed from pandas. Accessing it from the top-level namespace will also be removed in the next version\n",
      "  if isinstance(x, pd.SparseDataFrame):\n",
      "/gpfs/ycga/project/dijk/ngr4/conda_envs/rnavel/lib/python3.7/site-packages/scprep/select.py:333: FutureWarning: The SparseDataFrame class is removed from pandas. Accessing it from the top-level namespace will also be removed in the next version\n",
      "  if isinstance(data, pd.SparseDataFrame):\n",
      "/gpfs/ycga/project/dijk/ngr4/conda_envs/rnavel/lib/python3.7/site-packages/scprep/utils.py:191: FutureWarning: The SparseDataFrame class is removed from pandas. Accessing it from the top-level namespace will also be removed in the next version\n",
      "  if isinstance(x, pd.SparseDataFrame):\n",
      "/gpfs/ycga/project/dijk/ngr4/conda_envs/rnavel/lib/python3.7/site-packages/scprep/utils.py:193: FutureWarning: The SparseSeries class is removed from pandas. Accessing it from the top-level namespace will also be removed in the next version\n",
      "  elif isinstance(x, pd.SparseSeries):\n"
     ]
    },
    {
     "name": "stdout",
     "output_type": "stream",
     "text": [
      "  through 55 iteration. 3.4-min elapsed\n",
      "starting n=0 cells from SCA1, 30wk, Deep cerebellar nuclei, 0\n",
      "No cells for SCA1, 30wk, Deep cerebellar nuclei, 0\n",
      "starting n=4 cells from SCA1, 30wk, Deep cerebellar nuclei, 1\n"
     ]
    },
    {
     "name": "stderr",
     "output_type": "stream",
     "text": [
      "/gpfs/ycga/project/dijk/ngr4/conda_envs/rnavel/lib/python3.7/site-packages/scprep/utils.py:236: FutureWarning: The SparseDataFrame class is removed from pandas. Accessing it from the top-level namespace will also be removed in the next version\n",
      "  if isinstance(x, pd.SparseDataFrame):\n",
      "/gpfs/ycga/project/dijk/ngr4/conda_envs/rnavel/lib/python3.7/site-packages/scprep/select.py:333: FutureWarning: The SparseDataFrame class is removed from pandas. Accessing it from the top-level namespace will also be removed in the next version\n",
      "  if isinstance(data, pd.SparseDataFrame):\n",
      "/gpfs/ycga/project/dijk/ngr4/conda_envs/rnavel/lib/python3.7/site-packages/scprep/utils.py:191: FutureWarning: The SparseDataFrame class is removed from pandas. Accessing it from the top-level namespace will also be removed in the next version\n",
      "  if isinstance(x, pd.SparseDataFrame):\n",
      "/gpfs/ycga/project/dijk/ngr4/conda_envs/rnavel/lib/python3.7/site-packages/scprep/utils.py:193: FutureWarning: The SparseSeries class is removed from pandas. Accessing it from the top-level namespace will also be removed in the next version\n",
      "  elif isinstance(x, pd.SparseSeries):\n"
     ]
    },
    {
     "name": "stdout",
     "output_type": "stream",
     "text": [
      "  through 56 iteration. 3.4-min elapsed\n",
      "starting n=0 cells from SCA1, 30wk, Endothelial cell, 0\n",
      "No cells for SCA1, 30wk, Endothelial cell, 0\n",
      "starting n=34 cells from SCA1, 30wk, Endothelial cell, 1\n"
     ]
    },
    {
     "name": "stderr",
     "output_type": "stream",
     "text": [
      "/gpfs/ycga/project/dijk/ngr4/conda_envs/rnavel/lib/python3.7/site-packages/scprep/utils.py:236: FutureWarning: The SparseDataFrame class is removed from pandas. Accessing it from the top-level namespace will also be removed in the next version\n",
      "  if isinstance(x, pd.SparseDataFrame):\n",
      "/gpfs/ycga/project/dijk/ngr4/conda_envs/rnavel/lib/python3.7/site-packages/scprep/select.py:333: FutureWarning: The SparseDataFrame class is removed from pandas. Accessing it from the top-level namespace will also be removed in the next version\n",
      "  if isinstance(data, pd.SparseDataFrame):\n",
      "/gpfs/ycga/project/dijk/ngr4/conda_envs/rnavel/lib/python3.7/site-packages/scprep/utils.py:191: FutureWarning: The SparseDataFrame class is removed from pandas. Accessing it from the top-level namespace will also be removed in the next version\n",
      "  if isinstance(x, pd.SparseDataFrame):\n",
      "/gpfs/ycga/project/dijk/ngr4/conda_envs/rnavel/lib/python3.7/site-packages/scprep/utils.py:193: FutureWarning: The SparseSeries class is removed from pandas. Accessing it from the top-level namespace will also be removed in the next version\n",
      "  elif isinstance(x, pd.SparseSeries):\n"
     ]
    },
    {
     "name": "stdout",
     "output_type": "stream",
     "text": [
      "  through 57 iteration. 3.5-min elapsed\n",
      "starting n=0 cells from SCA1, 30wk, GABAergic interneuron 1, 0\n",
      "No cells for SCA1, 30wk, GABAergic interneuron 1, 0\n",
      "starting n=100 cells from SCA1, 30wk, GABAergic interneuron 1, 1\n"
     ]
    },
    {
     "name": "stderr",
     "output_type": "stream",
     "text": [
      "/gpfs/ycga/project/dijk/ngr4/conda_envs/rnavel/lib/python3.7/site-packages/scprep/utils.py:236: FutureWarning: The SparseDataFrame class is removed from pandas. Accessing it from the top-level namespace will also be removed in the next version\n",
      "  if isinstance(x, pd.SparseDataFrame):\n",
      "/gpfs/ycga/project/dijk/ngr4/conda_envs/rnavel/lib/python3.7/site-packages/scprep/select.py:333: FutureWarning: The SparseDataFrame class is removed from pandas. Accessing it from the top-level namespace will also be removed in the next version\n",
      "  if isinstance(data, pd.SparseDataFrame):\n",
      "/gpfs/ycga/project/dijk/ngr4/conda_envs/rnavel/lib/python3.7/site-packages/scprep/utils.py:191: FutureWarning: The SparseDataFrame class is removed from pandas. Accessing it from the top-level namespace will also be removed in the next version\n",
      "  if isinstance(x, pd.SparseDataFrame):\n",
      "/gpfs/ycga/project/dijk/ngr4/conda_envs/rnavel/lib/python3.7/site-packages/scprep/utils.py:193: FutureWarning: The SparseSeries class is removed from pandas. Accessing it from the top-level namespace will also be removed in the next version\n",
      "  elif isinstance(x, pd.SparseSeries):\n"
     ]
    },
    {
     "name": "stdout",
     "output_type": "stream",
     "text": [
      "  through 58 iteration. 3.5-min elapsed\n",
      "starting n=0 cells from SCA1, 30wk, GABAergic interneuron 2, 0\n",
      "No cells for SCA1, 30wk, GABAergic interneuron 2, 0\n",
      "starting n=29 cells from SCA1, 30wk, GABAergic interneuron 2, 1\n"
     ]
    },
    {
     "name": "stderr",
     "output_type": "stream",
     "text": [
      "/gpfs/ycga/project/dijk/ngr4/conda_envs/rnavel/lib/python3.7/site-packages/scprep/utils.py:236: FutureWarning: The SparseDataFrame class is removed from pandas. Accessing it from the top-level namespace will also be removed in the next version\n",
      "  if isinstance(x, pd.SparseDataFrame):\n",
      "/gpfs/ycga/project/dijk/ngr4/conda_envs/rnavel/lib/python3.7/site-packages/scprep/select.py:333: FutureWarning: The SparseDataFrame class is removed from pandas. Accessing it from the top-level namespace will also be removed in the next version\n",
      "  if isinstance(data, pd.SparseDataFrame):\n",
      "/gpfs/ycga/project/dijk/ngr4/conda_envs/rnavel/lib/python3.7/site-packages/scprep/utils.py:191: FutureWarning: The SparseDataFrame class is removed from pandas. Accessing it from the top-level namespace will also be removed in the next version\n",
      "  if isinstance(x, pd.SparseDataFrame):\n",
      "/gpfs/ycga/project/dijk/ngr4/conda_envs/rnavel/lib/python3.7/site-packages/scprep/utils.py:193: FutureWarning: The SparseSeries class is removed from pandas. Accessing it from the top-level namespace will also be removed in the next version\n",
      "  elif isinstance(x, pd.SparseSeries):\n"
     ]
    },
    {
     "name": "stdout",
     "output_type": "stream",
     "text": [
      "  through 59 iteration. 3.6-min elapsed\n",
      "starting n=0 cells from SCA1, 30wk, GABAergic interneuron 3, 0\n",
      "No cells for SCA1, 30wk, GABAergic interneuron 3, 0\n",
      "starting n=10 cells from SCA1, 30wk, GABAergic interneuron 3, 1\n"
     ]
    },
    {
     "name": "stderr",
     "output_type": "stream",
     "text": [
      "/gpfs/ycga/project/dijk/ngr4/conda_envs/rnavel/lib/python3.7/site-packages/scprep/utils.py:236: FutureWarning: The SparseDataFrame class is removed from pandas. Accessing it from the top-level namespace will also be removed in the next version\n",
      "  if isinstance(x, pd.SparseDataFrame):\n",
      "/gpfs/ycga/project/dijk/ngr4/conda_envs/rnavel/lib/python3.7/site-packages/scprep/select.py:333: FutureWarning: The SparseDataFrame class is removed from pandas. Accessing it from the top-level namespace will also be removed in the next version\n",
      "  if isinstance(data, pd.SparseDataFrame):\n",
      "/gpfs/ycga/project/dijk/ngr4/conda_envs/rnavel/lib/python3.7/site-packages/scprep/utils.py:191: FutureWarning: The SparseDataFrame class is removed from pandas. Accessing it from the top-level namespace will also be removed in the next version\n",
      "  if isinstance(x, pd.SparseDataFrame):\n",
      "/gpfs/ycga/project/dijk/ngr4/conda_envs/rnavel/lib/python3.7/site-packages/scprep/utils.py:193: FutureWarning: The SparseSeries class is removed from pandas. Accessing it from the top-level namespace will also be removed in the next version\n",
      "  elif isinstance(x, pd.SparseSeries):\n"
     ]
    },
    {
     "name": "stdout",
     "output_type": "stream",
     "text": [
      "  through 60 iteration. 3.7-min elapsed\n",
      "starting n=0 cells from SCA1, 30wk, Granule cell, 0\n",
      "No cells for SCA1, 30wk, Granule cell, 0\n",
      "starting n=1932 cells from SCA1, 30wk, Granule cell, 1\n"
     ]
    },
    {
     "name": "stderr",
     "output_type": "stream",
     "text": [
      "/gpfs/ycga/project/dijk/ngr4/conda_envs/rnavel/lib/python3.7/site-packages/scprep/utils.py:236: FutureWarning: The SparseDataFrame class is removed from pandas. Accessing it from the top-level namespace will also be removed in the next version\n",
      "  if isinstance(x, pd.SparseDataFrame):\n",
      "/gpfs/ycga/project/dijk/ngr4/conda_envs/rnavel/lib/python3.7/site-packages/scprep/select.py:333: FutureWarning: The SparseDataFrame class is removed from pandas. Accessing it from the top-level namespace will also be removed in the next version\n",
      "  if isinstance(data, pd.SparseDataFrame):\n",
      "/gpfs/ycga/project/dijk/ngr4/conda_envs/rnavel/lib/python3.7/site-packages/scprep/utils.py:191: FutureWarning: The SparseDataFrame class is removed from pandas. Accessing it from the top-level namespace will also be removed in the next version\n",
      "  if isinstance(x, pd.SparseDataFrame):\n",
      "/gpfs/ycga/project/dijk/ngr4/conda_envs/rnavel/lib/python3.7/site-packages/scprep/utils.py:193: FutureWarning: The SparseSeries class is removed from pandas. Accessing it from the top-level namespace will also be removed in the next version\n",
      "  elif isinstance(x, pd.SparseSeries):\n"
     ]
    },
    {
     "name": "stdout",
     "output_type": "stream",
     "text": [
      "  through 61 iteration. 3.8-min elapsed\n",
      "starting n=0 cells from SCA1, 30wk, Microglia, 0\n",
      "No cells for SCA1, 30wk, Microglia, 0\n",
      "starting n=6 cells from SCA1, 30wk, Microglia, 1\n"
     ]
    },
    {
     "name": "stderr",
     "output_type": "stream",
     "text": [
      "/gpfs/ycga/project/dijk/ngr4/conda_envs/rnavel/lib/python3.7/site-packages/scprep/utils.py:236: FutureWarning: The SparseDataFrame class is removed from pandas. Accessing it from the top-level namespace will also be removed in the next version\n",
      "  if isinstance(x, pd.SparseDataFrame):\n",
      "/gpfs/ycga/project/dijk/ngr4/conda_envs/rnavel/lib/python3.7/site-packages/scprep/select.py:333: FutureWarning: The SparseDataFrame class is removed from pandas. Accessing it from the top-level namespace will also be removed in the next version\n",
      "  if isinstance(data, pd.SparseDataFrame):\n",
      "/gpfs/ycga/project/dijk/ngr4/conda_envs/rnavel/lib/python3.7/site-packages/scprep/utils.py:191: FutureWarning: The SparseDataFrame class is removed from pandas. Accessing it from the top-level namespace will also be removed in the next version\n",
      "  if isinstance(x, pd.SparseDataFrame):\n",
      "/gpfs/ycga/project/dijk/ngr4/conda_envs/rnavel/lib/python3.7/site-packages/scprep/utils.py:193: FutureWarning: The SparseSeries class is removed from pandas. Accessing it from the top-level namespace will also be removed in the next version\n",
      "  elif isinstance(x, pd.SparseSeries):\n"
     ]
    },
    {
     "name": "stdout",
     "output_type": "stream",
     "text": [
      "  through 62 iteration. 3.8-min elapsed\n",
      "starting n=0 cells from SCA1, 30wk, Oligodendrocyte, 0\n",
      "No cells for SCA1, 30wk, Oligodendrocyte, 0\n",
      "starting n=64 cells from SCA1, 30wk, Oligodendrocyte, 1\n"
     ]
    },
    {
     "name": "stderr",
     "output_type": "stream",
     "text": [
      "/gpfs/ycga/project/dijk/ngr4/conda_envs/rnavel/lib/python3.7/site-packages/scprep/utils.py:236: FutureWarning: The SparseDataFrame class is removed from pandas. Accessing it from the top-level namespace will also be removed in the next version\n",
      "  if isinstance(x, pd.SparseDataFrame):\n",
      "/gpfs/ycga/project/dijk/ngr4/conda_envs/rnavel/lib/python3.7/site-packages/scprep/select.py:333: FutureWarning: The SparseDataFrame class is removed from pandas. Accessing it from the top-level namespace will also be removed in the next version\n",
      "  if isinstance(data, pd.SparseDataFrame):\n",
      "/gpfs/ycga/project/dijk/ngr4/conda_envs/rnavel/lib/python3.7/site-packages/scprep/utils.py:191: FutureWarning: The SparseDataFrame class is removed from pandas. Accessing it from the top-level namespace will also be removed in the next version\n",
      "  if isinstance(x, pd.SparseDataFrame):\n",
      "/gpfs/ycga/project/dijk/ngr4/conda_envs/rnavel/lib/python3.7/site-packages/scprep/utils.py:193: FutureWarning: The SparseSeries class is removed from pandas. Accessing it from the top-level namespace will also be removed in the next version\n",
      "  elif isinstance(x, pd.SparseSeries):\n"
     ]
    },
    {
     "name": "stdout",
     "output_type": "stream",
     "text": [
      "  through 63 iteration. 3.9-min elapsed\n",
      "starting n=0 cells from SCA1, 30wk, Oligodendrocyte progenitor cell, 0\n",
      "No cells for SCA1, 30wk, Oligodendrocyte progenitor cell, 0\n",
      "starting n=8 cells from SCA1, 30wk, Oligodendrocyte progenitor cell, 1\n"
     ]
    },
    {
     "name": "stderr",
     "output_type": "stream",
     "text": [
      "/gpfs/ycga/project/dijk/ngr4/conda_envs/rnavel/lib/python3.7/site-packages/scprep/utils.py:236: FutureWarning: The SparseDataFrame class is removed from pandas. Accessing it from the top-level namespace will also be removed in the next version\n",
      "  if isinstance(x, pd.SparseDataFrame):\n",
      "/gpfs/ycga/project/dijk/ngr4/conda_envs/rnavel/lib/python3.7/site-packages/scprep/select.py:333: FutureWarning: The SparseDataFrame class is removed from pandas. Accessing it from the top-level namespace will also be removed in the next version\n",
      "  if isinstance(data, pd.SparseDataFrame):\n",
      "/gpfs/ycga/project/dijk/ngr4/conda_envs/rnavel/lib/python3.7/site-packages/scprep/utils.py:191: FutureWarning: The SparseDataFrame class is removed from pandas. Accessing it from the top-level namespace will also be removed in the next version\n",
      "  if isinstance(x, pd.SparseDataFrame):\n",
      "/gpfs/ycga/project/dijk/ngr4/conda_envs/rnavel/lib/python3.7/site-packages/scprep/utils.py:193: FutureWarning: The SparseSeries class is removed from pandas. Accessing it from the top-level namespace will also be removed in the next version\n",
      "  elif isinstance(x, pd.SparseSeries):\n"
     ]
    },
    {
     "name": "stdout",
     "output_type": "stream",
     "text": [
      "  through 64 iteration. 3.9-min elapsed\n",
      "starting n=0 cells from SCA1, 30wk, Pericyte, 0\n",
      "No cells for SCA1, 30wk, Pericyte, 0\n",
      "starting n=9 cells from SCA1, 30wk, Pericyte, 1\n"
     ]
    },
    {
     "name": "stderr",
     "output_type": "stream",
     "text": [
      "/gpfs/ycga/project/dijk/ngr4/conda_envs/rnavel/lib/python3.7/site-packages/scprep/utils.py:236: FutureWarning: The SparseDataFrame class is removed from pandas. Accessing it from the top-level namespace will also be removed in the next version\n",
      "  if isinstance(x, pd.SparseDataFrame):\n",
      "/gpfs/ycga/project/dijk/ngr4/conda_envs/rnavel/lib/python3.7/site-packages/scprep/select.py:333: FutureWarning: The SparseDataFrame class is removed from pandas. Accessing it from the top-level namespace will also be removed in the next version\n",
      "  if isinstance(data, pd.SparseDataFrame):\n",
      "/gpfs/ycga/project/dijk/ngr4/conda_envs/rnavel/lib/python3.7/site-packages/scprep/utils.py:191: FutureWarning: The SparseDataFrame class is removed from pandas. Accessing it from the top-level namespace will also be removed in the next version\n",
      "  if isinstance(x, pd.SparseDataFrame):\n",
      "/gpfs/ycga/project/dijk/ngr4/conda_envs/rnavel/lib/python3.7/site-packages/scprep/utils.py:193: FutureWarning: The SparseSeries class is removed from pandas. Accessing it from the top-level namespace will also be removed in the next version\n",
      "  elif isinstance(x, pd.SparseSeries):\n"
     ]
    },
    {
     "name": "stdout",
     "output_type": "stream",
     "text": [
      "  through 65 iteration. 4.0-min elapsed\n",
      "starting n=0 cells from SCA1, 30wk, Purkinje cell, 0\n",
      "No cells for SCA1, 30wk, Purkinje cell, 0\n",
      "starting n=13 cells from SCA1, 30wk, Purkinje cell, 1\n"
     ]
    },
    {
     "name": "stderr",
     "output_type": "stream",
     "text": [
      "/gpfs/ycga/project/dijk/ngr4/conda_envs/rnavel/lib/python3.7/site-packages/scprep/utils.py:236: FutureWarning: The SparseDataFrame class is removed from pandas. Accessing it from the top-level namespace will also be removed in the next version\n",
      "  if isinstance(x, pd.SparseDataFrame):\n",
      "/gpfs/ycga/project/dijk/ngr4/conda_envs/rnavel/lib/python3.7/site-packages/scprep/select.py:333: FutureWarning: The SparseDataFrame class is removed from pandas. Accessing it from the top-level namespace will also be removed in the next version\n",
      "  if isinstance(data, pd.SparseDataFrame):\n",
      "/gpfs/ycga/project/dijk/ngr4/conda_envs/rnavel/lib/python3.7/site-packages/scprep/utils.py:191: FutureWarning: The SparseDataFrame class is removed from pandas. Accessing it from the top-level namespace will also be removed in the next version\n",
      "  if isinstance(x, pd.SparseDataFrame):\n",
      "/gpfs/ycga/project/dijk/ngr4/conda_envs/rnavel/lib/python3.7/site-packages/scprep/utils.py:193: FutureWarning: The SparseSeries class is removed from pandas. Accessing it from the top-level namespace will also be removed in the next version\n",
      "  elif isinstance(x, pd.SparseSeries):\n"
     ]
    },
    {
     "name": "stdout",
     "output_type": "stream",
     "text": [
      "  through 66 iteration. 4.1-min elapsed\n",
      "starting n=0 cells from SCA1, 30wk, Unipolar brush cell, 0\n",
      "No cells for SCA1, 30wk, Unipolar brush cell, 0\n",
      "starting n=9 cells from SCA1, 30wk, Unipolar brush cell, 1\n"
     ]
    },
    {
     "name": "stderr",
     "output_type": "stream",
     "text": [
      "/gpfs/ycga/project/dijk/ngr4/conda_envs/rnavel/lib/python3.7/site-packages/scprep/utils.py:236: FutureWarning: The SparseDataFrame class is removed from pandas. Accessing it from the top-level namespace will also be removed in the next version\n",
      "  if isinstance(x, pd.SparseDataFrame):\n",
      "/gpfs/ycga/project/dijk/ngr4/conda_envs/rnavel/lib/python3.7/site-packages/scprep/select.py:333: FutureWarning: The SparseDataFrame class is removed from pandas. Accessing it from the top-level namespace will also be removed in the next version\n",
      "  if isinstance(data, pd.SparseDataFrame):\n",
      "/gpfs/ycga/project/dijk/ngr4/conda_envs/rnavel/lib/python3.7/site-packages/scprep/utils.py:191: FutureWarning: The SparseDataFrame class is removed from pandas. Accessing it from the top-level namespace will also be removed in the next version\n",
      "  if isinstance(x, pd.SparseDataFrame):\n",
      "/gpfs/ycga/project/dijk/ngr4/conda_envs/rnavel/lib/python3.7/site-packages/scprep/utils.py:193: FutureWarning: The SparseSeries class is removed from pandas. Accessing it from the top-level namespace will also be removed in the next version\n",
      "  elif isinstance(x, pd.SparseSeries):\n"
     ]
    },
    {
     "name": "stdout",
     "output_type": "stream",
     "text": [
      "  through 67 iteration. 4.1-min elapsed\n",
      "starting n=32 cells from SCA1, 5wk, Astrocyte, 0\n"
     ]
    },
    {
     "name": "stderr",
     "output_type": "stream",
     "text": [
      "/gpfs/ycga/project/dijk/ngr4/conda_envs/rnavel/lib/python3.7/site-packages/scprep/utils.py:236: FutureWarning: The SparseDataFrame class is removed from pandas. Accessing it from the top-level namespace will also be removed in the next version\n",
      "  if isinstance(x, pd.SparseDataFrame):\n",
      "/gpfs/ycga/project/dijk/ngr4/conda_envs/rnavel/lib/python3.7/site-packages/scprep/select.py:333: FutureWarning: The SparseDataFrame class is removed from pandas. Accessing it from the top-level namespace will also be removed in the next version\n",
      "  if isinstance(data, pd.SparseDataFrame):\n",
      "/gpfs/ycga/project/dijk/ngr4/conda_envs/rnavel/lib/python3.7/site-packages/scprep/utils.py:191: FutureWarning: The SparseDataFrame class is removed from pandas. Accessing it from the top-level namespace will also be removed in the next version\n",
      "  if isinstance(x, pd.SparseDataFrame):\n",
      "/gpfs/ycga/project/dijk/ngr4/conda_envs/rnavel/lib/python3.7/site-packages/scprep/utils.py:193: FutureWarning: The SparseSeries class is removed from pandas. Accessing it from the top-level namespace will also be removed in the next version\n",
      "  elif isinstance(x, pd.SparseSeries):\n"
     ]
    },
    {
     "name": "stdout",
     "output_type": "stream",
     "text": [
      "  through 68 iteration. 4.2-min elapsed\n",
      "starting n=4 cells from SCA1, 5wk, Astrocyte, 1\n"
     ]
    },
    {
     "name": "stderr",
     "output_type": "stream",
     "text": [
      "/gpfs/ycga/project/dijk/ngr4/conda_envs/rnavel/lib/python3.7/site-packages/scprep/utils.py:236: FutureWarning: The SparseDataFrame class is removed from pandas. Accessing it from the top-level namespace will also be removed in the next version\n",
      "  if isinstance(x, pd.SparseDataFrame):\n",
      "/gpfs/ycga/project/dijk/ngr4/conda_envs/rnavel/lib/python3.7/site-packages/scprep/select.py:333: FutureWarning: The SparseDataFrame class is removed from pandas. Accessing it from the top-level namespace will also be removed in the next version\n",
      "  if isinstance(data, pd.SparseDataFrame):\n",
      "/gpfs/ycga/project/dijk/ngr4/conda_envs/rnavel/lib/python3.7/site-packages/scprep/utils.py:191: FutureWarning: The SparseDataFrame class is removed from pandas. Accessing it from the top-level namespace will also be removed in the next version\n",
      "  if isinstance(x, pd.SparseDataFrame):\n",
      "/gpfs/ycga/project/dijk/ngr4/conda_envs/rnavel/lib/python3.7/site-packages/scprep/utils.py:193: FutureWarning: The SparseSeries class is removed from pandas. Accessing it from the top-level namespace will also be removed in the next version\n",
      "  elif isinstance(x, pd.SparseSeries):\n"
     ]
    },
    {
     "name": "stdout",
     "output_type": "stream",
     "text": [
      "  through 69 iteration. 4.2-min elapsed\n",
      "starting n=50 cells from SCA1, 5wk, Bergmann glia, 0\n"
     ]
    },
    {
     "name": "stderr",
     "output_type": "stream",
     "text": [
      "/gpfs/ycga/project/dijk/ngr4/conda_envs/rnavel/lib/python3.7/site-packages/scprep/utils.py:236: FutureWarning: The SparseDataFrame class is removed from pandas. Accessing it from the top-level namespace will also be removed in the next version\n",
      "  if isinstance(x, pd.SparseDataFrame):\n",
      "/gpfs/ycga/project/dijk/ngr4/conda_envs/rnavel/lib/python3.7/site-packages/scprep/select.py:333: FutureWarning: The SparseDataFrame class is removed from pandas. Accessing it from the top-level namespace will also be removed in the next version\n",
      "  if isinstance(data, pd.SparseDataFrame):\n",
      "/gpfs/ycga/project/dijk/ngr4/conda_envs/rnavel/lib/python3.7/site-packages/scprep/utils.py:191: FutureWarning: The SparseDataFrame class is removed from pandas. Accessing it from the top-level namespace will also be removed in the next version\n",
      "  if isinstance(x, pd.SparseDataFrame):\n",
      "/gpfs/ycga/project/dijk/ngr4/conda_envs/rnavel/lib/python3.7/site-packages/scprep/utils.py:193: FutureWarning: The SparseSeries class is removed from pandas. Accessing it from the top-level namespace will also be removed in the next version\n",
      "  elif isinstance(x, pd.SparseSeries):\n"
     ]
    },
    {
     "name": "stdout",
     "output_type": "stream",
     "text": [
      "  through 70 iteration. 4.3-min elapsed\n",
      "starting n=12 cells from SCA1, 5wk, Bergmann glia, 1\n"
     ]
    },
    {
     "name": "stderr",
     "output_type": "stream",
     "text": [
      "/gpfs/ycga/project/dijk/ngr4/conda_envs/rnavel/lib/python3.7/site-packages/scprep/utils.py:236: FutureWarning: The SparseDataFrame class is removed from pandas. Accessing it from the top-level namespace will also be removed in the next version\n",
      "  if isinstance(x, pd.SparseDataFrame):\n",
      "/gpfs/ycga/project/dijk/ngr4/conda_envs/rnavel/lib/python3.7/site-packages/scprep/select.py:333: FutureWarning: The SparseDataFrame class is removed from pandas. Accessing it from the top-level namespace will also be removed in the next version\n",
      "  if isinstance(data, pd.SparseDataFrame):\n",
      "/gpfs/ycga/project/dijk/ngr4/conda_envs/rnavel/lib/python3.7/site-packages/scprep/utils.py:191: FutureWarning: The SparseDataFrame class is removed from pandas. Accessing it from the top-level namespace will also be removed in the next version\n",
      "  if isinstance(x, pd.SparseDataFrame):\n",
      "/gpfs/ycga/project/dijk/ngr4/conda_envs/rnavel/lib/python3.7/site-packages/scprep/utils.py:193: FutureWarning: The SparseSeries class is removed from pandas. Accessing it from the top-level namespace will also be removed in the next version\n",
      "  elif isinstance(x, pd.SparseSeries):\n"
     ]
    },
    {
     "name": "stdout",
     "output_type": "stream",
     "text": [
      "  through 71 iteration. 4.4-min elapsed\n",
      "starting n=6 cells from SCA1, 5wk, Deep cerebellar nuclei, 0\n"
     ]
    },
    {
     "name": "stderr",
     "output_type": "stream",
     "text": [
      "/gpfs/ycga/project/dijk/ngr4/conda_envs/rnavel/lib/python3.7/site-packages/scprep/utils.py:236: FutureWarning: The SparseDataFrame class is removed from pandas. Accessing it from the top-level namespace will also be removed in the next version\n",
      "  if isinstance(x, pd.SparseDataFrame):\n",
      "/gpfs/ycga/project/dijk/ngr4/conda_envs/rnavel/lib/python3.7/site-packages/scprep/select.py:333: FutureWarning: The SparseDataFrame class is removed from pandas. Accessing it from the top-level namespace will also be removed in the next version\n",
      "  if isinstance(data, pd.SparseDataFrame):\n",
      "/gpfs/ycga/project/dijk/ngr4/conda_envs/rnavel/lib/python3.7/site-packages/scprep/utils.py:191: FutureWarning: The SparseDataFrame class is removed from pandas. Accessing it from the top-level namespace will also be removed in the next version\n",
      "  if isinstance(x, pd.SparseDataFrame):\n",
      "/gpfs/ycga/project/dijk/ngr4/conda_envs/rnavel/lib/python3.7/site-packages/scprep/utils.py:193: FutureWarning: The SparseSeries class is removed from pandas. Accessing it from the top-level namespace will also be removed in the next version\n",
      "  elif isinstance(x, pd.SparseSeries):\n"
     ]
    },
    {
     "name": "stdout",
     "output_type": "stream",
     "text": [
      "  through 72 iteration. 4.4-min elapsed\n",
      "starting n=2 cells from SCA1, 5wk, Deep cerebellar nuclei, 1\n"
     ]
    },
    {
     "name": "stderr",
     "output_type": "stream",
     "text": [
      "/gpfs/ycga/project/dijk/ngr4/conda_envs/rnavel/lib/python3.7/site-packages/scprep/utils.py:236: FutureWarning: The SparseDataFrame class is removed from pandas. Accessing it from the top-level namespace will also be removed in the next version\n",
      "  if isinstance(x, pd.SparseDataFrame):\n",
      "/gpfs/ycga/project/dijk/ngr4/conda_envs/rnavel/lib/python3.7/site-packages/scprep/select.py:333: FutureWarning: The SparseDataFrame class is removed from pandas. Accessing it from the top-level namespace will also be removed in the next version\n",
      "  if isinstance(data, pd.SparseDataFrame):\n",
      "/gpfs/ycga/project/dijk/ngr4/conda_envs/rnavel/lib/python3.7/site-packages/scprep/utils.py:191: FutureWarning: The SparseDataFrame class is removed from pandas. Accessing it from the top-level namespace will also be removed in the next version\n",
      "  if isinstance(x, pd.SparseDataFrame):\n",
      "/gpfs/ycga/project/dijk/ngr4/conda_envs/rnavel/lib/python3.7/site-packages/scprep/utils.py:193: FutureWarning: The SparseSeries class is removed from pandas. Accessing it from the top-level namespace will also be removed in the next version\n",
      "  elif isinstance(x, pd.SparseSeries):\n"
     ]
    },
    {
     "name": "stdout",
     "output_type": "stream",
     "text": [
      "  through 73 iteration. 4.5-min elapsed\n",
      "starting n=7 cells from SCA1, 5wk, Endothelial cell, 0\n"
     ]
    },
    {
     "name": "stderr",
     "output_type": "stream",
     "text": [
      "/gpfs/ycga/project/dijk/ngr4/conda_envs/rnavel/lib/python3.7/site-packages/scprep/utils.py:236: FutureWarning: The SparseDataFrame class is removed from pandas. Accessing it from the top-level namespace will also be removed in the next version\n",
      "  if isinstance(x, pd.SparseDataFrame):\n",
      "/gpfs/ycga/project/dijk/ngr4/conda_envs/rnavel/lib/python3.7/site-packages/scprep/select.py:333: FutureWarning: The SparseDataFrame class is removed from pandas. Accessing it from the top-level namespace will also be removed in the next version\n",
      "  if isinstance(data, pd.SparseDataFrame):\n",
      "/gpfs/ycga/project/dijk/ngr4/conda_envs/rnavel/lib/python3.7/site-packages/scprep/utils.py:191: FutureWarning: The SparseDataFrame class is removed from pandas. Accessing it from the top-level namespace will also be removed in the next version\n",
      "  if isinstance(x, pd.SparseDataFrame):\n",
      "/gpfs/ycga/project/dijk/ngr4/conda_envs/rnavel/lib/python3.7/site-packages/scprep/utils.py:193: FutureWarning: The SparseSeries class is removed from pandas. Accessing it from the top-level namespace will also be removed in the next version\n",
      "  elif isinstance(x, pd.SparseSeries):\n"
     ]
    },
    {
     "name": "stdout",
     "output_type": "stream",
     "text": [
      "  through 74 iteration. 4.5-min elapsed\n",
      "starting n=6 cells from SCA1, 5wk, Endothelial cell, 1\n"
     ]
    },
    {
     "name": "stderr",
     "output_type": "stream",
     "text": [
      "/gpfs/ycga/project/dijk/ngr4/conda_envs/rnavel/lib/python3.7/site-packages/scprep/utils.py:236: FutureWarning: The SparseDataFrame class is removed from pandas. Accessing it from the top-level namespace will also be removed in the next version\n",
      "  if isinstance(x, pd.SparseDataFrame):\n",
      "/gpfs/ycga/project/dijk/ngr4/conda_envs/rnavel/lib/python3.7/site-packages/scprep/select.py:333: FutureWarning: The SparseDataFrame class is removed from pandas. Accessing it from the top-level namespace will also be removed in the next version\n",
      "  if isinstance(data, pd.SparseDataFrame):\n",
      "/gpfs/ycga/project/dijk/ngr4/conda_envs/rnavel/lib/python3.7/site-packages/scprep/utils.py:191: FutureWarning: The SparseDataFrame class is removed from pandas. Accessing it from the top-level namespace will also be removed in the next version\n",
      "  if isinstance(x, pd.SparseDataFrame):\n",
      "/gpfs/ycga/project/dijk/ngr4/conda_envs/rnavel/lib/python3.7/site-packages/scprep/utils.py:193: FutureWarning: The SparseSeries class is removed from pandas. Accessing it from the top-level namespace will also be removed in the next version\n",
      "  elif isinstance(x, pd.SparseSeries):\n"
     ]
    },
    {
     "name": "stdout",
     "output_type": "stream",
     "text": [
      "  through 75 iteration. 4.6-min elapsed\n",
      "starting n=52 cells from SCA1, 5wk, GABAergic interneuron 1, 0\n"
     ]
    },
    {
     "name": "stderr",
     "output_type": "stream",
     "text": [
      "/gpfs/ycga/project/dijk/ngr4/conda_envs/rnavel/lib/python3.7/site-packages/scprep/utils.py:236: FutureWarning: The SparseDataFrame class is removed from pandas. Accessing it from the top-level namespace will also be removed in the next version\n",
      "  if isinstance(x, pd.SparseDataFrame):\n",
      "/gpfs/ycga/project/dijk/ngr4/conda_envs/rnavel/lib/python3.7/site-packages/scprep/select.py:333: FutureWarning: The SparseDataFrame class is removed from pandas. Accessing it from the top-level namespace will also be removed in the next version\n",
      "  if isinstance(data, pd.SparseDataFrame):\n",
      "/gpfs/ycga/project/dijk/ngr4/conda_envs/rnavel/lib/python3.7/site-packages/scprep/utils.py:191: FutureWarning: The SparseDataFrame class is removed from pandas. Accessing it from the top-level namespace will also be removed in the next version\n",
      "  if isinstance(x, pd.SparseDataFrame):\n",
      "/gpfs/ycga/project/dijk/ngr4/conda_envs/rnavel/lib/python3.7/site-packages/scprep/utils.py:193: FutureWarning: The SparseSeries class is removed from pandas. Accessing it from the top-level namespace will also be removed in the next version\n",
      "  elif isinstance(x, pd.SparseSeries):\n"
     ]
    },
    {
     "name": "stdout",
     "output_type": "stream",
     "text": [
      "  through 76 iteration. 4.7-min elapsed\n",
      "starting n=29 cells from SCA1, 5wk, GABAergic interneuron 1, 1\n"
     ]
    },
    {
     "name": "stderr",
     "output_type": "stream",
     "text": [
      "/gpfs/ycga/project/dijk/ngr4/conda_envs/rnavel/lib/python3.7/site-packages/scprep/utils.py:236: FutureWarning: The SparseDataFrame class is removed from pandas. Accessing it from the top-level namespace will also be removed in the next version\n",
      "  if isinstance(x, pd.SparseDataFrame):\n",
      "/gpfs/ycga/project/dijk/ngr4/conda_envs/rnavel/lib/python3.7/site-packages/scprep/select.py:333: FutureWarning: The SparseDataFrame class is removed from pandas. Accessing it from the top-level namespace will also be removed in the next version\n",
      "  if isinstance(data, pd.SparseDataFrame):\n",
      "/gpfs/ycga/project/dijk/ngr4/conda_envs/rnavel/lib/python3.7/site-packages/scprep/utils.py:191: FutureWarning: The SparseDataFrame class is removed from pandas. Accessing it from the top-level namespace will also be removed in the next version\n",
      "  if isinstance(x, pd.SparseDataFrame):\n",
      "/gpfs/ycga/project/dijk/ngr4/conda_envs/rnavel/lib/python3.7/site-packages/scprep/utils.py:193: FutureWarning: The SparseSeries class is removed from pandas. Accessing it from the top-level namespace will also be removed in the next version\n",
      "  elif isinstance(x, pd.SparseSeries):\n"
     ]
    },
    {
     "name": "stdout",
     "output_type": "stream",
     "text": [
      "  through 77 iteration. 4.7-min elapsed\n",
      "starting n=8 cells from SCA1, 5wk, GABAergic interneuron 2, 0\n"
     ]
    },
    {
     "name": "stderr",
     "output_type": "stream",
     "text": [
      "/gpfs/ycga/project/dijk/ngr4/conda_envs/rnavel/lib/python3.7/site-packages/scprep/utils.py:236: FutureWarning: The SparseDataFrame class is removed from pandas. Accessing it from the top-level namespace will also be removed in the next version\n",
      "  if isinstance(x, pd.SparseDataFrame):\n",
      "/gpfs/ycga/project/dijk/ngr4/conda_envs/rnavel/lib/python3.7/site-packages/scprep/select.py:333: FutureWarning: The SparseDataFrame class is removed from pandas. Accessing it from the top-level namespace will also be removed in the next version\n",
      "  if isinstance(data, pd.SparseDataFrame):\n",
      "/gpfs/ycga/project/dijk/ngr4/conda_envs/rnavel/lib/python3.7/site-packages/scprep/utils.py:191: FutureWarning: The SparseDataFrame class is removed from pandas. Accessing it from the top-level namespace will also be removed in the next version\n",
      "  if isinstance(x, pd.SparseDataFrame):\n",
      "/gpfs/ycga/project/dijk/ngr4/conda_envs/rnavel/lib/python3.7/site-packages/scprep/utils.py:193: FutureWarning: The SparseSeries class is removed from pandas. Accessing it from the top-level namespace will also be removed in the next version\n",
      "  elif isinstance(x, pd.SparseSeries):\n"
     ]
    },
    {
     "name": "stdout",
     "output_type": "stream",
     "text": [
      "  through 78 iteration. 4.8-min elapsed\n",
      "starting n=5 cells from SCA1, 5wk, GABAergic interneuron 2, 1\n"
     ]
    },
    {
     "name": "stderr",
     "output_type": "stream",
     "text": [
      "/gpfs/ycga/project/dijk/ngr4/conda_envs/rnavel/lib/python3.7/site-packages/scprep/utils.py:236: FutureWarning: The SparseDataFrame class is removed from pandas. Accessing it from the top-level namespace will also be removed in the next version\n",
      "  if isinstance(x, pd.SparseDataFrame):\n",
      "/gpfs/ycga/project/dijk/ngr4/conda_envs/rnavel/lib/python3.7/site-packages/scprep/select.py:333: FutureWarning: The SparseDataFrame class is removed from pandas. Accessing it from the top-level namespace will also be removed in the next version\n",
      "  if isinstance(data, pd.SparseDataFrame):\n",
      "/gpfs/ycga/project/dijk/ngr4/conda_envs/rnavel/lib/python3.7/site-packages/scprep/utils.py:191: FutureWarning: The SparseDataFrame class is removed from pandas. Accessing it from the top-level namespace will also be removed in the next version\n",
      "  if isinstance(x, pd.SparseDataFrame):\n",
      "/gpfs/ycga/project/dijk/ngr4/conda_envs/rnavel/lib/python3.7/site-packages/scprep/utils.py:193: FutureWarning: The SparseSeries class is removed from pandas. Accessing it from the top-level namespace will also be removed in the next version\n",
      "  elif isinstance(x, pd.SparseSeries):\n"
     ]
    },
    {
     "name": "stdout",
     "output_type": "stream",
     "text": [
      "  through 79 iteration. 4.8-min elapsed\n",
      "starting n=8 cells from SCA1, 5wk, GABAergic interneuron 3, 0\n"
     ]
    },
    {
     "name": "stderr",
     "output_type": "stream",
     "text": [
      "/gpfs/ycga/project/dijk/ngr4/conda_envs/rnavel/lib/python3.7/site-packages/scprep/utils.py:236: FutureWarning: The SparseDataFrame class is removed from pandas. Accessing it from the top-level namespace will also be removed in the next version\n",
      "  if isinstance(x, pd.SparseDataFrame):\n",
      "/gpfs/ycga/project/dijk/ngr4/conda_envs/rnavel/lib/python3.7/site-packages/scprep/select.py:333: FutureWarning: The SparseDataFrame class is removed from pandas. Accessing it from the top-level namespace will also be removed in the next version\n",
      "  if isinstance(data, pd.SparseDataFrame):\n",
      "/gpfs/ycga/project/dijk/ngr4/conda_envs/rnavel/lib/python3.7/site-packages/scprep/utils.py:191: FutureWarning: The SparseDataFrame class is removed from pandas. Accessing it from the top-level namespace will also be removed in the next version\n",
      "  if isinstance(x, pd.SparseDataFrame):\n",
      "/gpfs/ycga/project/dijk/ngr4/conda_envs/rnavel/lib/python3.7/site-packages/scprep/utils.py:193: FutureWarning: The SparseSeries class is removed from pandas. Accessing it from the top-level namespace will also be removed in the next version\n",
      "  elif isinstance(x, pd.SparseSeries):\n"
     ]
    },
    {
     "name": "stdout",
     "output_type": "stream",
     "text": [
      "  through 80 iteration. 4.9-min elapsed\n",
      "starting n=0 cells from SCA1, 5wk, GABAergic interneuron 3, 1\n",
      "No cells for SCA1, 5wk, GABAergic interneuron 3, 1\n",
      "starting n=723 cells from SCA1, 5wk, Granule cell, 0\n"
     ]
    },
    {
     "name": "stderr",
     "output_type": "stream",
     "text": [
      "/gpfs/ycga/project/dijk/ngr4/conda_envs/rnavel/lib/python3.7/site-packages/scprep/utils.py:236: FutureWarning: The SparseDataFrame class is removed from pandas. Accessing it from the top-level namespace will also be removed in the next version\n",
      "  if isinstance(x, pd.SparseDataFrame):\n",
      "/gpfs/ycga/project/dijk/ngr4/conda_envs/rnavel/lib/python3.7/site-packages/scprep/select.py:333: FutureWarning: The SparseDataFrame class is removed from pandas. Accessing it from the top-level namespace will also be removed in the next version\n",
      "  if isinstance(data, pd.SparseDataFrame):\n",
      "/gpfs/ycga/project/dijk/ngr4/conda_envs/rnavel/lib/python3.7/site-packages/scprep/utils.py:191: FutureWarning: The SparseDataFrame class is removed from pandas. Accessing it from the top-level namespace will also be removed in the next version\n",
      "  if isinstance(x, pd.SparseDataFrame):\n",
      "/gpfs/ycga/project/dijk/ngr4/conda_envs/rnavel/lib/python3.7/site-packages/scprep/utils.py:193: FutureWarning: The SparseSeries class is removed from pandas. Accessing it from the top-level namespace will also be removed in the next version\n",
      "  elif isinstance(x, pd.SparseSeries):\n"
     ]
    },
    {
     "name": "stdout",
     "output_type": "stream",
     "text": [
      "  through 81 iteration. 5.0-min elapsed\n",
      "starting n=364 cells from SCA1, 5wk, Granule cell, 1\n"
     ]
    },
    {
     "name": "stderr",
     "output_type": "stream",
     "text": [
      "/gpfs/ycga/project/dijk/ngr4/conda_envs/rnavel/lib/python3.7/site-packages/scprep/utils.py:236: FutureWarning: The SparseDataFrame class is removed from pandas. Accessing it from the top-level namespace will also be removed in the next version\n",
      "  if isinstance(x, pd.SparseDataFrame):\n",
      "/gpfs/ycga/project/dijk/ngr4/conda_envs/rnavel/lib/python3.7/site-packages/scprep/select.py:333: FutureWarning: The SparseDataFrame class is removed from pandas. Accessing it from the top-level namespace will also be removed in the next version\n",
      "  if isinstance(data, pd.SparseDataFrame):\n",
      "/gpfs/ycga/project/dijk/ngr4/conda_envs/rnavel/lib/python3.7/site-packages/scprep/utils.py:191: FutureWarning: The SparseDataFrame class is removed from pandas. Accessing it from the top-level namespace will also be removed in the next version\n",
      "  if isinstance(x, pd.SparseDataFrame):\n",
      "/gpfs/ycga/project/dijk/ngr4/conda_envs/rnavel/lib/python3.7/site-packages/scprep/utils.py:193: FutureWarning: The SparseSeries class is removed from pandas. Accessing it from the top-level namespace will also be removed in the next version\n",
      "  elif isinstance(x, pd.SparseSeries):\n"
     ]
    },
    {
     "name": "stdout",
     "output_type": "stream",
     "text": [
      "  through 82 iteration. 5.0-min elapsed\n",
      "starting n=3 cells from SCA1, 5wk, Microglia, 0\n"
     ]
    },
    {
     "name": "stderr",
     "output_type": "stream",
     "text": [
      "/gpfs/ycga/project/dijk/ngr4/conda_envs/rnavel/lib/python3.7/site-packages/scprep/utils.py:236: FutureWarning: The SparseDataFrame class is removed from pandas. Accessing it from the top-level namespace will also be removed in the next version\n",
      "  if isinstance(x, pd.SparseDataFrame):\n",
      "/gpfs/ycga/project/dijk/ngr4/conda_envs/rnavel/lib/python3.7/site-packages/scprep/select.py:333: FutureWarning: The SparseDataFrame class is removed from pandas. Accessing it from the top-level namespace will also be removed in the next version\n",
      "  if isinstance(data, pd.SparseDataFrame):\n",
      "/gpfs/ycga/project/dijk/ngr4/conda_envs/rnavel/lib/python3.7/site-packages/scprep/utils.py:191: FutureWarning: The SparseDataFrame class is removed from pandas. Accessing it from the top-level namespace will also be removed in the next version\n",
      "  if isinstance(x, pd.SparseDataFrame):\n",
      "/gpfs/ycga/project/dijk/ngr4/conda_envs/rnavel/lib/python3.7/site-packages/scprep/utils.py:193: FutureWarning: The SparseSeries class is removed from pandas. Accessing it from the top-level namespace will also be removed in the next version\n",
      "  elif isinstance(x, pd.SparseSeries):\n"
     ]
    },
    {
     "name": "stdout",
     "output_type": "stream",
     "text": [
      "  through 83 iteration. 5.1-min elapsed\n",
      "starting n=1 cells from SCA1, 5wk, Microglia, 1\n"
     ]
    },
    {
     "name": "stderr",
     "output_type": "stream",
     "text": [
      "/gpfs/ycga/project/dijk/ngr4/conda_envs/rnavel/lib/python3.7/site-packages/scprep/utils.py:236: FutureWarning: The SparseDataFrame class is removed from pandas. Accessing it from the top-level namespace will also be removed in the next version\n",
      "  if isinstance(x, pd.SparseDataFrame):\n",
      "/gpfs/ycga/project/dijk/ngr4/conda_envs/rnavel/lib/python3.7/site-packages/scprep/select.py:333: FutureWarning: The SparseDataFrame class is removed from pandas. Accessing it from the top-level namespace will also be removed in the next version\n",
      "  if isinstance(data, pd.SparseDataFrame):\n",
      "/gpfs/ycga/project/dijk/ngr4/conda_envs/rnavel/lib/python3.7/site-packages/scprep/utils.py:191: FutureWarning: The SparseDataFrame class is removed from pandas. Accessing it from the top-level namespace will also be removed in the next version\n",
      "  if isinstance(x, pd.SparseDataFrame):\n",
      "/gpfs/ycga/project/dijk/ngr4/conda_envs/rnavel/lib/python3.7/site-packages/scprep/utils.py:193: FutureWarning: The SparseSeries class is removed from pandas. Accessing it from the top-level namespace will also be removed in the next version\n",
      "  elif isinstance(x, pd.SparseSeries):\n"
     ]
    },
    {
     "name": "stdout",
     "output_type": "stream",
     "text": [
      "  through 84 iteration. 5.2-min elapsed\n",
      "starting n=32 cells from SCA1, 5wk, Oligodendrocyte, 0\n"
     ]
    },
    {
     "name": "stderr",
     "output_type": "stream",
     "text": [
      "/gpfs/ycga/project/dijk/ngr4/conda_envs/rnavel/lib/python3.7/site-packages/scprep/utils.py:236: FutureWarning: The SparseDataFrame class is removed from pandas. Accessing it from the top-level namespace will also be removed in the next version\n",
      "  if isinstance(x, pd.SparseDataFrame):\n",
      "/gpfs/ycga/project/dijk/ngr4/conda_envs/rnavel/lib/python3.7/site-packages/scprep/select.py:333: FutureWarning: The SparseDataFrame class is removed from pandas. Accessing it from the top-level namespace will also be removed in the next version\n",
      "  if isinstance(data, pd.SparseDataFrame):\n",
      "/gpfs/ycga/project/dijk/ngr4/conda_envs/rnavel/lib/python3.7/site-packages/scprep/utils.py:191: FutureWarning: The SparseDataFrame class is removed from pandas. Accessing it from the top-level namespace will also be removed in the next version\n",
      "  if isinstance(x, pd.SparseDataFrame):\n",
      "/gpfs/ycga/project/dijk/ngr4/conda_envs/rnavel/lib/python3.7/site-packages/scprep/utils.py:193: FutureWarning: The SparseSeries class is removed from pandas. Accessing it from the top-level namespace will also be removed in the next version\n",
      "  elif isinstance(x, pd.SparseSeries):\n"
     ]
    },
    {
     "name": "stdout",
     "output_type": "stream",
     "text": [
      "  through 85 iteration. 5.2-min elapsed\n",
      "starting n=13 cells from SCA1, 5wk, Oligodendrocyte, 1\n"
     ]
    },
    {
     "name": "stderr",
     "output_type": "stream",
     "text": [
      "/gpfs/ycga/project/dijk/ngr4/conda_envs/rnavel/lib/python3.7/site-packages/scprep/utils.py:236: FutureWarning: The SparseDataFrame class is removed from pandas. Accessing it from the top-level namespace will also be removed in the next version\n",
      "  if isinstance(x, pd.SparseDataFrame):\n",
      "/gpfs/ycga/project/dijk/ngr4/conda_envs/rnavel/lib/python3.7/site-packages/scprep/select.py:333: FutureWarning: The SparseDataFrame class is removed from pandas. Accessing it from the top-level namespace will also be removed in the next version\n",
      "  if isinstance(data, pd.SparseDataFrame):\n",
      "/gpfs/ycga/project/dijk/ngr4/conda_envs/rnavel/lib/python3.7/site-packages/scprep/utils.py:191: FutureWarning: The SparseDataFrame class is removed from pandas. Accessing it from the top-level namespace will also be removed in the next version\n",
      "  if isinstance(x, pd.SparseDataFrame):\n",
      "/gpfs/ycga/project/dijk/ngr4/conda_envs/rnavel/lib/python3.7/site-packages/scprep/utils.py:193: FutureWarning: The SparseSeries class is removed from pandas. Accessing it from the top-level namespace will also be removed in the next version\n",
      "  elif isinstance(x, pd.SparseSeries):\n"
     ]
    },
    {
     "name": "stdout",
     "output_type": "stream",
     "text": [
      "  through 86 iteration. 5.3-min elapsed\n",
      "starting n=2 cells from SCA1, 5wk, Oligodendrocyte progenitor cell, 0\n"
     ]
    },
    {
     "name": "stderr",
     "output_type": "stream",
     "text": [
      "/gpfs/ycga/project/dijk/ngr4/conda_envs/rnavel/lib/python3.7/site-packages/scprep/utils.py:236: FutureWarning: The SparseDataFrame class is removed from pandas. Accessing it from the top-level namespace will also be removed in the next version\n",
      "  if isinstance(x, pd.SparseDataFrame):\n",
      "/gpfs/ycga/project/dijk/ngr4/conda_envs/rnavel/lib/python3.7/site-packages/scprep/select.py:333: FutureWarning: The SparseDataFrame class is removed from pandas. Accessing it from the top-level namespace will also be removed in the next version\n",
      "  if isinstance(data, pd.SparseDataFrame):\n",
      "/gpfs/ycga/project/dijk/ngr4/conda_envs/rnavel/lib/python3.7/site-packages/scprep/utils.py:191: FutureWarning: The SparseDataFrame class is removed from pandas. Accessing it from the top-level namespace will also be removed in the next version\n",
      "  if isinstance(x, pd.SparseDataFrame):\n",
      "/gpfs/ycga/project/dijk/ngr4/conda_envs/rnavel/lib/python3.7/site-packages/scprep/utils.py:193: FutureWarning: The SparseSeries class is removed from pandas. Accessing it from the top-level namespace will also be removed in the next version\n",
      "  elif isinstance(x, pd.SparseSeries):\n"
     ]
    },
    {
     "name": "stdout",
     "output_type": "stream",
     "text": [
      "  through 87 iteration. 5.3-min elapsed\n",
      "starting n=2 cells from SCA1, 5wk, Oligodendrocyte progenitor cell, 1\n"
     ]
    },
    {
     "name": "stderr",
     "output_type": "stream",
     "text": [
      "/gpfs/ycga/project/dijk/ngr4/conda_envs/rnavel/lib/python3.7/site-packages/scprep/utils.py:236: FutureWarning: The SparseDataFrame class is removed from pandas. Accessing it from the top-level namespace will also be removed in the next version\n",
      "  if isinstance(x, pd.SparseDataFrame):\n",
      "/gpfs/ycga/project/dijk/ngr4/conda_envs/rnavel/lib/python3.7/site-packages/scprep/select.py:333: FutureWarning: The SparseDataFrame class is removed from pandas. Accessing it from the top-level namespace will also be removed in the next version\n",
      "  if isinstance(data, pd.SparseDataFrame):\n",
      "/gpfs/ycga/project/dijk/ngr4/conda_envs/rnavel/lib/python3.7/site-packages/scprep/utils.py:191: FutureWarning: The SparseDataFrame class is removed from pandas. Accessing it from the top-level namespace will also be removed in the next version\n",
      "  if isinstance(x, pd.SparseDataFrame):\n",
      "/gpfs/ycga/project/dijk/ngr4/conda_envs/rnavel/lib/python3.7/site-packages/scprep/utils.py:193: FutureWarning: The SparseSeries class is removed from pandas. Accessing it from the top-level namespace will also be removed in the next version\n",
      "  elif isinstance(x, pd.SparseSeries):\n"
     ]
    },
    {
     "name": "stdout",
     "output_type": "stream",
     "text": [
      "  through 88 iteration. 5.4-min elapsed\n",
      "starting n=11 cells from SCA1, 5wk, Pericyte, 0\n"
     ]
    },
    {
     "name": "stderr",
     "output_type": "stream",
     "text": [
      "/gpfs/ycga/project/dijk/ngr4/conda_envs/rnavel/lib/python3.7/site-packages/scprep/utils.py:236: FutureWarning: The SparseDataFrame class is removed from pandas. Accessing it from the top-level namespace will also be removed in the next version\n",
      "  if isinstance(x, pd.SparseDataFrame):\n",
      "/gpfs/ycga/project/dijk/ngr4/conda_envs/rnavel/lib/python3.7/site-packages/scprep/select.py:333: FutureWarning: The SparseDataFrame class is removed from pandas. Accessing it from the top-level namespace will also be removed in the next version\n",
      "  if isinstance(data, pd.SparseDataFrame):\n",
      "/gpfs/ycga/project/dijk/ngr4/conda_envs/rnavel/lib/python3.7/site-packages/scprep/utils.py:191: FutureWarning: The SparseDataFrame class is removed from pandas. Accessing it from the top-level namespace will also be removed in the next version\n",
      "  if isinstance(x, pd.SparseDataFrame):\n",
      "/gpfs/ycga/project/dijk/ngr4/conda_envs/rnavel/lib/python3.7/site-packages/scprep/utils.py:193: FutureWarning: The SparseSeries class is removed from pandas. Accessing it from the top-level namespace will also be removed in the next version\n",
      "  elif isinstance(x, pd.SparseSeries):\n"
     ]
    },
    {
     "name": "stdout",
     "output_type": "stream",
     "text": [
      "  through 89 iteration. 5.5-min elapsed\n",
      "starting n=1 cells from SCA1, 5wk, Pericyte, 1\n"
     ]
    },
    {
     "name": "stderr",
     "output_type": "stream",
     "text": [
      "/gpfs/ycga/project/dijk/ngr4/conda_envs/rnavel/lib/python3.7/site-packages/scprep/utils.py:236: FutureWarning: The SparseDataFrame class is removed from pandas. Accessing it from the top-level namespace will also be removed in the next version\n",
      "  if isinstance(x, pd.SparseDataFrame):\n",
      "/gpfs/ycga/project/dijk/ngr4/conda_envs/rnavel/lib/python3.7/site-packages/scprep/select.py:333: FutureWarning: The SparseDataFrame class is removed from pandas. Accessing it from the top-level namespace will also be removed in the next version\n",
      "  if isinstance(data, pd.SparseDataFrame):\n",
      "/gpfs/ycga/project/dijk/ngr4/conda_envs/rnavel/lib/python3.7/site-packages/scprep/utils.py:191: FutureWarning: The SparseDataFrame class is removed from pandas. Accessing it from the top-level namespace will also be removed in the next version\n",
      "  if isinstance(x, pd.SparseDataFrame):\n",
      "/gpfs/ycga/project/dijk/ngr4/conda_envs/rnavel/lib/python3.7/site-packages/scprep/utils.py:193: FutureWarning: The SparseSeries class is removed from pandas. Accessing it from the top-level namespace will also be removed in the next version\n",
      "  elif isinstance(x, pd.SparseSeries):\n"
     ]
    },
    {
     "name": "stdout",
     "output_type": "stream",
     "text": [
      "  through 90 iteration. 5.5-min elapsed\n",
      "starting n=12 cells from SCA1, 5wk, Purkinje cell, 0\n"
     ]
    },
    {
     "name": "stderr",
     "output_type": "stream",
     "text": [
      "/gpfs/ycga/project/dijk/ngr4/conda_envs/rnavel/lib/python3.7/site-packages/scprep/utils.py:236: FutureWarning: The SparseDataFrame class is removed from pandas. Accessing it from the top-level namespace will also be removed in the next version\n",
      "  if isinstance(x, pd.SparseDataFrame):\n",
      "/gpfs/ycga/project/dijk/ngr4/conda_envs/rnavel/lib/python3.7/site-packages/scprep/select.py:333: FutureWarning: The SparseDataFrame class is removed from pandas. Accessing it from the top-level namespace will also be removed in the next version\n",
      "  if isinstance(data, pd.SparseDataFrame):\n",
      "/gpfs/ycga/project/dijk/ngr4/conda_envs/rnavel/lib/python3.7/site-packages/scprep/utils.py:191: FutureWarning: The SparseDataFrame class is removed from pandas. Accessing it from the top-level namespace will also be removed in the next version\n",
      "  if isinstance(x, pd.SparseDataFrame):\n",
      "/gpfs/ycga/project/dijk/ngr4/conda_envs/rnavel/lib/python3.7/site-packages/scprep/utils.py:193: FutureWarning: The SparseSeries class is removed from pandas. Accessing it from the top-level namespace will also be removed in the next version\n",
      "  elif isinstance(x, pd.SparseSeries):\n"
     ]
    },
    {
     "name": "stdout",
     "output_type": "stream",
     "text": [
      "  through 91 iteration. 5.6-min elapsed\n",
      "starting n=6 cells from SCA1, 5wk, Purkinje cell, 1\n"
     ]
    },
    {
     "name": "stderr",
     "output_type": "stream",
     "text": [
      "/gpfs/ycga/project/dijk/ngr4/conda_envs/rnavel/lib/python3.7/site-packages/scprep/utils.py:236: FutureWarning: The SparseDataFrame class is removed from pandas. Accessing it from the top-level namespace will also be removed in the next version\n",
      "  if isinstance(x, pd.SparseDataFrame):\n",
      "/gpfs/ycga/project/dijk/ngr4/conda_envs/rnavel/lib/python3.7/site-packages/scprep/select.py:333: FutureWarning: The SparseDataFrame class is removed from pandas. Accessing it from the top-level namespace will also be removed in the next version\n",
      "  if isinstance(data, pd.SparseDataFrame):\n",
      "/gpfs/ycga/project/dijk/ngr4/conda_envs/rnavel/lib/python3.7/site-packages/scprep/utils.py:191: FutureWarning: The SparseDataFrame class is removed from pandas. Accessing it from the top-level namespace will also be removed in the next version\n",
      "  if isinstance(x, pd.SparseDataFrame):\n",
      "/gpfs/ycga/project/dijk/ngr4/conda_envs/rnavel/lib/python3.7/site-packages/scprep/utils.py:193: FutureWarning: The SparseSeries class is removed from pandas. Accessing it from the top-level namespace will also be removed in the next version\n",
      "  elif isinstance(x, pd.SparseSeries):\n"
     ]
    },
    {
     "name": "stdout",
     "output_type": "stream",
     "text": [
      "  through 92 iteration. 5.6-min elapsed\n",
      "starting n=2 cells from SCA1, 5wk, Unipolar brush cell, 0\n"
     ]
    },
    {
     "name": "stderr",
     "output_type": "stream",
     "text": [
      "/gpfs/ycga/project/dijk/ngr4/conda_envs/rnavel/lib/python3.7/site-packages/scprep/utils.py:236: FutureWarning: The SparseDataFrame class is removed from pandas. Accessing it from the top-level namespace will also be removed in the next version\n",
      "  if isinstance(x, pd.SparseDataFrame):\n",
      "/gpfs/ycga/project/dijk/ngr4/conda_envs/rnavel/lib/python3.7/site-packages/scprep/select.py:333: FutureWarning: The SparseDataFrame class is removed from pandas. Accessing it from the top-level namespace will also be removed in the next version\n",
      "  if isinstance(data, pd.SparseDataFrame):\n",
      "/gpfs/ycga/project/dijk/ngr4/conda_envs/rnavel/lib/python3.7/site-packages/scprep/utils.py:191: FutureWarning: The SparseDataFrame class is removed from pandas. Accessing it from the top-level namespace will also be removed in the next version\n",
      "  if isinstance(x, pd.SparseDataFrame):\n",
      "/gpfs/ycga/project/dijk/ngr4/conda_envs/rnavel/lib/python3.7/site-packages/scprep/utils.py:193: FutureWarning: The SparseSeries class is removed from pandas. Accessing it from the top-level namespace will also be removed in the next version\n",
      "  elif isinstance(x, pd.SparseSeries):\n"
     ]
    },
    {
     "name": "stdout",
     "output_type": "stream",
     "text": [
      "  through 93 iteration. 5.7-min elapsed\n",
      "starting n=1 cells from SCA1, 5wk, Unipolar brush cell, 1\n"
     ]
    },
    {
     "name": "stderr",
     "output_type": "stream",
     "text": [
      "/gpfs/ycga/project/dijk/ngr4/conda_envs/rnavel/lib/python3.7/site-packages/scprep/utils.py:236: FutureWarning: The SparseDataFrame class is removed from pandas. Accessing it from the top-level namespace will also be removed in the next version\n",
      "  if isinstance(x, pd.SparseDataFrame):\n",
      "/gpfs/ycga/project/dijk/ngr4/conda_envs/rnavel/lib/python3.7/site-packages/scprep/select.py:333: FutureWarning: The SparseDataFrame class is removed from pandas. Accessing it from the top-level namespace will also be removed in the next version\n",
      "  if isinstance(data, pd.SparseDataFrame):\n",
      "/gpfs/ycga/project/dijk/ngr4/conda_envs/rnavel/lib/python3.7/site-packages/scprep/utils.py:191: FutureWarning: The SparseDataFrame class is removed from pandas. Accessing it from the top-level namespace will also be removed in the next version\n",
      "  if isinstance(x, pd.SparseDataFrame):\n",
      "/gpfs/ycga/project/dijk/ngr4/conda_envs/rnavel/lib/python3.7/site-packages/scprep/utils.py:193: FutureWarning: The SparseSeries class is removed from pandas. Accessing it from the top-level namespace will also be removed in the next version\n",
      "  elif isinstance(x, pd.SparseSeries):\n"
     ]
    },
    {
     "name": "stdout",
     "output_type": "stream",
     "text": [
      "  through 94 iteration. 5.8-min elapsed\n"
     ]
    }
   ],
   "source": [
    "tic = time.time()\n",
    "\n",
    "ig = IntegratedGradients(custom_forward)\n",
    "nt = NoiseTunnel(ig)\n",
    "\n",
    "# for gtype, timepoint, ctype --> get importance scores by averaging expression in that group\n",
    "md = pd.DataFrame({'genotype':datapkl['genotype'],\n",
    "                  'timepoint':datapkl['timepoint'],\n",
    "                  'ctype':datapkl['ctype_ubcupdate'],\n",
    "                  'female':datapkl['female'],\n",
    "                  'n_idx':list(range(len(datapkl['cell_id'])))},\n",
    "                  index=datapkl['cell_id'])\n",
    "\n",
    "ignt = pd.DataFrame() \n",
    "counter = 0\n",
    "for i in ['SCA1']:#np.unique(datapkl['genotype']): # only select label group or average altogether?\n",
    "    for j in np.unique(md['timepoint']):\n",
    "        for k in np.unique(md['ctype']):\n",
    "            for l in [0, 1]:\n",
    "                idx = md.loc[(md['genotype']==i) & (md['timepoint']==j) & (md['ctype']==k) & (md['female']==l), 'n_idx'].to_list()\n",
    "                print('starting n={} cells from {}, {}, {}, {}'.format(len(idx), i, j, k, l))\n",
    "                if len(idx)==0:\n",
    "                    print('No cells for {}, {}, {}, {}'.format(i,j,k,l))\n",
    "                    continue\n",
    "                X = torch.tensor(np.mean(np.asarray(datapkl['X'])[idx, :], axis=0)).unsqueeze(0)\n",
    "                attr = nt.attribute(X, \n",
    "                                    additional_forward_args=((torch.tensor([0,0]).unsqueeze(0))), \n",
    "                                    nt_type='smoothgrad',  \n",
    "                                    n_samples=10, \n",
    "                                    target=1)\n",
    "                dt = pd.DataFrame({'ig+nt':attr.squeeze().numpy(), \n",
    "                                   'Gene':featnames})\n",
    "                dt['genotype'] = i\n",
    "                dt['timepoint'] = j\n",
    "                dt['ctype'] = k\n",
    "                dt['female'] = l\n",
    "                wt_idx = md.loc[(md['genotype']=='WT') & (md['timepoint']==j) & (md['ctype']==k) & (md['female']==l), 'n_idx'].to_list()\n",
    "                if len(wt_idx)==0:\n",
    "                    print('No cells for {}, {}, {}'.format('WT',j,k))\n",
    "                    continue\n",
    "                emd = scprep.stats.differential_expression(np.asarray(datapkl['X'])[idx, :],\n",
    "                                         np.asarray(datapkl['X'])[wt_idx, :],\n",
    "                                       measure = 'emd',\n",
    "                                       direction='both', \n",
    "                                       gene_names=featnames,\n",
    "                                       n_jobs=-1).reset_index().rename(columns={'index':'Gene'})\n",
    "                dt = dt.merge(emd, left_on='Gene', right_on='Gene')\n",
    "                ignt = ignt.append(dt, ignore_index=True)\n",
    "                print('  through {} iteration. {:.1f}-min elapsed'.format(counter+1, (time.time() - tic)/60))\n",
    "                counter += 1\n",
    "                \n",
    "            "
   ]
  },
  {
   "cell_type": "code",
   "execution_count": 143,
   "metadata": {},
   "outputs": [],
   "source": [
    "ignt.to_csv(os.path.join(pfp, 'ignt_7ptest_revision.csv'))"
   ]
  },
  {
   "cell_type": "markdown",
   "metadata": {},
   "source": [
    "# regress out metadata\n",
    "\n",
    "## Methods\n",
    "\n",
    "We performed ordinary least squares linear regression, implemented with the sklearn package v1.0.1, and evaluated our model for the influence of sex on gene importance by calculating the mean-absolute error on a heldout set (70/30 train/test split for importance scores calculated on the GAT's test set, which yieled MAE=0.01 in units of range-scaled expression). After choosing a coefficient that modeled the influence of sex on the importance scores, we regressed out the influence of the female sex on the importance scores, yielding a metadata-adjusted score. "
   ]
  },
  {
   "cell_type": "code",
   "execution_count": 144,
   "metadata": {},
   "outputs": [],
   "source": [
    "from sklearn.model_selection import train_test_split\n",
    "from sklearn.linear_model import ElasticNetCV, ElasticNet\n",
    "\n",
    "# data\n",
    "X_train, X_test, y_train, y_test = train_test_split(\n",
    "    ignt['female'].to_numpy().reshape(-1, 1), \n",
    "    ignt['ig+nt'].to_numpy().reshape(-1, 1), \n",
    "    test_size=0.3, random_state=42)"
   ]
  },
  {
   "cell_type": "code",
   "execution_count": 145,
   "metadata": {},
   "outputs": [
    {
     "name": "stderr",
     "output_type": "stream",
     "text": [
      "/gpfs/ycga/project/dijk/ngr4/conda_envs/rnavel/lib/python3.7/site-packages/sklearn/utils/validation.py:72: DataConversionWarning: A column-vector y was passed when a 1d array was expected. Please change the shape of y to (n_samples, ), for example using ravel().\n",
      "  return f(**kwargs)\n"
     ]
    },
    {
     "name": "stdout",
     "output_type": "stream",
     "text": [
      "MAE: 0.01\n",
      "Female coef: [-0.]\n"
     ]
    }
   ],
   "source": [
    "# regress out female, select model\n",
    "reg = ElasticNetCV(l1_ratio=[.1, .5, .7, .9, .95, .99, 1], cv=5)\n",
    "reg.fit(X_train, y_train)\n",
    "\n",
    "reg_optim = ElasticNet(alpha=reg.alpha_, l1_ratio=reg.l1_ratio_)\n",
    "reg_optim.fit(X_train, y_train)\n",
    "print('MAE: {:.2f}'.format(np.mean(np.abs(reg_optim.predict(X_test) - y_test.squeeze()))))\n",
    "print('Female coef: {}'.format(reg_optim.coef_))"
   ]
  },
  {
   "cell_type": "code",
   "execution_count": 146,
   "metadata": {},
   "outputs": [
    {
     "name": "stdout",
     "output_type": "stream",
     "text": [
      "MAE: 0.01\n",
      "Female coef: [-2.42193066e-05]\n",
      "Female intercept: -0.00012556350529653446\n"
     ]
    }
   ],
   "source": [
    "from sklearn.linear_model import LinearRegression\n",
    "reg_lr = LinearRegression()\n",
    "reg_lr.fit(X_train, y_train.squeeze())\n",
    "print('MAE: {:.2f}'.format(np.mean(np.abs(reg_lr.predict(X_test) - y_test.squeeze()))))\n",
    "print('Female coef: {}'.format(reg_lr.coef_))\n",
    "print('Female intercept: {}'.format(reg_lr.intercept_))"
   ]
  },
  {
   "cell_type": "code",
   "execution_count": 147,
   "metadata": {},
   "outputs": [],
   "source": [
    "def f(x, coef=reg_lr.coef_, intercept=reg_lr.intercept_):\n",
    "    return coef*x + intercept\n",
    "    \n"
   ]
  },
  {
   "cell_type": "code",
   "execution_count": 148,
   "metadata": {},
   "outputs": [],
   "source": [
    "def adjusted_score(score, covariate, coef=reg_lr.coef_):\n",
    "    return score - coef*covariate\n",
    "    "
   ]
  },
  {
   "cell_type": "code",
   "execution_count": 149,
   "metadata": {},
   "outputs": [],
   "source": [
    "# incorporate adjusted score\n",
    "ignt['adj_ignt'] = adjusted_score(ignt['ig+nt'], ignt['female'])\n",
    "# calculate pct_diff\n",
    "ignt['change'] = (ignt['adj_ignt'] - ignt['ig+nt'])\n"
   ]
  },
  {
   "cell_type": "code",
   "execution_count": 150,
   "metadata": {},
   "outputs": [
    {
     "data": {
      "image/png": "[encoded data removed]",
      "text/plain": [
       "<Figure size 720x288 with 2 Axes>"
      ]
     },
     "metadata": {
      "needs_background": "light"
     },
     "output_type": "display_data"
    }
   ],
   "source": [
    "fig, ax = plt.subplots(1, 2, figsize=(10,4))\n",
    "X = ignt['female'] + np.random.uniform(low=-0.25, high=0.25, size=(ignt.shape[0],))\n",
    "ax[0].scatter(X, ignt['ig+nt'], s=0.5, alpha=0.5, rasterized=True)\n",
    "ax[0].set_xticks([0,1])\n",
    "ax[0].set_xticklabels(['Male', 'Female'])\n",
    "ax[0].set_ylabel('IG+NT')\n",
    "ax[0].plot(ax[0].get_xlim(), [f(ax[0].get_xlim()[0]), f(ax[0].get_xlim()[1])], color='black', linewidth=2, linestyle='--')\n",
    "ax[0].set_title('Female coef: {:.2e}, MAE (test): {:.2f}'.format(reg_lr.coef_.item(), np.mean(np.abs(reg_lr.predict(X_test) - y_test.squeeze()))))\n",
    "\n",
    "# im = ax[1].scatter(X, ignt['adj_ignt'], c=ignt['change'].to_numpy(), cmap='RdYlBu_r', s=0.5, alpha=0.5, rasterized=True)\n",
    "# fig.colorbar(im, ax=ax[1], label='Percent change')\n",
    "ax[1].scatter(X, ignt['adj_ignt'], s=0.5, alpha=0.5, rasterized=True)\n",
    "\n",
    "ax[1].set_xticks([0,1])\n",
    "ax[1].set_xticklabels(['Male', 'Female'])\n",
    "ax[1].set_ylabel('IG+NT')\n",
    "ax[1].plot(ax[0].get_xlim(), [reg_lr.intercept_, reg_lr.intercept_], color='black', linewidth=2, linestyle='--')\n",
    "ax[1].set_title('Influence of sex regressed out')\n",
    "fig.tight_layout()\n",
    "fig.savefig(os.path.join(pfp, 'ignt_female_regressedout.pdf'), dpi=600, bbox_inches='tight')"
   ]
  },
  {
   "cell_type": "markdown",
   "metadata": {},
   "source": [
    "# visualize"
   ]
  },
  {
   "cell_type": "code",
   "execution_count": 160,
   "metadata": {},
   "outputs": [
    {
     "data": {
      "image/png": "[encoded data removed]",
      "text/plain": [
       "<Figure size 504x576 with 1 Axes>"
      ]
     },
     "metadata": {
      "needs_background": "light"
     },
     "output_type": "display_data"
    }
   ],
   "source": [
    "# visualize with categorical plot\n",
    "dt = ignt.copy() # use full thing\n",
    "if True:\n",
    "    # drop mito, ribosomal, and MALAT1 genes\n",
    "#     genes2exclude = [g for g in dt['Gene'] if 'mt-' in g or g.startswith('RPS') or g.startswith('RPL')] + ['MALAT1']\n",
    "    genes2exclude = [g for g in dt['Gene'] if 'mt-' in g] + ['Malat1']\n",
    "    dt = dt.loc[(~dt['Gene'].isin(genes2exclude)), :]\n",
    "topn = 50\n",
    "dt['abs_ignt'] = dt['adj_ignt'].abs()\n",
    "topn_idx = dt.sort_values(by='abs_ignt', ascending=False).iloc[0:topn, :].index.to_list()    \n",
    "\n",
    "fig, ax = plt.subplots(1,1, figsize=(7,8))\n",
    "\n",
    "# dtt = dt.loc[dt['abs_ignt']>0.2, :]\n",
    "# dtt=dtt.append(dt.loc[dt['abs_ignt']<=0.2, :].sample(100000))\n",
    "\n",
    "p1 = sns.stripplot(\n",
    "    x='timepoint',\n",
    "    y='abs_ignt',\n",
    "    hue='ctype',\n",
    "    data=dt,\n",
    "    order=['5wk','12wk','18wk','24wk','30wk'],\n",
    "    hue_order=None,\n",
    "    jitter=0.33,\n",
    "    dodge=False,\n",
    "    orient=None,\n",
    "    color=None,\n",
    "    palette=cmap_ctype,\n",
    "    edgecolor='gray',\n",
    "    linewidth=0,\n",
    "    ax=ax,\n",
    "    alpha=0.4,\n",
    "    s=6,\n",
    "    rasterized=True,\n",
    ")\n",
    "\n",
    "time2num = {k:i for i, k in enumerate(['5wk','12wk','18wk','24wk','30wk'])}\n",
    "ax.legend(bbox_to_anchor=(1,1))\n",
    "texts = [ax.text(time2num[dt.loc[ii, 'timepoint']], dt.loc[ii, 'abs_ignt'], dt.loc[ii, 'Gene'], fontsize=6) for ii in topn_idx]\n",
    "adjust_text(texts,arrowprops=dict(arrowstyle=\"-\", color='k', lw=0.5), ax=ax)\n",
    "\n",
    "\n",
    "fig.savefig(os.path.join(pfp, 'female_adj_abs_ignt_pertimepoint_test7p.pdf'), bbox_inches='tight', dpi=600)\n",
    "\n",
    "\n",
    "\n",
    "\n"
   ]
  },
  {
   "cell_type": "code",
   "execution_count": 156,
   "metadata": {},
   "outputs": [],
   "source": [
    "# save, send to leon \n",
    "ignt.to_csv(os.path.join(pfp, 'ignt_7ptest_revision.csv'))"
   ]
  },
  {
   "cell_type": "code",
   "execution_count": 163,
   "metadata": {},
   "outputs": [],
   "source": [
    "ignt['abs_adjignt'] = ignt['adj_ignt'].abs()\n",
    "ignt = ignt.sort_values(by='abs_adjignt', ascending=False)\n",
    "ignt.to_csv(os.path.join(pfp, 'ignt_7ptest_revision.csv'))"
   ]
  },
  {
   "cell_type": "code",
   "execution_count": 165,
   "metadata": {},
   "outputs": [
    {
     "data": {
      "text/plain": [
       "\u001b[0;31mSignature:\u001b[0m\n",
       "\u001b[0msc\u001b[0m\u001b[0;34m.\u001b[0m\u001b[0mexternal\u001b[0m\u001b[0;34m.\u001b[0m\u001b[0mpp\u001b[0m\u001b[0;34m.\u001b[0m\u001b[0mscrublet\u001b[0m\u001b[0;34m(\u001b[0m\u001b[0;34m\u001b[0m\n",
       "\u001b[0;34m\u001b[0m    \u001b[0madata\u001b[0m\u001b[0;34m:\u001b[0m \u001b[0manndata\u001b[0m\u001b[0;34m.\u001b[0m\u001b[0m_core\u001b[0m\u001b[0;34m.\u001b[0m\u001b[0manndata\u001b[0m\u001b[0;34m.\u001b[0m\u001b[0mAnnData\u001b[0m\u001b[0;34m,\u001b[0m\u001b[0;34m\u001b[0m\n",
       "\u001b[0;34m\u001b[0m    \u001b[0madata_sim\u001b[0m\u001b[0;34m:\u001b[0m \u001b[0mUnion\u001b[0m\u001b[0;34m[\u001b[0m\u001b[0manndata\u001b[0m\u001b[0;34m.\u001b[0m\u001b[0m_core\u001b[0m\u001b[0;34m.\u001b[0m\u001b[0manndata\u001b[0m\u001b[0;34m.\u001b[0m\u001b[0mAnnData\u001b[0m\u001b[0;34m,\u001b[0m \u001b[0mNoneType\u001b[0m\u001b[0;34m]\u001b[0m \u001b[0;34m=\u001b[0m \u001b[0;32mNone\u001b[0m\u001b[0;34m,\u001b[0m\u001b[0;34m\u001b[0m\n",
       "\u001b[0;34m\u001b[0m    \u001b[0msim_doublet_ratio\u001b[0m\u001b[0;34m:\u001b[0m \u001b[0mfloat\u001b[0m \u001b[0;34m=\u001b[0m \u001b[0;36m2.0\u001b[0m\u001b[0;34m,\u001b[0m\u001b[0;34m\u001b[0m\n",
       "\u001b[0;34m\u001b[0m    \u001b[0mexpected_doublet_rate\u001b[0m\u001b[0;34m:\u001b[0m \u001b[0mfloat\u001b[0m \u001b[0;34m=\u001b[0m \u001b[0;36m0.05\u001b[0m\u001b[0;34m,\u001b[0m\u001b[0;34m\u001b[0m\n",
       "\u001b[0;34m\u001b[0m    \u001b[0mstdev_doublet_rate\u001b[0m\u001b[0;34m:\u001b[0m \u001b[0mfloat\u001b[0m \u001b[0;34m=\u001b[0m \u001b[0;36m0.02\u001b[0m\u001b[0;34m,\u001b[0m\u001b[0;34m\u001b[0m\n",
       "\u001b[0;34m\u001b[0m    \u001b[0msynthetic_doublet_umi_subsampling\u001b[0m\u001b[0;34m:\u001b[0m \u001b[0mfloat\u001b[0m \u001b[0;34m=\u001b[0m \u001b[0;36m1.0\u001b[0m\u001b[0;34m,\u001b[0m\u001b[0;34m\u001b[0m\n",
       "\u001b[0;34m\u001b[0m    \u001b[0mknn_dist_metric\u001b[0m\u001b[0;34m:\u001b[0m \u001b[0mstr\u001b[0m \u001b[0;34m=\u001b[0m \u001b[0;34m'euclidean'\u001b[0m\u001b[0;34m,\u001b[0m\u001b[0;34m\u001b[0m\n",
       "\u001b[0;34m\u001b[0m    \u001b[0mnormalize_variance\u001b[0m\u001b[0;34m:\u001b[0m \u001b[0mbool\u001b[0m \u001b[0;34m=\u001b[0m \u001b[0;32mTrue\u001b[0m\u001b[0;34m,\u001b[0m\u001b[0;34m\u001b[0m\n",
       "\u001b[0;34m\u001b[0m    \u001b[0mlog_transform\u001b[0m\u001b[0;34m:\u001b[0m \u001b[0mbool\u001b[0m \u001b[0;34m=\u001b[0m \u001b[0;32mFalse\u001b[0m\u001b[0;34m,\u001b[0m\u001b[0;34m\u001b[0m\n",
       "\u001b[0;34m\u001b[0m    \u001b[0mmean_center\u001b[0m\u001b[0;34m:\u001b[0m \u001b[0mbool\u001b[0m \u001b[0;34m=\u001b[0m \u001b[0;32mTrue\u001b[0m\u001b[0;34m,\u001b[0m\u001b[0;34m\u001b[0m\n",
       "\u001b[0;34m\u001b[0m    \u001b[0mn_prin_comps\u001b[0m\u001b[0;34m:\u001b[0m \u001b[0mint\u001b[0m \u001b[0;34m=\u001b[0m \u001b[0;36m30\u001b[0m\u001b[0;34m,\u001b[0m\u001b[0;34m\u001b[0m\n",
       "\u001b[0;34m\u001b[0m    \u001b[0muse_approx_neighbors\u001b[0m\u001b[0;34m:\u001b[0m \u001b[0mbool\u001b[0m \u001b[0;34m=\u001b[0m \u001b[0;32mTrue\u001b[0m\u001b[0;34m,\u001b[0m\u001b[0;34m\u001b[0m\n",
       "\u001b[0;34m\u001b[0m    \u001b[0mget_doublet_neighbor_parents\u001b[0m\u001b[0;34m:\u001b[0m \u001b[0mbool\u001b[0m \u001b[0;34m=\u001b[0m \u001b[0;32mFalse\u001b[0m\u001b[0;34m,\u001b[0m\u001b[0;34m\u001b[0m\n",
       "\u001b[0;34m\u001b[0m    \u001b[0mn_neighbors\u001b[0m\u001b[0;34m:\u001b[0m \u001b[0mUnion\u001b[0m\u001b[0;34m[\u001b[0m\u001b[0mint\u001b[0m\u001b[0;34m,\u001b[0m \u001b[0mNoneType\u001b[0m\u001b[0;34m]\u001b[0m \u001b[0;34m=\u001b[0m \u001b[0;32mNone\u001b[0m\u001b[0;34m,\u001b[0m\u001b[0;34m\u001b[0m\n",
       "\u001b[0;34m\u001b[0m    \u001b[0mthreshold\u001b[0m\u001b[0;34m:\u001b[0m \u001b[0mUnion\u001b[0m\u001b[0;34m[\u001b[0m\u001b[0mfloat\u001b[0m\u001b[0;34m,\u001b[0m \u001b[0mNoneType\u001b[0m\u001b[0;34m]\u001b[0m \u001b[0;34m=\u001b[0m \u001b[0;32mNone\u001b[0m\u001b[0;34m,\u001b[0m\u001b[0;34m\u001b[0m\n",
       "\u001b[0;34m\u001b[0m    \u001b[0mverbose\u001b[0m\u001b[0;34m:\u001b[0m \u001b[0mbool\u001b[0m \u001b[0;34m=\u001b[0m \u001b[0;32mTrue\u001b[0m\u001b[0;34m,\u001b[0m\u001b[0;34m\u001b[0m\n",
       "\u001b[0;34m\u001b[0m    \u001b[0mcopy\u001b[0m\u001b[0;34m:\u001b[0m \u001b[0mbool\u001b[0m \u001b[0;34m=\u001b[0m \u001b[0;32mFalse\u001b[0m\u001b[0;34m,\u001b[0m\u001b[0;34m\u001b[0m\n",
       "\u001b[0;34m\u001b[0m    \u001b[0mrandom_state\u001b[0m\u001b[0;34m:\u001b[0m \u001b[0mint\u001b[0m \u001b[0;34m=\u001b[0m \u001b[0;36m0\u001b[0m\u001b[0;34m,\u001b[0m\u001b[0;34m\u001b[0m\n",
       "\u001b[0;34m\u001b[0m\u001b[0;34m)\u001b[0m \u001b[0;34m->\u001b[0m \u001b[0mUnion\u001b[0m\u001b[0;34m[\u001b[0m\u001b[0manndata\u001b[0m\u001b[0;34m.\u001b[0m\u001b[0m_core\u001b[0m\u001b[0;34m.\u001b[0m\u001b[0manndata\u001b[0m\u001b[0;34m.\u001b[0m\u001b[0mAnnData\u001b[0m\u001b[0;34m,\u001b[0m \u001b[0mNoneType\u001b[0m\u001b[0;34m]\u001b[0m\u001b[0;34m\u001b[0m\u001b[0;34m\u001b[0m\u001b[0m\n",
       "\u001b[0;31mDocstring:\u001b[0m\n",
       "Predict doublets using Scrublet [Wolock19]_.\n",
       "\n",
       "Predict cell doublets using a nearest-neighbor classifier of observed\n",
       "transcriptomes and simulated doublets. Works best if the input is a raw\n",
       "(unnormalized) counts matrix from a single sample or a collection of\n",
       "similar samples from the same experiment.\n",
       "This function is a wrapper around functions that pre-process using Scanpy\n",
       "and directly call functions of Scrublet(). You may also undertake your own\n",
       "preprocessing, simulate doublets with\n",
       "scanpy.external.pp.scrublet_simulate_doublets(), and run the core scrublet\n",
       "function scanpy.external.pp.scrublet.scrublet(). \n",
       "\n",
       ".. note::\n",
       "    More information and bug reports `here\n",
       "    <https://github.com/swolock/scrublet>`__.\n",
       "\n",
       "Parameters\n",
       "----------\n",
       "adata\n",
       "    The annotated data matrix of shape ``n_obs`` × ``n_vars``. Rows\n",
       "    correspond to cells and columns to genes. Expected to be un-normalised\n",
       "    where adata_sim is not supplied, in which case doublets will be\n",
       "    simulated and pre-processing applied to both objects. If adata_sim is\n",
       "    supplied, this should be the observed transcriptomes processed\n",
       "    consistently (filtering, transform, normalisaton, hvg) with adata_sim.\n",
       "adata_sim\n",
       "    (Advanced use case) Optional annData object generated by\n",
       "    sc.external.pp.scrublet_simulate_doublets(), with same number of vars\n",
       "    as adata. This should have been built from adata_obs after\n",
       "    filtering genes and cells and selcting highly-variable genes.\n",
       "sim_doublet_ratio\n",
       "    Number of doublets to simulate relative to the number of observed \n",
       "    transcriptomes.\n",
       "expected_doublet_rate\n",
       "    Where adata_sim not suplied, the estimated doublet rate for the\n",
       "    experiment.\n",
       "stdev_doublet_rate\n",
       "    Where adata_sim not suplied, uncertainty in the expected doublet rate.\n",
       "synthetic_doublet_umi_subsampling\n",
       "    Where adata_sim not suplied, rate for sampling UMIs when creating\n",
       "    synthetic doublets. If 1.0, each doublet is created by simply adding\n",
       "    the UMI counts from two randomly sampled observed transcriptomes. For\n",
       "    values less than 1, the UMI counts are added and then randomly sampled\n",
       "    at the specified rate. \n",
       "knn_dist_metric \n",
       "    Distance metric used when finding nearest neighbors. For list of\n",
       "    valid values, see the documentation for annoy (if `use_approx_neighbors`\n",
       "    is True) or sklearn.neighbors.NearestNeighbors (if `use_approx_neighbors`\n",
       "    is False).\n",
       "normalize_variance\n",
       "    If True, normalize the data such that each gene has a variance of 1.\n",
       "    `sklearn.decomposition.TruncatedSVD` will be used for dimensionality\n",
       "    reduction, unless `mean_center` is True.\n",
       "log_transform\n",
       "    Whether to use :func:``~scanpy.pp.log1p`` to log-transform the data\n",
       "    prior to PCA.\n",
       "mean_center\n",
       "    If True, center the data such that each gene has a mean of 0.\n",
       "    `sklearn.decomposition.PCA` will be used for dimensionality\n",
       "    reduction.\n",
       "n_prin_comps \n",
       "    Number of principal components used to embed the transcriptomes prior\n",
       "    to k-nearest-neighbor graph construction. \n",
       "use_approx_neighbors\n",
       "    Use approximate nearest neighbor method (annoy) for the KNN \n",
       "    classifier.\n",
       "get_doublet_neighbor_parents\n",
       "    If True, return (in .uns) the parent transcriptomes that generated the\n",
       "    doublet neighbors of each observed transcriptome. This information can\n",
       "    be used to infer the cell states that generated a given doublet state. \n",
       "n_neighbors\n",
       "    Number of neighbors used to construct the KNN graph of observed\n",
       "    transcriptomes and simulated doublets. If ``None``, this is\n",
       "    automatically set to ``np.round(0.5 * np.sqrt(n_obs))``.\n",
       "threshold\n",
       "    Doublet score threshold for calling a transcriptome a doublet. If\n",
       "    `None`, this is set automatically by looking for the minimum between\n",
       "    the two modes of the `doublet_scores_sim_` histogram. It is best\n",
       "    practice to check the threshold visually using the\n",
       "    `doublet_scores_sim_` histogram and/or based on co-localization of\n",
       "    predicted doublets in a 2-D embedding.\n",
       "verbose\n",
       "    If True, print progress updates.\n",
       "copy\n",
       "    If ``True``, return a copy of the input ``adata`` with Scrublet results\n",
       "    added. Otherwise, Scrublet results are added in place.\n",
       "random_state\n",
       "    Initial state for doublet simulation and nearest neighbors.\n",
       "\n",
       "Returns\n",
       "-------\n",
       "adata : anndata.AnnData\n",
       "    if ``copy=True`` it returns or else adds fields to ``adata``. Those fields:\n",
       "\n",
       "    ``.obs['doublet_score']``\n",
       "        Doublet scores for each observed transcriptome\n",
       "\n",
       "    ``.obs['predicted_doublets']``\n",
       "        Boolean indicating predicted doublet status\n",
       "\n",
       "    ``adata.uns['scrublet']['doublet_scores_sim']``\n",
       "        Doublet scores for each simulated doublet transcriptome\n",
       "\n",
       "    ``adata.uns['scrublet']['doublet_parents']`` \n",
       "        Pairs of ``.obs_names`` used to generate each simulated doublet\n",
       "        transcriptome\n",
       "\n",
       "    ``uns['scrublet']['parameters']``\n",
       "        Dictionary of Scrublet parameters\n",
       "\n",
       "See also\n",
       "--------\n",
       ":func:`~scanpy.external.pp.scrublet_simulate_doublets`: Run Scrublet's doublet\n",
       "    simulation separately for advanced usage. \n",
       ":func:`~scanpy.external.pl.scrublet_score_distribution`: Plot histogram of doublet\n",
       "    scores for observed transcriptomes and simulated doublets. \n",
       "\u001b[0;31mFile:\u001b[0m      /gpfs/ycga/project/dijk/ngr4/conda_envs/rnavel/lib/python3.7/site-packages/scanpy/external/pp/_scrublet.py\n",
       "\u001b[0;31mType:\u001b[0m      function\n"
      ]
     },
     "metadata": {},
     "output_type": "display_data"
    }
   ],
   "source": [
    "?sc.external.pp.scrublet"
   ]
  },
  {
   "cell_type": "code",
   "execution_count": null,
   "metadata": {},
   "outputs": [],
   "source": []
  }
 ],
 "metadata": {
  "kernelspec": {
   "display_name": "Python 3",
   "language": "python",
   "name": "python3"
  },
  "language_info": {
   "codemirror_mode": {
    "name": "ipython",
    "version": 3
   },
   "file_extension": ".py",
   "mimetype": "text/x-python",
   "name": "python",
   "nbconvert_exporter": "python",
   "pygments_lexer": "ipython3",
   "version": "3.7.4"
  }
 },
 "nbformat": 4,
 "nbformat_minor": 4
}
