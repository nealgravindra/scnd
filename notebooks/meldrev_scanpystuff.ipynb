{
 "cells": [
  {
   "cell_type": "code",
   "execution_count": 2,
   "id": "0ed5ba61-dc83-4cd6-b8ff-458172b8df77",
   "metadata": {},
   "outputs": [],
   "source": [
    "%matplotlib inline\n",
    "\n",
    "import pandas as pd\n",
    "import glob\n",
    "import os\n",
    "\n",
    "import matplotlib.pyplot as plt\n",
    "import seaborn as sns\n",
    "\n",
    "from scipy.stats import pearsonr\n",
    "from scipy.stats import kendalltau\n",
    "import numpy as np\n",
    "\n",
    "import scanpy as sc\n",
    "\n",
    "# settings\n",
    "plt.rc('font', size = 9)\n",
    "plt.rc('font', family='sans serif')\n",
    "plt.rcParams['pdf.fonttype']=42\n",
    "plt.rcParams['ps.fonttype']=42\n",
    "plt.rcParams['text.usetex']=False\n",
    "plt.rcParams['legend.frameon']=False\n",
    "plt.rcParams['axes.grid']=False\n",
    "plt.rcParams['legend.markerscale']=0.5\n",
    "plt.rcParams['savefig.dpi']=600\n",
    "sns.set_style(\"ticks\")"
   ]
  },
  {
   "cell_type": "code",
   "execution_count": 3,
   "id": "27a03199-d904-44fc-b217-33b666a7e547",
   "metadata": {},
   "outputs": [],
   "source": [
    "# load adata\n",
    "adata = sc.read('/home/ngr4/project/scnd/data/processed/astrocyte_210519.h5ad')"
   ]
  },
  {
   "cell_type": "code",
   "execution_count": 7,
   "id": "bdc07acb-3b51-4b0d-ab95-cff6b16ea747",
   "metadata": {},
   "outputs": [
    {
     "name": "stderr",
     "output_type": "stream",
     "text": [
      "findfont: Font family ['Raleway'] not found. Falling back to DejaVu Sans.\n",
      "findfont: Font family ['Lato'] not found. Falling back to DejaVu Sans.\n"
     ]
    },
    {
     "name": "stdout",
     "output_type": "stream",
     "text": [
      "Running PCA with 500 components\n",
      "Nearest neighbor computation...\n"
     ]
    },
    {
     "name": "stderr",
     "output_type": "stream",
     "text": [
      "/gpfs/ycga/project/dijk/ngr4/conda_envs/monocle3/lib/python3.8/site-packages/harmony/core.py:70: FutureWarning: This location for 'distances' is deprecated. It has been moved to .obsp[distances], and will not be accesible here in a future version of anndata.\n",
      "  kNN = temp.uns['neighbors']['distances']\n"
     ]
    },
    {
     "name": "stdout",
     "output_type": "stream",
     "text": [
      "Constucting affinities between 5wk and 12wk...\n",
      "t+1 neighbors of t...\n",
      "t neighbors of t+1...\n",
      "Constucting affinities between 12wk and 18wk...\n",
      "t+1 neighbors of t...\n",
      "t neighbors of t+1...\n",
      "Constucting affinities between 18wk and 24wk...\n",
      "t+1 neighbors of t...\n",
      "t neighbors of t+1...\n",
      "Constucting affinities between 24wk and 30wk...\n",
      "t+1 neighbors of t...\n",
      "t neighbors of t+1...\n"
     ]
    },
    {
     "name": "stderr",
     "output_type": "stream",
     "text": [
      "100%|██████████| 500/500 [00:23<00:00, 21.12it/s]"
     ]
    },
    {
     "name": "stdout",
     "output_type": "stream",
     "text": [
      "BarnesHut Approximation  took  10.98  seconds\n",
      "Repulsion forces  took  10.91  seconds\n",
      "Gravitational forces  took  0.09  seconds\n",
      "Attraction forces  took  0.86  seconds\n",
      "AdjustSpeedAndApplyForces step  took  0.44  seconds\n"
     ]
    },
    {
     "name": "stderr",
     "output_type": "stream",
     "text": [
      "\n"
     ]
    }
   ],
   "source": [
    "sc.external.tl.harmony_timeseries(adata, tp=\"timepoint\", n_components=500)"
   ]
  },
  {
   "cell_type": "code",
   "execution_count": 8,
   "id": "6f35e916-0fa6-4819-9dab-b7580e1fdab7",
   "metadata": {},
   "outputs": [],
   "source": [
    "# randomly pick from 5wk \n",
    "start_cellid = adata.obs.loc[(adata.obs['timepoint']=='5wk'), :].sample(1).index[0]"
   ]
  },
  {
   "cell_type": "code",
   "execution_count": 9,
   "id": "bb6d9ca3-1edd-4b93-a78f-9b46a74f2333",
   "metadata": {},
   "outputs": [],
   "source": [
    "sc.external.tl.palantir(adata,\n",
    "    use_adjacency_matrix=True,\n",
    "    distances_key='harmony_aff_aug')"
   ]
  },
  {
   "cell_type": "code",
   "execution_count": 13,
   "id": "6d4bfd96-1a84-4a7b-8762-c0195d080f80",
   "metadata": {},
   "outputs": [
    {
     "name": "stdout",
     "output_type": "stream",
     "text": [
      "Sampling and flocking waypoints...\n",
      "Time for determining waypoints: 0.007877727349599203 minutes\n",
      "Determining pseudotime...\n",
      "Shortest path distances using 30-nearest neighbor graph...\n",
      "Time for shortest paths: 0.20574351151784262 minutes\n",
      "Iteratively refining the pseudotime...\n",
      "Correlation at iteration 1: 0.9991\n",
      "Correlation at iteration 2: 0.9999\n",
      "Entropy and branch probabilities...\n",
      "Markov chain construction...\n",
      "Identification of terminal states...\n",
      "Computing fundamental matrix and absorption probabilities...\n",
      "Project results to all cells...\n"
     ]
    }
   ],
   "source": [
    "x = sc.external.tl.palantir_results(adata,\n",
    "                                early_cell=start_cellid)\n",
    "adata.obs['pr_pseudotime'] = x.pseudotime"
   ]
  },
  {
   "cell_type": "code",
   "execution_count": 10,
   "id": "0f13bdcc-00d6-4c4c-9f29-6ef9f58d4545",
   "metadata": {},
   "outputs": [],
   "source": [
    "sc.tl.tsne(adata, n_pcs=2, use_rep='X_palantir_multiscale', perplexity=150)"
   ]
  },
  {
   "cell_type": "code",
   "execution_count": 14,
   "id": "394e073a-0d3b-4565-8dca-4cffb9a5b70f",
   "metadata": {},
   "outputs": [],
   "source": [
    "# format data like monocle one\n",
    "dt = pd.DataFrame()\n",
    "dt['UMAP 1'] = adata.obsm['X_tsne'][:, 0]\n",
    "dt['UMAP 2'] = adata.obsm['X_tsne'][:, 1]\n",
    "dt['timepoint'] = adata.obs['timepoint'].to_list()\n",
    "dt['Pseudotime'] = adata.obs['pr_pseudotime'].to_list()\n",
    "dt['timepoint_int'] = [int(i.split('wk')[0]) for i in dt['timepoint']]\n"
   ]
  },
  {
   "cell_type": "code",
   "execution_count": 15,
   "id": "3e8fb9cd-9227-4c1b-8155-3eb93522760d",
   "metadata": {},
   "outputs": [],
   "source": [
    "savefigs = True\n",
    "cmap_wt = {v:sns.cubehelix_palette(5, start=0.5, rot=-0.75)[i] for i,v in enumerate(['5wk', '12wk', '18wk', '24wk', '30wk'])}\n"
   ]
  },
  {
   "cell_type": "code",
   "execution_count": 16,
   "id": "e0ac4b95-6670-424a-ae94-76256fc32924",
   "metadata": {},
   "outputs": [
    {
     "name": "stderr",
     "output_type": "stream",
     "text": [
      "/gpfs/ycga/project/dijk/ngr4/conda_envs/monocle3/lib/python3.8/site-packages/seaborn/_decorators.py:36: FutureWarning: Pass the following variables as keyword args: x, y. From version 0.12, the only valid positional argument will be `data`, and passing other arguments without an explicit keyword will result in an error or misinterpretation.\n",
      "  warnings.warn(\n",
      "findfont: Font family ['Bitstream Vera Sans'] not found. Falling back to DejaVu Sans.\n",
      "findfont: Font family ['Bitstream Vera Sans'] not found. Falling back to DejaVu Sans.\n"
     ]
    }
   ],
   "source": [
    "fig, ax = plt.subplots(1, 1, figsize=(5, 4))\n",
    "sns.scatterplot(dt['UMAP 1'], dt['UMAP 2'], hue=dt['timepoint'], palette=cmap_wt, s=1, rasterized=True, ax=ax)\n",
    "\n",
    "ax.set_xticks([])\n",
    "ax.set_yticks([])\n",
    "ax.set_xlabel('UMAP 1')\n",
    "ax.legend(bbox_to_anchor=(1.01, 1))\n",
    "\n",
    "if savefigs:\n",
    "    fig.savefig('/home/ngr4/project/scnd/results/harmony_umap_bytimepoint.pdf', bbox_inches='tight', dpi=600)\n",
    "    savefigs = False"
   ]
  },
  {
   "cell_type": "code",
   "execution_count": 17,
   "id": "3eadb2ed-adcd-462f-8379-dd8b74240079",
   "metadata": {},
   "outputs": [],
   "source": [
    "savefigs = True"
   ]
  },
  {
   "cell_type": "code",
   "execution_count": 18,
   "id": "8ecc9075-4052-4b68-af72-85e7bf1f90bb",
   "metadata": {},
   "outputs": [],
   "source": [
    "fig, ax = plt.subplots(1, 1, figsize=(5, 4))\n",
    "im = ax.scatter(dt['UMAP 1'], dt['UMAP 2'], c=dt['Pseudotime'], cmap='RdYlBu_r', s=1, rasterized=True)\n",
    "\n",
    "ax.set_xticks([])\n",
    "ax.set_yticks([])\n",
    "ax.set_xlabel('UMAP 1')\n",
    "ax.set_xlabel('UMAP 2')\n",
    "cbar = fig.colorbar(im)\n",
    "cbar.set_label('CellRank Pseudotime', rotation=90)\n",
    "if savefigs:\n",
    "    fig.savefig('/home/ngr4/project/scnd/results/harmony_umap_bypseudot.pdf', bbox_inches='tight', dpi=600)\n",
    "    savefigs = False"
   ]
  },
  {
   "cell_type": "code",
   "execution_count": 21,
   "id": "e771afe4-aab1-45c3-94e6-dfb1e4c0dcf0",
   "metadata": {},
   "outputs": [],
   "source": [
    "savefigs = True\n",
    "pfp = '/home/ngr4/project/scnd/results/'"
   ]
  },
  {
   "cell_type": "code",
   "execution_count": 22,
   "id": "dd0f9db1-66d4-4f80-bfe2-46ec106cec7a",
   "metadata": {},
   "outputs": [
    {
     "name": "stderr",
     "output_type": "stream",
     "text": [
      "findfont: Font family ['Bitstream Vera Sans'] not found. Falling back to DejaVu Sans.\n"
     ]
    }
   ],
   "source": [
    "fig, ax = plt.subplots(2, 1, figsize=(5, 4))\n",
    "sns.violinplot(x='timepoint', y='Pseudotime', ax=ax[0], data=dt, dodge=False, hue='timepoint', palette=cmap_wt)\n",
    "ax[0].set_xlabel('')\n",
    "ax[0].legend().set_visible(False)\n",
    "sns.regplot(x='timepoint_int', y='Pseudotime', data=dt, ax=ax[1], scatter=False, color='k')\n",
    "ax[1].scatter(dt['timepoint_int']+np.random.uniform(-0.1, 0.1, size=(dt.shape[0], )),\n",
    "           dt['Pseudotime'], \n",
    "           c=dt['timepoint'].map(cmap_wt), s=3, alpha=0.8, rasterized=True)\n",
    "r, p_pearson = pearsonr(dt['timepoint_int'], dt['Pseudotime'])\n",
    "tau, p_kendall = kendalltau(dt['timepoint_int'], dt['Pseudotime'])\n",
    "R2 = r**2\n",
    "ax[0].text(0.2, 0.9, '$tau={:.2e} (P={:.2e})$'.format(tau, p_kendall), transform=ax[0].transAxes, weight='bold',)\n",
    "ax[1].text(0.6, 0.9, '$R^2={:.2e}$'.format(R2), transform=ax[1].transAxes, weight='bold',)\n",
    "ax[1].set_ylabel('Monocle3 Pseudotime')\n",
    "ax[1].set_xlabel('Mouse age (wks)')\n",
    "\n",
    "if savefigs:\n",
    "    fig.savefig(os.path.join(pfp, 'violin_scatterplot_harmonypseudotVtimepoint.pdf'), dpi=600, bbox_inches='tight')\n",
    "    savefigs = False"
   ]
  },
  {
   "cell_type": "code",
   "execution_count": 23,
   "id": "9d14ed06-b7bb-4e74-ae8e-e4eea786745e",
   "metadata": {},
   "outputs": [],
   "source": [
    "savefigs = True"
   ]
  },
  {
   "cell_type": "code",
   "execution_count": 24,
   "id": "184b8eba-260f-4969-8da0-f2faa0d7bac1",
   "metadata": {},
   "outputs": [],
   "source": [
    "fig, ax = plt.subplots(1, 2, figsize=(8,1))\n",
    "sns.scatterplot(x=dt['Pseudotime'], y=adata.obsm['1dphate'].squeeze(), hue=adata.obs['timepoint'].to_list(), palette=cmap_wt,\n",
    "                s=20, alpha=0.5, linewidth=0, ax=ax[0], rasterized=True)\n",
    "ax[0].set_xlabel('Monocle3 Pseudotime')\n",
    "ax[0].set_yticks([])\n",
    "ax[0].legend().set_visible(False)\n",
    "ax[0].set_title('1D Phate')\n",
    "\n",
    "sns.scatterplot(x=dt['Pseudotime'], y=np.random.uniform(-1, 1, size=(dt.shape[0],)), hue=adata.obs['timepoint'].to_list(), palette=cmap_wt,\n",
    "                s=20, alpha=0.5, linewidth=0, ax=ax[1], rasterized=True)\n",
    "ax[1].set_xlabel('Monocle3 Pseudotime')\n",
    "ax[1].set_yticks([])\n",
    "ax[1].legend().set_visible(False)\n",
    "ax[1].set_title('Jitter')\n",
    "\n",
    "if savefigs:\n",
    "    fig.savefig(os.path.join(pfp, 'scatterplots_phateVharmonypseudot.pdf'), dpi=600, bbox_inches='tight')\n",
    "    savefigs = False"
   ]
  },
  {
   "cell_type": "code",
   "execution_count": null,
   "id": "21533b55-b89f-4e5b-9e4d-5a40460d9ca2",
   "metadata": {},
   "outputs": [],
   "source": []
  }
 ],
 "metadata": {
  "kernelspec": {
   "display_name": "Python 3",
   "language": "python",
   "name": "python3"
  },
  "language_info": {
   "codemirror_mode": {
    "name": "ipython",
    "version": 3
   },
   "file_extension": ".py",
   "mimetype": "text/x-python",
   "name": "python",
   "nbconvert_exporter": "python",
   "pygments_lexer": "ipython3",
   "version": "3.8.10"
  }
 },
 "nbformat": 4,
 "nbformat_minor": 5
}
