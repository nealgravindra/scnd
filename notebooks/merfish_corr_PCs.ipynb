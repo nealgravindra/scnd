{
 "cells": [
  {
   "cell_type": "code",
   "execution_count": 1,
   "metadata": {},
   "outputs": [],
   "source": [
    "%matplotlib inline\n",
    "\n",
    "import pandas as pd\n",
    "import glob\n",
    "import os\n",
    "\n",
    "import matplotlib.pyplot as plt\n",
    "import seaborn as sns\n",
    "\n",
    "from scipy.stats import pearsonr\n",
    "from scipy.stats import kendalltau\n",
    "import numpy as np\n",
    "\n",
    "import scanpy as sc\n",
    "\n",
    "import sys\n",
    "sys.path.append('/home/ngr4/project/scnd/scripts/')\n",
    "import dge_scnd as scnddge\n",
    "\n",
    "# settings\n",
    "plt.rc('font', size = 9)\n",
    "plt.rc('font', family='sans serif')\n",
    "plt.rcParams['pdf.fonttype']=42\n",
    "plt.rcParams['ps.fonttype']=42\n",
    "plt.rcParams['text.usetex']=False\n",
    "plt.rcParams['legend.frameon']=False\n",
    "plt.rcParams['axes.grid']=False\n",
    "plt.rcParams['legend.markerscale']=0.5\n",
    "plt.rcParams['savefig.dpi']=600\n",
    "sns.set_style(\"ticks\")"
   ]
  },
  {
   "cell_type": "code",
   "execution_count": 2,
   "metadata": {},
   "outputs": [],
   "source": [
    "wt = sc.read('/home/ngr4/project/scnd/data/processed/mouse_wt_imputed.h5ad')\n",
    "del wt.obsp\n",
    "wt = wt[(wt.obs['ctype']=='Purkinje cell')]\n",
    "\n",
    "mut = sc.read('/home/ngr4/project/scnd/data/processed/mouse_sca1_imputed.h5ad')"
   ]
  },
  {
   "cell_type": "code",
   "execution_count": null,
   "metadata": {},
   "outputs": [],
   "source": [
    "del mut.obsp\n",
    "mut = mut[(mut.obs['ctype']=='Purkinje cell')]"
   ]
  },
  {
   "cell_type": "markdown",
   "metadata": {},
   "source": [
    "# redo DGE"
   ]
  },
  {
   "cell_type": "code",
   "execution_count": null,
   "metadata": {},
   "outputs": [],
   "source": [
    "import importlib\n",
    "importlib.reload(scnddge)"
   ]
  },
  {
   "cell_type": "code",
   "execution_count": null,
   "metadata": {},
   "outputs": [],
   "source": [
    "def snrnaVmfish_redodge(adata,\n",
    "                        timepoints=[5, 18, 30],\n",
    "                        WTdir='down', \n",
    "                        fish_file='/home/ngr4/project/scnd/results/210716_merfish_de.csv', \n",
    "                        ctype = 'Purkinje cell',\n",
    "                        out_file=None,\n",
    "                        dge_out=None):\n",
    "    '''Compare snRNA-seq to MERFISH DGE analysis via correlation & scatterplots\n",
    "    \n",
    "    Arguments:\n",
    "      dge_file_magic (str or None): (optional, Default='/home/ngr4/project/scnd/results/dge*{}wk*_imp*down*csv')\n",
    "        enter formula to find via glob files with {} indicating grouping, indicated by `timepoints` arg.\n",
    "      WTdir (str): 'up' indicates that +EMD and l2fc values mean higher exp in WT; 'down' means the opposite\n",
    "         \n",
    "      \n",
    "    '''\n",
    "    \n",
    "    fish = pd.read_csv(fish_file)\n",
    "    results = pd.DataFrame()\n",
    "    dge = pd.DataFrame()\n",
    "    \n",
    "    goi = fish.iloc[1:, 0]\n",
    "    gene_idx = np.where(adata.var.index.isin(goi.to_list()))[0]\n",
    "    gene_names = adata.var.index[gene_idx].to_list()\n",
    "    \n",
    "    for t in timepoints:\n",
    "        wt = adata[((adata.obs['ctype']==ctype) & \n",
    "               (adata.obs['genotype']=='WT') & \n",
    "               (adata.obs['timepoint']=='{}wk'.format(t))), :]\n",
    "        mut = adata[((adata.obs['ctype']==ctype) & \n",
    "                       (adata.obs['genotype']=='SCA1') & \n",
    "                       (adata.obs['timepoint']=='{}wk'.format(t))), :]\n",
    "        idx = np.where(fish.columns=='{}wk'.format(t))[0][0]\n",
    "        dt = fish.iloc[1:, [0, idx, idx+1]]\n",
    "        dt.columns = ['Gene', 'mfish_l2fc', 'mfish_padj']\n",
    "        if WTdir == 'up':\n",
    "            d = scnddge.dge(np.asarray(wt.X[:, gene_idx].todense()), np.asarray(mut.X[:, gene_idx].todense()), gene_names)\n",
    "        elif WTdir=='down':\n",
    "            d = scnddge.dge(np.asarray(mut.X[:, gene_idx].todense()), np.asarray(wt.X[:, gene_idx].todense()), gene_names)\n",
    "        corr_df = d.merge(dt, left_on='Gene', right_on='Gene')\n",
    "        rho_padj, p_rho_padj = pearsonr(corr_df['pval_corrected'], corr_df['mfish_padj'].astype(float))\n",
    "        tau_padj, p_tau_padj = kendalltau(corr_df['pval_corrected'], corr_df['mfish_padj'].astype(float))\n",
    "        rho_l2fc, p_rho_l2fc = pearsonr(corr_df['log2FC'], corr_df['mfish_l2fc'].astype(float))\n",
    "        tau_l2fc, p_tau_l2fc = kendalltau(corr_df['log2FC'], corr_df['mfish_l2fc'].astype(float))\n",
    "\n",
    "        print('    rho_padj: {:.4f} ({:.4f})\\ttau_padj:  {:.4f} ({:.4f})\\trho_l2fc: {:.4f} ({:.4f})\\ttau_l2fc: {:.4f} ({:.4f})'.format(\n",
    "            rho_padj, p_rho_padj, tau_padj, p_tau_padj, rho_l2fc, p_rho_l2fc, tau_l2fc, p_tau_l2fc))\n",
    "\n",
    "        results  = results.append(pd.DataFrame({'Gene':corr_df['Gene'],\n",
    "                                               'timepoint':['{}wk'.format(t)]*corr_df.shape[0],\n",
    "                                               'padj':corr_df['pval_corrected'],\n",
    "                                               'l2fc':corr_df['log2FC'],\n",
    "                                               'mfish_padj':corr_df['mfish_padj'].astype(float),\n",
    "                                               'mfish_l2fc':corr_df['mfish_l2fc'].astype(float)}), ignore_index=True)\n",
    "        d['timepoint'] = ['{}wk'.format(t)]*d.shape[0]\n",
    "        d['ctype'] = [ctype]*d.shape[0]\n",
    "        dge = dge.append(d, ignore_index=True)\n",
    "\n",
    "    if dge_out is not None:\n",
    "        dge.to_csv(dge_out)\n",
    "\n",
    "    # plot\n",
    "    fig, ax = plt.subplots(1, 2, figsize=(9,3))\n",
    "    results['-log10 P adj'] = -1*np.log10(results['padj'])\n",
    "    results['-log10 P adj (MERFISH)'] = -1*np.log10(results['mfish_padj'])\n",
    "    sns.scatterplot(x='-log10 P adj', y='-log10 P adj (MERFISH)', data=results, \n",
    "                    hue='timepoint', linewidth=0, ax=ax[0])\n",
    "    sns.scatterplot(x='l2fc', y='mfish_l2fc', data=results, \n",
    "                    hue='timepoint', linewidth=0, ax=ax[1])\n",
    "\n",
    "    if out_file is not None:\n",
    "        results.to_csv(out_file)\n",
    "\n",
    "    return results\n",
    "    "
   ]
  },
  {
   "cell_type": "code",
   "execution_count": null,
   "metadata": {},
   "outputs": [],
   "source": [
    "nonimp = snrnaVmfish_redodge(adata,\n",
    "                        WTdir='down', \n",
    "                        out_file='/home/ngr4/project/scnd/results/dge_snrnaVmfish_nonimp_WTdown.csv',\n",
    "                        dge_out='/home/ngr4/project/scnd/results/dge_redo_nonimp_PC_WTdown.csv')"
   ]
  },
  {
   "cell_type": "code",
   "execution_count": null,
   "metadata": {},
   "outputs": [],
   "source": [
    "nonimp = snrnaVmfish_redodge(adata,\n",
    "                        WTdir='up', \n",
    "                        out_file='/home/ngr4/project/scnd/results/dge_snrnaVmfish_nonimp_WTup.csv',\n",
    "                        dge_out='/home/ngr4/project/scnd/results/dge_redo_nonimp_PC_WTup.csv')"
   ]
  },
  {
   "cell_type": "code",
   "execution_count": null,
   "metadata": {},
   "outputs": [],
   "source": [
    "# main\n",
    "imp = True\n",
    "\n",
    "if not imp:\n",
    "    adata = sc.read('/home/ngr4/project/scnd/data/processed/mouse_200614.h5ad')\n",
    "    u = snrnaVmfish_redodge(adata,\n",
    "                        WTdir='up', \n",
    "                        out_file='/home/ngr4/project/scnd/results/dge_snrnaVmfish_nonimp_WTup.csv',\n",
    "                        dge_out='/home/ngr4/project/scnd/results/dge_redo_nonimp_PC_WTup.csv')\n",
    "    d = snrnaVmfish_redodge(adata,\n",
    "                        WTdir='down', \n",
    "                        out_file='/home/ngr4/project/scnd/results/dge_snrnaVmfish_nonimp_WTdown.csv',\n",
    "                        dge_out='/home/ngr4/project/scnd/results/dge_redo_nonimp_PC_WTdown.csv')\n",
    "else:\n",
    "    print('Not implemented')"
   ]
  },
  {
   "cell_type": "markdown",
   "metadata": {},
   "source": [
    "# don't re-do DGE"
   ]
  },
  {
   "cell_type": "code",
   "execution_count": null,
   "metadata": {},
   "outputs": [],
   "source": [
    "def snrnaVmfish(dge_file_magic='/home/ngr4/project/scnd/results/dge*{}wk*_imp*down*csv',\n",
    "                timepoints=[5, 18, 30],\n",
    "                fish_file='/home/ngr4/project/scnd/results/210716_merfish_de.csv', \n",
    "                ctype = 'Purkinje cell',\n",
    "                out_file=None,\n",
    "                redo_dge=False):\n",
    "    '''Compare snRNA-seq to MERFISH DGE analysis via correlation & scatterplots\n",
    "    \n",
    "    Arguments:\n",
    "      dge_file_magic (str or None): (optional, Default='/home/ngr4/project/scnd/results/dge*{}wk*_imp*down*csv')\n",
    "        enter formula to find via glob files with {} indicating grouping, indicated by `timepoints` arg. If None,\n",
    "         \n",
    "      \n",
    "    '''\n",
    "    \n",
    "    fish = pd.read_csv(fish_file)\n",
    "    results = pd.DataFrame()\n",
    "    \n",
    "    for t in timepoints:\n",
    "        files = glob.glob(dge_file_magic.format(t))\n",
    "        for i, f in enumerate(files):\n",
    "            print('\\n  processing file #{}: {}'.format(i, f))\n",
    "        d = pd.read_csv(files[0])\n",
    "        d = d.loc[d['Cell type']=='Purkinje cell', :]\n",
    "        idx = np.where(fish.columns=='{}wk'.format(t))[0][0]\n",
    "        dt = fish.iloc[1:, [0, idx, idx+1]]\n",
    "        dt.columns = ['Gene', 'mfish_l2fc', 'mfish_padj']\n",
    "        corr_df = d.merge(dt, left_on='Gene', right_on='Gene')\n",
    "        rho_padj, p_rho_padj = pearsonr(corr_df['pval_corrected'], corr_df['mfish_padj'].astype(float))\n",
    "        tau_padj, p_tau_padj = kendalltau(corr_df['pval_corrected'], corr_df['mfish_padj'].astype(float))\n",
    "        rho_l2fc, p_rho_l2fc = pearsonr(corr_df['log2FC'], corr_df['mfish_l2fc'].astype(float))\n",
    "        tau_l2fc, p_tau_l2fc = kendalltau(corr_df['log2FC'], corr_df['mfish_l2fc'].astype(float))\n",
    "\n",
    "        print('    rho_padj: {:.4f} ({:.4f})\\ttau_padj:  {:.4f} ({:.4f})\\trho_l2fc: {:.4f} ({:.4f})\\ttau_l2fc: {:.4f} ({:.4f})'.format(\n",
    "            rho_padj, p_rho_padj, tau_padj, p_tau_padj, rho_l2fc, p_rho_l2fc, tau_l2fc, p_tau_l2fc))\n",
    "\n",
    "        results  = results.append(pd.DataFrame({'Gene':corr_df['Gene'],\n",
    "                                               'timepoint':['{}wk'.format(t)]*corr_df.shape[0],\n",
    "                                               'padj':corr_df['pval_corrected'],\n",
    "                                               'l2fc':corr_df['log2FC'],\n",
    "                                               'mfish_padj':corr_df['mfish_padj'].astype(float),\n",
    "                                               'mfish_l2fc':corr_df['mfish_l2fc'].astype(float)}), ignore_index=True)\n",
    "\n",
    "    # plot\n",
    "    fig, ax = plt.subplots(1, 2, figsize=(9,3))\n",
    "    results['-log10 P adj'] = -1*np.log10(results['padj'])\n",
    "    results['-log10 P adj (MERFISH)'] = -1*np.log10(results['mfish_padj'])\n",
    "    sns.scatterplot(x='-log10 P adj', y='-log10 P adj (MERFISH)', data=results, \n",
    "                    hue='timepoint', linewidth=0, ax=ax[0])\n",
    "    sns.scatterplot(x='l2fc', y='mfish_l2fc', data=results, \n",
    "                    hue='timepoint', linewidth=0, ax=ax[1])\n",
    "    \n",
    "    if out_file is not None:\n",
    "        results.to_csv(out_file)\n",
    "    "
   ]
  },
  {
   "cell_type": "code",
   "execution_count": null,
   "metadata": {},
   "outputs": [],
   "source": [
    "snrnaVmfish(dge_file_magic='/home/ngr4/project/scnd/results/dge*{}wk*_imp*down*csv',\n",
    "            out_file='/home/ngr4/project/scnd/results/dge_snrnaVmfish_imp_WTdown.csv')\n",
    "snrnaVmfish(dge_file_magic='/home/ngr4/project/scnd/results/dge*{}wk*_imp*up*csv',\n",
    "            out_file='/home/ngr4/project/scnd/results/dge_snrnaVmfish_imp_WTup.csv')"
   ]
  },
  {
   "cell_type": "code",
   "execution_count": null,
   "metadata": {},
   "outputs": [],
   "source": [
    "glob.glob('/home/ngr4/project/scnd/results/dge*{}wk*_imp*down*csv'.format(t))"
   ]
  },
  {
   "cell_type": "code",
   "execution_count": null,
   "metadata": {},
   "outputs": [],
   "source": [
    "rho, p_rho = pearsonr()\n",
    "tau, p_tau = kendalltau()"
   ]
  },
  {
   "cell_type": "code",
   "execution_count": null,
   "metadata": {},
   "outputs": [],
   "source": [
    "dt.shape"
   ]
  },
  {
   "cell_type": "code",
   "execution_count": null,
   "metadata": {},
   "outputs": [],
   "source": []
  }
 ],
 "metadata": {
  "kernelspec": {
   "display_name": "Python 3",
   "language": "python",
   "name": "python3"
  },
  "language_info": {
   "codemirror_mode": {
    "name": "ipython",
    "version": 3
   },
   "file_extension": ".py",
   "mimetype": "text/x-python",
   "name": "python",
   "nbconvert_exporter": "python",
   "pygments_lexer": "ipython3",
   "version": "3.8.10"
  }
 },
 "nbformat": 4,
 "nbformat_minor": 4
}
