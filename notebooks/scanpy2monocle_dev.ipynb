{
 "cells": [
  {
   "cell_type": "code",
   "execution_count": 1,
   "id": "abc735e5-dff0-451d-85de-54b49919bd7d",
   "metadata": {},
   "outputs": [],
   "source": [
    "import scanpy as sc\n",
    "import os\n",
    "import pandas as pd\n",
    "import numpy as np"
   ]
  },
  {
   "cell_type": "code",
   "execution_count": 2,
   "id": "584087ce-ea86-48fc-ba89-d86905b651f6",
   "metadata": {},
   "outputs": [],
   "source": [
    "\n",
    "adata_file = '/home/ngr4/project/scnd/data/processed/mouse_200614.h5ad'\n",
    "adata = sc.read(adata_file)"
   ]
  },
  {
   "cell_type": "code",
   "execution_count": 3,
   "id": "093f3a12-47af-485b-91cd-a5f702e4c323",
   "metadata": {},
   "outputs": [
    {
     "data": {
      "text/plain": [
       "AnnData object with n_obs × n_vars = 318312 × 26374\n",
       "    obs: 'batch', 'genotype', 'timepoint', 'n_genes_by_counts', 'log1p_n_genes_by_counts', 'total_counts', 'log1p_total_counts', 'pct_counts_in_top_50_genes', 'pct_counts_in_top_100_genes', 'pct_counts_in_top_200_genes', 'pct_counts_in_top_500_genes', 'pmito', 'n_genes', 'louvain', 'res_sca1', 'ees_sca1', 'stored_ctype', 'ctype'\n",
       "    var: 'gene_ids', 'feature_types', 'n_cells_by_counts', 'mean_counts', 'log1p_mean_counts', 'pct_dropout_by_counts', 'total_counts', 'log1p_total_counts', 'n_cells'\n",
       "    uns: 'louvain', 'neighbors', 'pca', 'umap'\n",
       "    obsm: 'X_pca', 'X_phate', 'X_umap'\n",
       "    varm: 'PCs'\n",
       "    obsp: 'connectivities', 'distances'"
      ]
     },
     "execution_count": 3,
     "metadata": {},
     "output_type": "execute_result"
    }
   ],
   "source": [
    "adata"
   ]
  },
  {
   "cell_type": "code",
   "execution_count": 4,
   "id": "dc144d1a-231f-43ff-9b81-d33787227e11",
   "metadata": {},
   "outputs": [
    {
     "data": {
      "text/plain": [
       "View of AnnData object with n_obs × n_vars = 4090 × 26374\n",
       "    obs: 'batch', 'genotype', 'timepoint', 'n_genes_by_counts', 'log1p_n_genes_by_counts', 'total_counts', 'log1p_total_counts', 'pct_counts_in_top_50_genes', 'pct_counts_in_top_100_genes', 'pct_counts_in_top_200_genes', 'pct_counts_in_top_500_genes', 'pmito', 'n_genes', 'louvain', 'res_sca1', 'ees_sca1', 'stored_ctype', 'ctype'\n",
       "    var: 'gene_ids', 'feature_types', 'n_cells_by_counts', 'mean_counts', 'log1p_mean_counts', 'pct_dropout_by_counts', 'total_counts', 'log1p_total_counts', 'n_cells'\n",
       "    uns: 'louvain', 'neighbors', 'pca', 'umap'\n",
       "    obsm: 'X_pca', 'X_phate', 'X_umap'\n",
       "    varm: 'PCs'\n",
       "    obsp: 'connectivities', 'distances'"
      ]
     },
     "execution_count": 4,
     "metadata": {},
     "output_type": "execute_result"
    }
   ],
   "source": [
    "sdata = adata[(adata.obs['ctype']=='Astrocyte') & (adata.obs['genotype']=='WT'), :]\n",
    "sdata"
   ]
  },
  {
   "cell_type": "code",
   "execution_count": 5,
   "id": "280af191-8681-4f18-8ab5-5f59a167608b",
   "metadata": {},
   "outputs": [],
   "source": [
    "save_subset = True\n",
    "if save_subset:\n",
    "    dfp = '/home/ngr4/scratch60/scnd/data/processed/'\n",
    "    if not os.path.exists(dfp):\n",
    "        os.mkdir(dfp)\n",
    "    sdata.write(os.path.join(dfp, 'astrocyte_210519.h5ad'))"
   ]
  },
  {
   "cell_type": "code",
   "execution_count": 6,
   "id": "1259aeba-f0b8-419d-ad44-6cd5a770af89",
   "metadata": {},
   "outputs": [],
   "source": [
    "save_parts = True\n",
    "if save_parts:\n",
    "    # gex (need to transpose) in counts\n",
    "    np.savetxt(os.path.join(dfp, 'astrocytes_raw_cellxgene.csv'), np.asarray(sdata.raw.X.todense()), delimiter=',')\n",
    "    # gene metadata\n",
    "    sdata.var.to_csv(os.path.join(dfp, 'astrocytes_genemd.csv'))\n",
    "    # cell metadata\n",
    "    sdata.obs.to_csv(os.path.join(dfp, 'astrocytes_cellmd.csv'))\n"
   ]
  },
  {
   "cell_type": "code",
   "execution_count": null,
   "id": "d4f112b6-31a0-4a73-8446-110c5b187d01",
   "metadata": {},
   "outputs": [],
   "source": []
  }
 ],
 "metadata": {
  "kernelspec": {
   "display_name": "Python 3",
   "language": "python",
   "name": "python3"
  },
  "language_info": {
   "codemirror_mode": {
    "name": "ipython",
    "version": 3
   },
   "file_extension": ".py",
   "mimetype": "text/x-python",
   "name": "python",
   "nbconvert_exporter": "python",
   "pygments_lexer": "ipython3",
   "version": "3.8.10"
  }
 },
 "nbformat": 4,
 "nbformat_minor": 5
}
