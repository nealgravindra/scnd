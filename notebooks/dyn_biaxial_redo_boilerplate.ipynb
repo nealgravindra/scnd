{
 "cells": [
  {
   "cell_type": "code",
   "execution_count": 1,
   "metadata": {},
   "outputs": [],
   "source": [
    "%matplotlib inline\n",
    "\n",
    "import os \n",
    "import glob \n",
    "import sys\n",
    "import numpy as np\n",
    "import pandas as pd\n",
    "import seaborn as sns\n",
    "import scanpy as sc\n",
    "import time\n",
    "import datetime\n",
    "import matplotlib.pyplot as plt\n",
    "from adjustText import adjust_text\n",
    "\n",
    "import sys\n",
    "sys.path.append('/home/ngr4/project/')\n",
    "from scnd.scripts import data as scnddata\n",
    "from scnd.scripts import dyn_goi_diffs as scnddyn\n",
    "\n",
    "\n",
    "plt.rc('font', size = 8)\n",
    "plt.rc('font', family='sans serif')\n",
    "plt.rcParams['pdf.fonttype']=42\n",
    "plt.rcParams['ps.fonttype']=42\n",
    "plt.rcParams['legend.frameon']=False\n",
    "sns.set_style(\"ticks\")"
   ]
  },
  {
   "cell_type": "code",
   "execution_count": 2,
   "metadata": {},
   "outputs": [],
   "source": [
    "# aesthetics \n",
    "cmap_timepoint = {v:sns.color_palette('BuGn')[1:][i] for i,v in enumerate(['5wk', '12wk', '18wk', '24wk', '30wk'])}\n",
    "\n",
    "cmap_genotime = {}\n",
    "for g in ['WT', 'SCA1']:\n",
    "    if g=='WT':\n",
    "        for i,v in enumerate(['5wk', '12wk', '18wk', '24wk', '30wk']):\n",
    "            cmap_genotime['{}_{}'.format(g, v)] = sns.cubehelix_palette(5, start=.5, rot=-.75)[i]\n",
    "    if g=='SCA1':\n",
    "        for i,v in enumerate(['5wk', '12wk', '18wk', '24wk', '30wk']):\n",
    "            cmap_genotime['{}_{}'.format(g, v)] = sns.cubehelix_palette(5)[i]\n",
    "            \n",
    "cmap_ctype={'Granule cell': '#FAC18A',\n",
    "            'Unipolar brush cell': '#BA61BA',\n",
    "            'Purkinje cell': '#EE5264',\n",
    "            'GABAergic interneuron 1': '#F9EBAE',\n",
    "            'GABAergic interneuron 2': '#88BB92',\n",
    "            'GABAergic interneuron 3': '#46A928',\n",
    "            'Astrocyte': '#F9AEAE',\n",
    "            'Bergmann glia': '#AEB7F9',\n",
    "            'Oligodendrocyte progenitor cell': '#F1815F',\n",
    "            'Oligodendrocyte': '#75A3B7',\n",
    "            'Microglia': '#AC5861',\n",
    "            'Pericyte': '#2D284B',\n",
    "            'Endothelial cell': '#1C67EE',\n",
    "            'Deep cerebellar nuclei': '#aaaaaa'}\n",
    "\n",
    "cmap_genotype={'WT':'#010101',\n",
    "               'SCA1':'#ffd478'}\n",
    "\n"
   ]
  },
  {
   "cell_type": "code",
   "execution_count": 3,
   "metadata": {},
   "outputs": [],
   "source": [
    "pfp = '/home/ngr4/project/scnd/results'\n",
    "wt, mut = scnddata.load_mouse_imputed_revision(add_md=scnddata.load_md())"
   ]
  },
  {
   "cell_type": "code",
   "execution_count": 4,
   "metadata": {},
   "outputs": [],
   "source": [
    "goi = {k:['Gm39465'] for k in np.sort(wt.obs.ctype_ubcupdate.unique())}"
   ]
  },
  {
   "cell_type": "code",
   "execution_count": 5,
   "metadata": {},
   "outputs": [
    {
     "name": "stdout",
     "output_type": "stream",
     "text": [
      "\n",
      "Starting Astrocyte\n",
      "----\n",
      "\n"
     ]
    },
    {
     "name": "stderr",
     "output_type": "stream",
     "text": [
      "computing PCA\n",
      "    with n_comps=50\n",
      "    finished (0:00:47)\n",
      "computing neighbors\n",
      "    using 'X_pca' with n_pcs = 50\n",
      "    finished (0:00:02)\n",
      "computing PCA\n",
      "    with n_comps=50\n",
      "    finished (0:00:47)\n",
      "computing neighbors\n",
      "    using 'X_pca' with n_pcs = 50\n",
      "    finished (0:00:00)\n"
     ]
    },
    {
     "name": "stdout",
     "output_type": "stream",
     "text": [
      "  done in 101.99437832832336-s\n",
      "\n",
      "Starting Bergmann glia\n",
      "----\n",
      "\n"
     ]
    },
    {
     "name": "stderr",
     "output_type": "stream",
     "text": [
      "computing PCA\n",
      "    with n_comps=50\n",
      "    finished (0:00:47)\n",
      "computing neighbors\n",
      "    using 'X_pca' with n_pcs = 50\n",
      "    finished (0:00:00)\n",
      "computing PCA\n",
      "    with n_comps=50\n",
      "    finished (0:00:35)\n",
      "computing neighbors\n",
      "    using 'X_pca' with n_pcs = 50\n",
      "    finished (0:00:00)\n"
     ]
    },
    {
     "name": "stdout",
     "output_type": "stream",
     "text": [
      "  done in 89.16901540756226-s\n",
      "\n",
      "Starting Deep cerebellar nuclei\n",
      "----\n",
      "\n"
     ]
    },
    {
     "name": "stderr",
     "output_type": "stream",
     "text": [
      "computing PCA\n",
      "    with n_comps=50\n",
      "    finished (0:00:24)\n",
      "computing neighbors\n",
      "    using 'X_pca' with n_pcs = 50\n",
      "    finished (0:00:00)\n",
      "computing PCA\n",
      "    with n_comps=50\n",
      "    finished (0:00:03)\n",
      "computing neighbors\n",
      "    using 'X_pca' with n_pcs = 50\n",
      "    finished (0:00:00)\n"
     ]
    },
    {
     "name": "stdout",
     "output_type": "stream",
     "text": [
      "  done in 29.148764848709106-s\n",
      "\n",
      "Starting Endothelial cell\n",
      "----\n",
      "\n"
     ]
    },
    {
     "name": "stderr",
     "output_type": "stream",
     "text": [
      "computing PCA\n",
      "    with n_comps=50\n",
      "    finished (0:00:09)\n",
      "computing neighbors\n",
      "    using 'X_pca' with n_pcs = 50\n",
      "    finished (0:00:00)\n",
      "computing PCA\n",
      "    with n_comps=50\n",
      "    finished (0:00:12)\n",
      "computing neighbors\n",
      "    using 'X_pca' with n_pcs = 50\n",
      "    finished (0:00:00)\n"
     ]
    },
    {
     "name": "stdout",
     "output_type": "stream",
     "text": [
      "  done in 24.28681755065918-s\n",
      "\n",
      "Starting GABAergic interneuron 1\n",
      "----\n",
      "\n"
     ]
    },
    {
     "name": "stderr",
     "output_type": "stream",
     "text": [
      "Observation names are not unique. To make them unique, call `.obs_names_make_unique`.\n",
      "Observation names are not unique. To make them unique, call `.obs_names_make_unique`.\n",
      "computing PCA\n",
      "    with n_comps=50\n",
      "    finished (0:00:49)\n",
      "computing neighbors\n",
      "    using 'X_pca' with n_pcs = 50\n",
      "    finished (0:00:00)\n",
      "Observation names are not unique. To make them unique, call `.obs_names_make_unique`.\n",
      "Observation names are not unique. To make them unique, call `.obs_names_make_unique`.\n",
      "computing PCA\n",
      "    with n_comps=50\n",
      "    finished (0:00:40)\n",
      "computing neighbors\n",
      "    using 'X_pca' with n_pcs = 50\n",
      "    finished (0:00:00)\n"
     ]
    },
    {
     "name": "stdout",
     "output_type": "stream",
     "text": [
      "  done in 100.20745182037354-s\n",
      "\n",
      "Starting GABAergic interneuron 2\n",
      "----\n",
      "\n"
     ]
    },
    {
     "name": "stderr",
     "output_type": "stream",
     "text": [
      "computing PCA\n",
      "    with n_comps=50\n",
      "    finished (0:00:30)\n",
      "computing neighbors\n",
      "    using 'X_pca' with n_pcs = 50\n",
      "    finished (0:00:00)\n",
      "computing PCA\n",
      "    with n_comps=50\n",
      "    finished (0:00:09)\n",
      "computing neighbors\n",
      "    using 'X_pca' with n_pcs = 50\n",
      "    finished (0:00:00)\n",
      "computing PCA\n",
      "    with n_comps=50\n"
     ]
    },
    {
     "name": "stdout",
     "output_type": "stream",
     "text": [
      "  done in 42.50576186180115-s\n",
      "\n",
      "Starting GABAergic interneuron 3\n",
      "----\n",
      "\n"
     ]
    },
    {
     "name": "stderr",
     "output_type": "stream",
     "text": [
      "    finished (0:00:02)\n",
      "computing neighbors\n",
      "    using 'X_pca' with n_pcs = 50\n",
      "    finished (0:00:00)\n",
      "computing PCA\n",
      "    with n_comps=50\n",
      "    finished (0:00:04)\n",
      "computing neighbors\n",
      "    using 'X_pca' with n_pcs = 50\n",
      "    finished (0:00:00)\n"
     ]
    },
    {
     "name": "stdout",
     "output_type": "stream",
     "text": [
      "  done in 7.061629772186279-s\n",
      "\n",
      "Starting Granule cell\n",
      "----\n",
      "\n"
     ]
    },
    {
     "name": "stderr",
     "output_type": "stream",
     "text": [
      "Observation names are not unique. To make them unique, call `.obs_names_make_unique`.\n",
      "Observation names are not unique. To make them unique, call `.obs_names_make_unique`.\n",
      "computing PCA\n",
      "    with n_comps=50\n",
      "    finished (0:00:25)\n",
      "computing neighbors\n",
      "    using 'X_pca' with n_pcs = 50\n",
      "    finished (0:00:00)\n",
      "Observation names are not unique. To make them unique, call `.obs_names_make_unique`.\n",
      "Observation names are not unique. To make them unique, call `.obs_names_make_unique`.\n",
      "computing PCA\n",
      "    with n_comps=50\n",
      "    finished (0:00:43)\n",
      "computing neighbors\n",
      "    using 'X_pca' with n_pcs = 50\n",
      "    finished (0:00:00)\n"
     ]
    },
    {
     "name": "stdout",
     "output_type": "stream",
     "text": [
      "  done in 82.57356643676758-s\n",
      "\n",
      "Starting Microglia\n",
      "----\n",
      "\n"
     ]
    },
    {
     "name": "stderr",
     "output_type": "stream",
     "text": [
      "computing PCA\n",
      "    with n_comps=50\n",
      "    finished (0:00:02)\n",
      "computing neighbors\n",
      "    using 'X_pca' with n_pcs = 50\n",
      "    finished (0:00:00)\n",
      "computing PCA\n",
      "    with n_comps=50\n",
      "    finished (0:00:02)\n",
      "computing neighbors\n",
      "    using 'X_pca' with n_pcs = 50\n",
      "    finished (0:00:00)\n"
     ]
    },
    {
     "name": "stdout",
     "output_type": "stream",
     "text": [
      "  done in 4.9984800815582275-s\n",
      "\n",
      "Starting Oligodendrocyte\n",
      "----\n",
      "\n"
     ]
    },
    {
     "name": "stderr",
     "output_type": "stream",
     "text": [
      "Observation names are not unique. To make them unique, call `.obs_names_make_unique`.\n",
      "Observation names are not unique. To make them unique, call `.obs_names_make_unique`.\n",
      "computing PCA\n",
      "    with n_comps=50\n",
      "    finished (0:00:45)\n",
      "computing neighbors\n",
      "    using 'X_pca' with n_pcs = 50\n",
      "    finished (0:00:00)\n",
      "computing PCA\n",
      "    with n_comps=50\n",
      "    finished (0:00:33)\n",
      "computing neighbors\n",
      "    using 'X_pca' with n_pcs = 50\n",
      "    finished (0:00:00)\n",
      "computing PCA\n",
      "    with n_comps=50\n"
     ]
    },
    {
     "name": "stdout",
     "output_type": "stream",
     "text": [
      "  done in 86.74991059303284-s\n",
      "\n",
      "Starting Oligodendrocyte progenitor cell\n",
      "----\n",
      "\n"
     ]
    },
    {
     "name": "stderr",
     "output_type": "stream",
     "text": [
      "    finished (0:00:03)\n",
      "computing neighbors\n",
      "    using 'X_pca' with n_pcs = 50\n",
      "    finished (0:00:00)\n",
      "computing PCA\n",
      "    with n_comps=50\n",
      "    finished (0:00:01)\n",
      "computing neighbors\n",
      "    using 'X_pca' with n_pcs = 50\n",
      "    finished (0:00:00)\n"
     ]
    },
    {
     "name": "stdout",
     "output_type": "stream",
     "text": [
      "  done in 4.869595766067505-s\n",
      "\n",
      "Starting Pericyte\n",
      "----\n",
      "\n"
     ]
    },
    {
     "name": "stderr",
     "output_type": "stream",
     "text": [
      "computing PCA\n",
      "    with n_comps=50\n",
      "    finished (0:00:07)\n",
      "computing neighbors\n",
      "    using 'X_pca' with n_pcs = 50\n",
      "    finished (0:00:00)\n",
      "computing PCA\n",
      "    with n_comps=50\n",
      "    finished (0:00:03)\n",
      "computing neighbors\n",
      "    using 'X_pca' with n_pcs = 50\n",
      "    finished (0:00:00)\n"
     ]
    },
    {
     "name": "stdout",
     "output_type": "stream",
     "text": [
      "  done in 11.631805419921875-s\n",
      "\n",
      "Starting Purkinje cell\n",
      "----\n",
      "\n"
     ]
    },
    {
     "name": "stderr",
     "output_type": "stream",
     "text": [
      "computing PCA\n",
      "    with n_comps=50\n",
      "    finished (0:00:21)\n",
      "computing neighbors\n",
      "    using 'X_pca' with n_pcs = 50\n",
      "    finished (0:00:00)\n",
      "computing PCA\n",
      "    with n_comps=50\n",
      "    finished (0:00:08)\n",
      "computing neighbors\n",
      "    using 'X_pca' with n_pcs = 50\n",
      "    finished (0:00:00)\n",
      "computing PCA\n",
      "    with n_comps=50\n"
     ]
    },
    {
     "name": "stdout",
     "output_type": "stream",
     "text": [
      "  done in 31.269460678100586-s\n",
      "\n",
      "Starting Unipolar brush cell\n",
      "----\n",
      "\n"
     ]
    },
    {
     "name": "stderr",
     "output_type": "stream",
     "text": [
      "    finished (0:00:00)\n",
      "computing neighbors\n",
      "    using 'X_pca' with n_pcs = 50\n",
      "    finished (0:00:00)\n",
      "computing PCA\n",
      "    with n_comps=50\n",
      "    finished (0:00:01)\n",
      "computing neighbors\n",
      "    using 'X_pca' with n_pcs = 50\n",
      "    finished (0:00:00)\n"
     ]
    },
    {
     "name": "stdout",
     "output_type": "stream",
     "text": [
      "  done in 2.955840826034546-s\n"
     ]
    }
   ],
   "source": [
    "\n",
    "\n",
    "# aggregate imputed data and pseudotime\n",
    "X = pd.DataFrame()\n",
    "for ii, ctype in enumerate(goi.keys()):\n",
    "\n",
    "    print('\\nStarting {}'.format(ctype))\n",
    "    print('----\\n')\n",
    "    tic = time.time()\n",
    "    \n",
    "    X_wt = scnddyn.meld_pseudotime(wt[wt.obs['ctype_ubcupdate']==ctype, :], \n",
    "                                   goi[ctype], one_df=True)    \n",
    "    X_mut = scnddyn.meld_pseudotime(mut[mut.obs['ctype_ubcupdate']==ctype, :], \n",
    "                                    goi[ctype], one_df=True)\n",
    "    # store in X of interest\n",
    "    X = X.append(X_wt.append(X_mut))\n",
    "\n",
    "    print('  done in {}-s'.format(time.time() - tic))\n",
    "    "
   ]
  },
  {
   "cell_type": "code",
   "execution_count": 6,
   "metadata": {},
   "outputs": [
    {
     "data": {
      "text/html": [
       "<div>\n",
       "<style scoped>\n",
       "    .dataframe tbody tr th:only-of-type {\n",
       "        vertical-align: middle;\n",
       "    }\n",
       "\n",
       "    .dataframe tbody tr th {\n",
       "        vertical-align: top;\n",
       "    }\n",
       "\n",
       "    .dataframe thead th {\n",
       "        text-align: right;\n",
       "    }\n",
       "</style>\n",
       "<table border=\"1\" class=\"dataframe\">\n",
       "  <thead>\n",
       "    <tr style=\"text-align: right;\">\n",
       "      <th></th>\n",
       "      <th>Gm39465</th>\n",
       "      <th>genotype</th>\n",
       "      <th>timepoint</th>\n",
       "      <th>Pseudotime</th>\n",
       "      <th>ctype</th>\n",
       "    </tr>\n",
       "  </thead>\n",
       "  <tbody>\n",
       "    <tr>\n",
       "      <th>AAACCCACAGAGGAAA-1-7202</th>\n",
       "      <td>0.002334</td>\n",
       "      <td>WT</td>\n",
       "      <td>5wk</td>\n",
       "      <td>0.254002</td>\n",
       "      <td>Astrocyte</td>\n",
       "    </tr>\n",
       "    <tr>\n",
       "      <th>AAACGAATCGTGCTCT-1-7202</th>\n",
       "      <td>0.002018</td>\n",
       "      <td>WT</td>\n",
       "      <td>5wk</td>\n",
       "      <td>0.315408</td>\n",
       "      <td>Astrocyte</td>\n",
       "    </tr>\n",
       "    <tr>\n",
       "      <th>AAACGAATCGTGTCAA-1-7202</th>\n",
       "      <td>0.000777</td>\n",
       "      <td>WT</td>\n",
       "      <td>5wk</td>\n",
       "      <td>0.517095</td>\n",
       "      <td>Astrocyte</td>\n",
       "    </tr>\n",
       "    <tr>\n",
       "      <th>AAAGAACCAGTGACCC-1-7202</th>\n",
       "      <td>0.004475</td>\n",
       "      <td>WT</td>\n",
       "      <td>5wk</td>\n",
       "      <td>0.242668</td>\n",
       "      <td>Astrocyte</td>\n",
       "    </tr>\n",
       "    <tr>\n",
       "      <th>AAAGGATAGGGCAGTT-1-7202</th>\n",
       "      <td>0.006860</td>\n",
       "      <td>WT</td>\n",
       "      <td>5wk</td>\n",
       "      <td>0.205261</td>\n",
       "      <td>Astrocyte</td>\n",
       "    </tr>\n",
       "  </tbody>\n",
       "</table>\n",
       "</div>"
      ],
      "text/plain": [
       "                          Gm39465 genotype timepoint  Pseudotime      ctype\n",
       "AAACCCACAGAGGAAA-1-7202  0.002334       WT       5wk    0.254002  Astrocyte\n",
       "AAACGAATCGTGCTCT-1-7202  0.002018       WT       5wk    0.315408  Astrocyte\n",
       "AAACGAATCGTGTCAA-1-7202  0.000777       WT       5wk    0.517095  Astrocyte\n",
       "AAAGAACCAGTGACCC-1-7202  0.004475       WT       5wk    0.242668  Astrocyte\n",
       "AAAGGATAGGGCAGTT-1-7202  0.006860       WT       5wk    0.205261  Astrocyte"
      ]
     },
     "execution_count": 6,
     "metadata": {},
     "output_type": "execute_result"
    }
   ],
   "source": [
    "X.head()"
   ]
  },
  {
   "cell_type": "code",
   "execution_count": 8,
   "metadata": {},
   "outputs": [],
   "source": [
    "x = X.melt(\n",
    "    id_vars=['genotype','timepoint','ctype','Pseudotime'],\n",
    "    value_vars=[i for glist in goi.values() for i in glist],\n",
    "    var_name='Gene',\n",
    "    value_name='Expression')\n",
    "x = x.dropna()"
   ]
  },
  {
   "cell_type": "code",
   "execution_count": 7,
   "metadata": {},
   "outputs": [],
   "source": [
    "X.to_csv(os.path.join(pfp, 'dyn_goi_Gm39465.csv'))"
   ]
  },
  {
   "cell_type": "code",
   "execution_count": null,
   "metadata": {},
   "outputs": [],
   "source": [
    "# plot all ctypes\n",
    "p = sns.lmplot(\n",
    "        x='Pseudotime',\n",
    "        y='Expression',\n",
    "        data=x,\n",
    "        hue='genotype',\n",
    "        col='Gene',\n",
    "        palette=cmap_genotype,\n",
    "        col_wrap=4,\n",
    "        height=2,\n",
    "        aspect=1,\n",
    "        markers='o',\n",
    "        sharex=False,\n",
    "        sharey=False,\n",
    "        hue_order=None,\n",
    "        col_order=None,\n",
    "        legend=False,\n",
    "        legend_out=True,\n",
    "        x_estimator=None,\n",
    "        x_bins=None,\n",
    "        x_ci='ci',\n",
    "        scatter=True,\n",
    "        fit_reg=True,\n",
    "        ci=None,\n",
    "        n_boot=100,\n",
    "        units=None,\n",
    "        seed=None,\n",
    "        order=1,\n",
    "        logistic=False,\n",
    "        lowess=True,\n",
    "        robust=False,\n",
    "        logx=False,\n",
    "        x_partial=None,\n",
    "        y_partial=None,\n",
    "        truncate=True,\n",
    "        x_jitter=None,\n",
    "        y_jitter=None,\n",
    "        scatter_kws={'s':0.5,'alpha':0.33,'rasterized':True},\n",
    "        line_kws={'linewidth':3},\n",
    "        size=None,\n",
    "    )\n",
    "p.set_titles(row_template = '{row_name}', col_template = '{col_name}')\n",
    "p.set(xticks=[])\n",
    "for ax in p.axes.flatten(): # Loop directly on the flattened axes \n",
    "    for _, spine in ax.spines.items():\n",
    "        spine.set_visible(True) # You have to first turn them on\n",
    "        spine.set_color('black')\n",
    "        spine.set_linewidth(1)\n",
    "\n",
    "p.savefig(os.path.join(pfp,'dyn_Gm39465_revision.pdf'),bbox_inches='tight',dpi=600)"
   ]
  },
  {
   "cell_type": "code",
   "execution_count": null,
   "metadata": {},
   "outputs": [],
   "source": []
  }
 ],
 "metadata": {
  "kernelspec": {
   "display_name": "Python 3",
   "language": "python",
   "name": "python3"
  },
  "language_info": {
   "codemirror_mode": {
    "name": "ipython",
    "version": 3
   },
   "file_extension": ".py",
   "mimetype": "text/x-python",
   "name": "python",
   "nbconvert_exporter": "python",
   "pygments_lexer": "ipython3",
   "version": "3.7.4"
  }
 },
 "nbformat": 4,
 "nbformat_minor": 4
}
