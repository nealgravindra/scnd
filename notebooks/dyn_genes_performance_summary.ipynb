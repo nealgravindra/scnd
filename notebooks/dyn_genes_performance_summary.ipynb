{
 "cells": [
  {
   "cell_type": "code",
   "execution_count": 1,
   "metadata": {},
   "outputs": [],
   "source": [
    "import os \n",
    "import pandas as pd\n",
    "import numpy as np"
   ]
  },
  {
   "cell_type": "code",
   "execution_count": 2,
   "metadata": {},
   "outputs": [],
   "source": [
    "pfp = '/home/ngr4/project/scnd/results'\n",
    "\n",
    "data = pd.read_csv(os.path.join(pfp, 'top100_dyngenes_performance.csv'))"
   ]
  },
  {
   "cell_type": "code",
   "execution_count": 5,
   "metadata": {},
   "outputs": [
    {
     "data": {
      "text/plain": [
       "0.9067384753110215"
      ]
     },
     "execution_count": 5,
     "metadata": {},
     "output_type": "execute_result"
    }
   ],
   "source": [
    "data.mean()['r2_wt']"
   ]
  },
  {
   "cell_type": "code",
   "execution_count": 10,
   "metadata": {},
   "outputs": [
    {
     "name": "stdout",
     "output_type": "stream",
     "text": [
      "\n",
      "Purkinje cell:\n",
      "<rsq>_WT: 0.94\n",
      "<rsq>_WT: 0.93\n",
      "\n",
      "Oligodendrocyte progenitor cell:\n",
      "<rsq>_WT: 0.83\n",
      "<rsq>_WT: 0.92\n",
      "\n",
      "Bergmann glia:\n",
      "<rsq>_WT: 0.96\n",
      "<rsq>_WT: 0.98\n",
      "\n",
      "Oligodendrocyte:\n",
      "<rsq>_WT: 0.95\n",
      "<rsq>_WT: 0.96\n",
      "\n",
      "Astrocyte:\n",
      "<rsq>_WT: 0.95\n",
      "<rsq>_WT: 0.96\n",
      "\n",
      "Unipolar brush cell:\n",
      "<rsq>_WT: 0.90\n",
      "<rsq>_WT: 0.88\n",
      "\n",
      "GABAergic interneuron 1:\n",
      "<rsq>_WT: 0.97\n",
      "<rsq>_WT: 0.98\n",
      "\n",
      "Microglia:\n",
      "<rsq>_WT: 0.72\n",
      "<rsq>_WT: 0.80\n",
      "\n",
      "GABAergic interneuron 2:\n",
      "<rsq>_WT: 0.94\n",
      "<rsq>_WT: 0.94\n",
      "\n",
      "Endothelial cell:\n",
      "<rsq>_WT: 0.87\n",
      "<rsq>_WT: 0.87\n",
      "\n",
      "Pericyte:\n",
      "<rsq>_WT: 0.89\n",
      "<rsq>_WT: 0.92\n",
      "\n",
      "GABAergic interneuron 3:\n",
      "<rsq>_WT: 0.87\n",
      "<rsq>_WT: 0.88\n",
      "\n",
      "Granule cell:\n",
      "<rsq>_WT: 0.98\n",
      "<rsq>_WT: 0.98\n",
      "\n",
      "Global ave, rsq: 0.9150819007714788\n"
     ]
    }
   ],
   "source": [
    "x = []\n",
    "for c in data['ctype'].unique():\n",
    "    dt = data.loc[data['ctype']==c, :]\n",
    "    print('\\n{}:'.format(c))\n",
    "    x.append(dt.mean()['r2_wt'])\n",
    "    x.append(dt.mean()['r2_mut'])\n",
    "    print('<rsq>_WT: {:.2f}'.format(dt.mean()['r2_wt']))\n",
    "    print('<rsq>_WT: {:.2f}'.format(dt.mean()['r2_mut']))\n",
    "    \n",
    "print('\\nGlobal ave, rsq: {}'.format(np.mean(x)))"
   ]
  },
  {
   "cell_type": "code",
   "execution_count": null,
   "metadata": {},
   "outputs": [],
   "source": []
  }
 ],
 "metadata": {
  "kernelspec": {
   "display_name": "Python 3",
   "language": "python",
   "name": "python3"
  },
  "language_info": {
   "codemirror_mode": {
    "name": "ipython",
    "version": 3
   },
   "file_extension": ".py",
   "mimetype": "text/x-python",
   "name": "python",
   "nbconvert_exporter": "python",
   "pygments_lexer": "ipython3",
   "version": "3.7.4"
  }
 },
 "nbformat": 4,
 "nbformat_minor": 4
}
